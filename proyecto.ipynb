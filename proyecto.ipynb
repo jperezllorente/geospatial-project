{
 "cells": [
  {
   "cell_type": "markdown",
   "metadata": {},
   "source": [
    "### Overview"
   ]
  },
  {
   "cell_type": "markdown",
   "metadata": {},
   "source": [
    "For this project I have chosen three cities (San Francisco, London and Paris that are known to be good places for gaming companies. The objective of the analysis is to check which of the three is better, and decide where to locate the new offices. "
   ]
  },
  {
   "cell_type": "code",
   "execution_count": 76,
   "metadata": {},
   "outputs": [],
   "source": [
    "import pandas as pd\n",
    "from pymongo import MongoClient\n",
    "import math\n",
    "from functools import reduce\n",
    "import operator"
   ]
  },
  {
   "cell_type": "code",
   "execution_count": 18,
   "metadata": {},
   "outputs": [],
   "source": [
    "# For working with API requests\n",
    "\n",
    "import json, requests"
   ]
  },
  {
   "cell_type": "code",
   "execution_count": null,
   "metadata": {},
   "outputs": [],
   "source": [
    "# For visualization in maps\n",
    "\n",
    "import folium\n",
    "from folium import Choropleth, Circle, Marker, Icon, Map\n",
    "from folium.plugins import HeatMap, MarkerCluster"
   ]
  },
  {
   "cell_type": "code",
   "execution_count": null,
   "metadata": {},
   "outputs": [],
   "source": [
    "#selfmade functions \n",
    "\n",
    "import src.frame as fr\n",
    "import src.maping as mp\n",
    "import src.api as ap\n",
    "import src.distance as dt"
   ]
  },
  {
   "cell_type": "markdown",
   "metadata": {},
   "source": [
    "#### The project is divided in three sections: Mongodb, API and Visualization, and Final Analysis. In each section, the same processes are done with the three selected cities."
   ]
  },
  {
   "cell_type": "markdown",
   "metadata": {},
   "source": [
    "### Mongodb"
   ]
  },
  {
   "cell_type": "code",
   "execution_count": 9,
   "metadata": {},
   "outputs": [],
   "source": [
    "conn = MongoClient(\"localhost:27017\")"
   ]
  },
  {
   "cell_type": "code",
   "execution_count": 10,
   "metadata": {},
   "outputs": [],
   "source": [
    "db = conn.get_database(\"ironhack\")"
   ]
  },
  {
   "cell_type": "code",
   "execution_count": 11,
   "metadata": {},
   "outputs": [],
   "source": [
    "companies = db.get_collection(\"companies\")"
   ]
  },
  {
   "cell_type": "code",
   "execution_count": 12,
   "metadata": {},
   "outputs": [
    {
     "data": {
      "text/plain": [
       "dict_keys(['_id', 'name', 'permalink', 'crunchbase_url', 'homepage_url', 'blog_url', 'blog_feed_url', 'twitter_username', 'category_code', 'number_of_employees', 'founded_year', 'founded_month', 'founded_day', 'deadpooled_year', 'tag_list', 'alias_list', 'email_address', 'phone_number', 'description', 'created_at', 'updated_at', 'overview', 'image', 'products', 'relationships', 'competitions', 'providerships', 'total_money_raised', 'funding_rounds', 'investments', 'acquisition', 'acquisitions', 'offices', 'milestones', 'video_embeds', 'screenshots', 'external_links', 'partners'])"
      ]
     },
     "execution_count": 12,
     "metadata": {},
     "output_type": "execute_result"
    }
   ],
   "source": [
    "companies.find_one().keys()"
   ]
  },
  {
   "cell_type": "markdown",
   "metadata": {},
   "source": [
    "#### San Francisco "
   ]
  },
  {
   "cell_type": "code",
   "execution_count": 14,
   "metadata": {},
   "outputs": [
    {
     "data": {
      "text/html": [
       "<div>\n",
       "<style scoped>\n",
       "    .dataframe tbody tr th:only-of-type {\n",
       "        vertical-align: middle;\n",
       "    }\n",
       "\n",
       "    .dataframe tbody tr th {\n",
       "        vertical-align: top;\n",
       "    }\n",
       "\n",
       "    .dataframe thead th {\n",
       "        text-align: right;\n",
       "    }\n",
       "</style>\n",
       "<table border=\"1\" class=\"dataframe\">\n",
       "  <thead>\n",
       "    <tr style=\"text-align: right;\">\n",
       "      <th></th>\n",
       "      <th>name</th>\n",
       "      <th>category_code</th>\n",
       "      <th>city</th>\n",
       "      <th>latitude</th>\n",
       "      <th>longitude</th>\n",
       "    </tr>\n",
       "  </thead>\n",
       "  <tbody>\n",
       "    <tr>\n",
       "      <th>0</th>\n",
       "      <td>StumbleUpon</td>\n",
       "      <td>web</td>\n",
       "      <td>San Francisco</td>\n",
       "      <td>37.775196</td>\n",
       "      <td>-122.419204</td>\n",
       "    </tr>\n",
       "    <tr>\n",
       "      <th>1</th>\n",
       "      <td>Wesabe</td>\n",
       "      <td>web</td>\n",
       "      <td>San Francisco</td>\n",
       "      <td>37.793148</td>\n",
       "      <td>-122.402567</td>\n",
       "    </tr>\n",
       "    <tr>\n",
       "      <th>2</th>\n",
       "      <td>Pownce</td>\n",
       "      <td>web</td>\n",
       "      <td>San Francisco</td>\n",
       "      <td>37.762541</td>\n",
       "      <td>-122.397224</td>\n",
       "    </tr>\n",
       "    <tr>\n",
       "      <th>3</th>\n",
       "      <td>Zooomr</td>\n",
       "      <td>web</td>\n",
       "      <td>San Francisco</td>\n",
       "      <td>37.775196</td>\n",
       "      <td>-122.419204</td>\n",
       "    </tr>\n",
       "    <tr>\n",
       "      <th>4</th>\n",
       "      <td>Pageflakes</td>\n",
       "      <td>web</td>\n",
       "      <td>San Francisco</td>\n",
       "      <td>37.758113</td>\n",
       "      <td>-122.414689</td>\n",
       "    </tr>\n",
       "  </tbody>\n",
       "</table>\n",
       "</div>"
      ],
      "text/plain": [
       "          name category_code           city   latitude   longitude\n",
       "0  StumbleUpon           web  San Francisco  37.775196 -122.419204\n",
       "1       Wesabe           web  San Francisco  37.793148 -122.402567\n",
       "2       Pownce           web  San Francisco  37.762541 -122.397224\n",
       "3       Zooomr           web  San Francisco  37.775196 -122.419204\n",
       "4   Pageflakes           web  San Francisco  37.758113 -122.414689"
      ]
     },
     "execution_count": 14,
     "metadata": {},
     "output_type": "execute_result"
    }
   ],
   "source": [
    "#We choose 30 companies from each city with the objective of checking if they are very close together, or more dispersed\n",
    "\n",
    "sf = collection(\"San Francisco\", 30)\n",
    "\n",
    "sf_df = fr.city_df(sf, \"San Francisco\")\n",
    "\n",
    "sf_df = sf_df.dropna(0, how = 'all', thresh = 4)\n",
    "\n",
    "sf_df.head()"
   ]
  },
  {
   "cell_type": "markdown",
   "metadata": {},
   "source": [
    "#### London"
   ]
  },
  {
   "cell_type": "code",
   "execution_count": 16,
   "metadata": {},
   "outputs": [
    {
     "data": {
      "text/html": [
       "<div>\n",
       "<style scoped>\n",
       "    .dataframe tbody tr th:only-of-type {\n",
       "        vertical-align: middle;\n",
       "    }\n",
       "\n",
       "    .dataframe tbody tr th {\n",
       "        vertical-align: top;\n",
       "    }\n",
       "\n",
       "    .dataframe thead th {\n",
       "        text-align: right;\n",
       "    }\n",
       "</style>\n",
       "<table border=\"1\" class=\"dataframe\">\n",
       "  <thead>\n",
       "    <tr style=\"text-align: right;\">\n",
       "      <th></th>\n",
       "      <th>name</th>\n",
       "      <th>category_code</th>\n",
       "      <th>city</th>\n",
       "      <th>latitude</th>\n",
       "      <th>longitude</th>\n",
       "    </tr>\n",
       "  </thead>\n",
       "  <tbody>\n",
       "    <tr>\n",
       "      <th>4</th>\n",
       "      <td>Lastminute</td>\n",
       "      <td>web</td>\n",
       "      <td>London</td>\n",
       "      <td>37.090240</td>\n",
       "      <td>-95.712891</td>\n",
       "    </tr>\n",
       "    <tr>\n",
       "      <th>5</th>\n",
       "      <td>Wonga</td>\n",
       "      <td>web</td>\n",
       "      <td>London</td>\n",
       "      <td>51.519204</td>\n",
       "      <td>-0.162610</td>\n",
       "    </tr>\n",
       "    <tr>\n",
       "      <th>6</th>\n",
       "      <td>ITV</td>\n",
       "      <td>web</td>\n",
       "      <td>London</td>\n",
       "      <td>37.090240</td>\n",
       "      <td>-95.712891</td>\n",
       "    </tr>\n",
       "    <tr>\n",
       "      <th>8</th>\n",
       "      <td>Dopplr</td>\n",
       "      <td>web</td>\n",
       "      <td>London</td>\n",
       "      <td>51.523789</td>\n",
       "      <td>-0.087432</td>\n",
       "    </tr>\n",
       "    <tr>\n",
       "      <th>9</th>\n",
       "      <td>Jiglu</td>\n",
       "      <td>software</td>\n",
       "      <td>London</td>\n",
       "      <td>51.542360</td>\n",
       "      <td>-0.149522</td>\n",
       "    </tr>\n",
       "  </tbody>\n",
       "</table>\n",
       "</div>"
      ],
      "text/plain": [
       "         name category_code    city   latitude  longitude\n",
       "4  Lastminute           web  London  37.090240 -95.712891\n",
       "5       Wonga           web  London  51.519204  -0.162610\n",
       "6         ITV           web  London  37.090240 -95.712891\n",
       "8      Dopplr           web  London  51.523789  -0.087432\n",
       "9       Jiglu      software  London  51.542360  -0.149522"
      ]
     },
     "execution_count": 16,
     "metadata": {},
     "output_type": "execute_result"
    }
   ],
   "source": [
    "ln = collection(\"London\", 30)\n",
    "\n",
    "ln_df = fr.city_df(ln, \"London\")\n",
    "\n",
    "ln_df = ln_df.dropna(0, how = 'all', thresh = 4)\n",
    "\n",
    "ln_df.head()"
   ]
  },
  {
   "cell_type": "markdown",
   "metadata": {},
   "source": [
    "#### Paris"
   ]
  },
  {
   "cell_type": "code",
   "execution_count": 17,
   "metadata": {},
   "outputs": [
    {
     "data": {
      "text/html": [
       "<div>\n",
       "<style scoped>\n",
       "    .dataframe tbody tr th:only-of-type {\n",
       "        vertical-align: middle;\n",
       "    }\n",
       "\n",
       "    .dataframe tbody tr th {\n",
       "        vertical-align: top;\n",
       "    }\n",
       "\n",
       "    .dataframe thead th {\n",
       "        text-align: right;\n",
       "    }\n",
       "</style>\n",
       "<table border=\"1\" class=\"dataframe\">\n",
       "  <thead>\n",
       "    <tr style=\"text-align: right;\">\n",
       "      <th></th>\n",
       "      <th>name</th>\n",
       "      <th>category_code</th>\n",
       "      <th>city</th>\n",
       "      <th>latitude</th>\n",
       "      <th>longitude</th>\n",
       "    </tr>\n",
       "  </thead>\n",
       "  <tbody>\n",
       "    <tr>\n",
       "      <th>0</th>\n",
       "      <td>Netvibes</td>\n",
       "      <td>web</td>\n",
       "      <td>Paris</td>\n",
       "      <td>48.870806</td>\n",
       "      <td>2.346680</td>\n",
       "    </tr>\n",
       "    <tr>\n",
       "      <th>1</th>\n",
       "      <td>TVtrip</td>\n",
       "      <td>web</td>\n",
       "      <td>Paris</td>\n",
       "      <td>48.856667</td>\n",
       "      <td>2.350987</td>\n",
       "    </tr>\n",
       "    <tr>\n",
       "      <th>2</th>\n",
       "      <td>WatZatSong</td>\n",
       "      <td>web</td>\n",
       "      <td>Paris</td>\n",
       "      <td>48.866323</td>\n",
       "      <td>2.381514</td>\n",
       "    </tr>\n",
       "    <tr>\n",
       "      <th>3</th>\n",
       "      <td>Jooce</td>\n",
       "      <td>web</td>\n",
       "      <td>Paris</td>\n",
       "      <td>48.856667</td>\n",
       "      <td>2.350987</td>\n",
       "    </tr>\n",
       "    <tr>\n",
       "      <th>4</th>\n",
       "      <td>Trivop</td>\n",
       "      <td>web</td>\n",
       "      <td>Paris</td>\n",
       "      <td>48.855853</td>\n",
       "      <td>2.336575</td>\n",
       "    </tr>\n",
       "  </tbody>\n",
       "</table>\n",
       "</div>"
      ],
      "text/plain": [
       "         name category_code   city   latitude  longitude\n",
       "0    Netvibes           web  Paris  48.870806   2.346680\n",
       "1      TVtrip           web  Paris  48.856667   2.350987\n",
       "2  WatZatSong           web  Paris  48.866323   2.381514\n",
       "3       Jooce           web  Paris  48.856667   2.350987\n",
       "4      Trivop           web  Paris  48.855853   2.336575"
      ]
     },
     "execution_count": 17,
     "metadata": {},
     "output_type": "execute_result"
    }
   ],
   "source": [
    "pr = collection(\"Paris\", 30)\n",
    "\n",
    "pr_df = fr.city_df(pr, \"Paris\")\n",
    "\n",
    "pr_df = pr_df.dropna(0, how = 'all', thresh = 4)\n",
    "\n",
    "pr_df.head()"
   ]
  },
  {
   "cell_type": "markdown",
   "metadata": {},
   "source": [
    "### API and Visualization"
   ]
  },
  {
   "cell_type": "markdown",
   "metadata": {},
   "source": [
    "### San Francisco"
   ]
  },
  {
   "cell_type": "code",
   "execution_count": 20,
   "metadata": {},
   "outputs": [],
   "source": [
    "initial_lat = 37.762541\n",
    "\n",
    "initial_lon = -122.397224"
   ]
  },
  {
   "cell_type": "code",
   "execution_count": 21,
   "metadata": {},
   "outputs": [],
   "source": [
    "map_sf = mp.mapa(initial_lat, initial_lon, 15)"
   ]
  },
  {
   "cell_type": "markdown",
   "metadata": {},
   "source": [
    "#### Starbuks"
   ]
  },
  {
   "cell_type": "code",
   "execution_count": 22,
   "metadata": {},
   "outputs": [],
   "source": [
    "CLIENT_ID = 'KP3LZWOOOVPRQ3SW3RGNNW3OTBF42DQSNG2TTI3AZBVKBYN4'\n",
    "CLIENT_SECRET = 'TOLDQWSBZHJAWHTT51INCWB3TQG4MTKOKQQBT1HXVVDADR35'\n",
    "VERSION = '20180323'\n",
    "LIMIT = 15\n",
    "LL = '37.775196, -122.419204'\n",
    "RAD = 100\n",
    "QUERY = 'StarBucks'"
   ]
  },
  {
   "cell_type": "code",
   "execution_count": 23,
   "metadata": {},
   "outputs": [],
   "source": [
    "url = f'https://api.foursquare.com/v2/venues/explore?&client_id={CLIENT_ID}&client_secret={CLIENT_SECRET}&v={VERSION}&ll={LL}&radius={RAD}&query={QUERY}&limit={LIMIT}'"
   ]
  },
  {
   "cell_type": "code",
   "execution_count": 24,
   "metadata": {},
   "outputs": [],
   "source": [
    "starbucks = ap.extract(url)"
   ]
  },
  {
   "cell_type": "code",
   "execution_count": 25,
   "metadata": {},
   "outputs": [
    {
     "data": {
      "text/plain": [
       "15"
      ]
     },
     "execution_count": 25,
     "metadata": {},
     "output_type": "execute_result"
    }
   ],
   "source": [
    "len(starbucks)"
   ]
  },
  {
   "cell_type": "code",
   "execution_count": 26,
   "metadata": {},
   "outputs": [],
   "source": [
    "starbucks_sf = fr.places_df(starbucks, \"starbucks\", 15)"
   ]
  },
  {
   "cell_type": "markdown",
   "metadata": {},
   "source": [
    "#### Airports"
   ]
  },
  {
   "cell_type": "code",
   "execution_count": 27,
   "metadata": {},
   "outputs": [],
   "source": [
    "CLIENT_ID = 'KP3LZWOOOVPRQ3SW3RGNNW3OTBF42DQSNG2TTI3AZBVKBYN4'\n",
    "CLIENT_SECRET = 'TOLDQWSBZHJAWHTT51INCWB3TQG4MTKOKQQBT1HXVVDADR35'\n",
    "VERSION = '20180323'\n",
    "LIMIT = 5\n",
    "LL = '37.775196, -122.419204'\n",
    "RAD = 30000\n",
    "CATEGORY_ID = '4bf58dd8d48988d1ed931735'"
   ]
  },
  {
   "cell_type": "code",
   "execution_count": 28,
   "metadata": {},
   "outputs": [],
   "source": [
    "url = f'https://api.foursquare.com/v2/venues/explore?&client_id={CLIENT_ID}&client_secret={CLIENT_SECRET}&v={VERSION}&ll={LL}&radius={RAD}&limit={LIMIT}&categoryId={CATEGORY_ID}'"
   ]
  },
  {
   "cell_type": "code",
   "execution_count": 29,
   "metadata": {},
   "outputs": [],
   "source": [
    "airports = ap.extract(url)"
   ]
  },
  {
   "cell_type": "code",
   "execution_count": 30,
   "metadata": {},
   "outputs": [],
   "source": [
    "airports_sf = fr.places_df(airports, \"airport\", 5)"
   ]
  },
  {
   "cell_type": "code",
   "execution_count": 31,
   "metadata": {},
   "outputs": [
    {
     "data": {
      "text/html": [
       "<div>\n",
       "<style scoped>\n",
       "    .dataframe tbody tr th:only-of-type {\n",
       "        vertical-align: middle;\n",
       "    }\n",
       "\n",
       "    .dataframe tbody tr th {\n",
       "        vertical-align: top;\n",
       "    }\n",
       "\n",
       "    .dataframe thead th {\n",
       "        text-align: right;\n",
       "    }\n",
       "</style>\n",
       "<table border=\"1\" class=\"dataframe\">\n",
       "  <thead>\n",
       "    <tr style=\"text-align: right;\">\n",
       "      <th></th>\n",
       "      <th>name</th>\n",
       "      <th>latitud</th>\n",
       "      <th>longitud</th>\n",
       "      <th>category</th>\n",
       "    </tr>\n",
       "  </thead>\n",
       "  <tbody>\n",
       "    <tr>\n",
       "      <th>0</th>\n",
       "      <td>San Francisco International Airport (SFO) (San...</td>\n",
       "      <td>37.616713</td>\n",
       "      <td>-122.387094</td>\n",
       "      <td>airport</td>\n",
       "    </tr>\n",
       "    <tr>\n",
       "      <th>1</th>\n",
       "      <td>Oakland International Airport (OAK) (Oakland I...</td>\n",
       "      <td>37.711731</td>\n",
       "      <td>-122.212495</td>\n",
       "      <td>airport</td>\n",
       "    </tr>\n",
       "    <tr>\n",
       "      <th>2</th>\n",
       "      <td>OAK Runway</td>\n",
       "      <td>37.710480</td>\n",
       "      <td>-122.213753</td>\n",
       "      <td>airport</td>\n",
       "    </tr>\n",
       "    <tr>\n",
       "      <th>3</th>\n",
       "      <td>Hayward Executive Airport (HWD)</td>\n",
       "      <td>37.662295</td>\n",
       "      <td>-122.120114</td>\n",
       "      <td>airport</td>\n",
       "    </tr>\n",
       "    <tr>\n",
       "      <th>4</th>\n",
       "      <td>The Centurion Lounge</td>\n",
       "      <td>37.617609</td>\n",
       "      <td>-122.387915</td>\n",
       "      <td>airport</td>\n",
       "    </tr>\n",
       "  </tbody>\n",
       "</table>\n",
       "</div>"
      ],
      "text/plain": [
       "                                                name    latitud    longitud  \\\n",
       "0  San Francisco International Airport (SFO) (San...  37.616713 -122.387094   \n",
       "1  Oakland International Airport (OAK) (Oakland I...  37.711731 -122.212495   \n",
       "2                                         OAK Runway  37.710480 -122.213753   \n",
       "3                    Hayward Executive Airport (HWD)  37.662295 -122.120114   \n",
       "4                               The Centurion Lounge  37.617609 -122.387915   \n",
       "\n",
       "  category  \n",
       "0  airport  \n",
       "1  airport  \n",
       "2  airport  \n",
       "3  airport  \n",
       "4  airport  "
      ]
     },
     "execution_count": 31,
     "metadata": {},
     "output_type": "execute_result"
    }
   ],
   "source": [
    "airports_sf"
   ]
  },
  {
   "cell_type": "markdown",
   "metadata": {},
   "source": [
    "#### Nightlife"
   ]
  },
  {
   "cell_type": "code",
   "execution_count": 32,
   "metadata": {},
   "outputs": [],
   "source": [
    "CLIENT_ID = 'KP3LZWOOOVPRQ3SW3RGNNW3OTBF42DQSNG2TTI3AZBVKBYN4'\n",
    "CLIENT_SECRET = 'TOLDQWSBZHJAWHTT51INCWB3TQG4MTKOKQQBT1HXVVDADR35'\n",
    "VERSION = '20180323'\n",
    "LIMIT = 15\n",
    "LL = '37.775196, -122.419204'\n",
    "RAD = 30000\n",
    "CATEGORY_ID = '4bf58dd8d48988d116941735'"
   ]
  },
  {
   "cell_type": "code",
   "execution_count": 33,
   "metadata": {},
   "outputs": [],
   "source": [
    "url = f'https://api.foursquare.com/v2/venues/explore?&client_id={CLIENT_ID}&client_secret={CLIENT_SECRET}&v={VERSION}&ll={LL}&radius={RAD}&limit={LIMIT}&categoryId={CATEGORY_ID}'"
   ]
  },
  {
   "cell_type": "code",
   "execution_count": 34,
   "metadata": {},
   "outputs": [],
   "source": [
    "clubs = ap.extract(url)"
   ]
  },
  {
   "cell_type": "code",
   "execution_count": 35,
   "metadata": {},
   "outputs": [],
   "source": [
    "clubs_sf = fr.places_df(clubs, \"club\", 15)"
   ]
  },
  {
   "cell_type": "code",
   "execution_count": 36,
   "metadata": {},
   "outputs": [],
   "source": [
    "frames = [starbucks_sf, airports_sf, clubs_sf]\n",
    "\n",
    "san_francisco = pd.concat(frames)"
   ]
  },
  {
   "cell_type": "code",
   "execution_count": 37,
   "metadata": {},
   "outputs": [],
   "source": [
    "mp.offices(sf_df, map_sf)"
   ]
  },
  {
   "cell_type": "code",
   "execution_count": 38,
   "metadata": {},
   "outputs": [
    {
     "data": {
      "text/html": [
       "<div style=\"width:100%;\"><div style=\"position:relative;width:100%;height:0;padding-bottom:60%;\"><span style=\"color:#565656\">Make this Notebook Trusted to load map: File -> Trust Notebook</span><iframe src=\"about:blank\" style=\"position:absolute;width:100%;height:100%;left:0;top:0;border:none !important;\" data-html=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 onload=\"this.contentDocument.open();this.contentDocument.write(atob(this.getAttribute('data-html')));this.contentDocument.close();\" allowfullscreen webkitallowfullscreen mozallowfullscreen></iframe></div></div>"
      ],
      "text/plain": [
       "<folium.folium.Map at 0x2631c1ed700>"
      ]
     },
     "execution_count": 38,
     "metadata": {},
     "output_type": "execute_result"
    }
   ],
   "source": [
    "mp.full_map(san_francisco, map_sf)"
   ]
  },
  {
   "cell_type": "markdown",
   "metadata": {},
   "source": [
    "### London"
   ]
  },
  {
   "cell_type": "code",
   "execution_count": 39,
   "metadata": {},
   "outputs": [],
   "source": [
    "initial_lat = 51.523789\n",
    "initial_lon = -0.087432"
   ]
  },
  {
   "cell_type": "code",
   "execution_count": 40,
   "metadata": {},
   "outputs": [],
   "source": [
    "map_ln = mapa(initial_lat, initial_lon ,15)"
   ]
  },
  {
   "cell_type": "markdown",
   "metadata": {},
   "source": [
    "#### Starbucks London"
   ]
  },
  {
   "cell_type": "code",
   "execution_count": 41,
   "metadata": {},
   "outputs": [],
   "source": [
    "CLIENT_ID = 'KP3LZWOOOVPRQ3SW3RGNNW3OTBF42DQSNG2TTI3AZBVKBYN4'\n",
    "CLIENT_SECRET = 'TOLDQWSBZHJAWHTT51INCWB3TQG4MTKOKQQBT1HXVVDADR35'\n",
    "VERSION = '20180323'\n",
    "LIMIT = 15\n",
    "LL = '51.500152, -0.087432'\n",
    "RAD = 200\n",
    "QUERY = 'StarBucks'"
   ]
  },
  {
   "cell_type": "code",
   "execution_count": 42,
   "metadata": {},
   "outputs": [],
   "source": [
    "url = f'https://api.foursquare.com/v2/venues/explore?&client_id={CLIENT_ID}&client_secret={CLIENT_SECRET}&v={VERSION}&ll={LL}&radius={RAD}&query={QUERY}&limit={LIMIT}'"
   ]
  },
  {
   "cell_type": "code",
   "execution_count": 43,
   "metadata": {},
   "outputs": [],
   "source": [
    "starbucks = ap.extract(url)"
   ]
  },
  {
   "cell_type": "code",
   "execution_count": 44,
   "metadata": {},
   "outputs": [],
   "source": [
    "starbucks_ln = fr.places_df(starbucks, \"starbucks\", 15)"
   ]
  },
  {
   "cell_type": "code",
   "execution_count": 45,
   "metadata": {},
   "outputs": [
    {
     "data": {
      "text/html": [
       "<div>\n",
       "<style scoped>\n",
       "    .dataframe tbody tr th:only-of-type {\n",
       "        vertical-align: middle;\n",
       "    }\n",
       "\n",
       "    .dataframe tbody tr th {\n",
       "        vertical-align: top;\n",
       "    }\n",
       "\n",
       "    .dataframe thead th {\n",
       "        text-align: right;\n",
       "    }\n",
       "</style>\n",
       "<table border=\"1\" class=\"dataframe\">\n",
       "  <thead>\n",
       "    <tr style=\"text-align: right;\">\n",
       "      <th></th>\n",
       "      <th>name</th>\n",
       "      <th>latitud</th>\n",
       "      <th>longitud</th>\n",
       "      <th>category</th>\n",
       "    </tr>\n",
       "  </thead>\n",
       "  <tbody>\n",
       "    <tr>\n",
       "      <th>0</th>\n",
       "      <td>Starbucks</td>\n",
       "      <td>51.504796</td>\n",
       "      <td>-0.086873</td>\n",
       "      <td>starbucks</td>\n",
       "    </tr>\n",
       "    <tr>\n",
       "      <th>1</th>\n",
       "      <td>Starbucks</td>\n",
       "      <td>51.500896</td>\n",
       "      <td>-0.093399</td>\n",
       "      <td>starbucks</td>\n",
       "    </tr>\n",
       "    <tr>\n",
       "      <th>2</th>\n",
       "      <td>Starbucks</td>\n",
       "      <td>51.504041</td>\n",
       "      <td>-0.075553</td>\n",
       "      <td>starbucks</td>\n",
       "    </tr>\n",
       "    <tr>\n",
       "      <th>3</th>\n",
       "      <td>Starbucks</td>\n",
       "      <td>51.505487</td>\n",
       "      <td>-0.085133</td>\n",
       "      <td>starbucks</td>\n",
       "    </tr>\n",
       "    <tr>\n",
       "      <th>4</th>\n",
       "      <td>Starbucks</td>\n",
       "      <td>51.508436</td>\n",
       "      <td>-0.079160</td>\n",
       "      <td>starbucks</td>\n",
       "    </tr>\n",
       "  </tbody>\n",
       "</table>\n",
       "</div>"
      ],
      "text/plain": [
       "        name    latitud  longitud   category\n",
       "0  Starbucks  51.504796 -0.086873  starbucks\n",
       "1  Starbucks  51.500896 -0.093399  starbucks\n",
       "2  Starbucks  51.504041 -0.075553  starbucks\n",
       "3  Starbucks  51.505487 -0.085133  starbucks\n",
       "4  Starbucks  51.508436 -0.079160  starbucks"
      ]
     },
     "execution_count": 45,
     "metadata": {},
     "output_type": "execute_result"
    }
   ],
   "source": [
    "starbucks_ln.head()"
   ]
  },
  {
   "cell_type": "markdown",
   "metadata": {},
   "source": [
    "#### Airtports London"
   ]
  },
  {
   "cell_type": "code",
   "execution_count": 46,
   "metadata": {},
   "outputs": [],
   "source": [
    "CLIENT_ID = 'KP3LZWOOOVPRQ3SW3RGNNW3OTBF42DQSNG2TTI3AZBVKBYN4'\n",
    "CLIENT_SECRET = 'TOLDQWSBZHJAWHTT51INCWB3TQG4MTKOKQQBT1HXVVDADR35'\n",
    "VERSION = '20180323'\n",
    "LIMIT = 5\n",
    "LL = '51.500152, -0.126236'\n",
    "RAD = 30000\n",
    "CATEGORY_ID = '4bf58dd8d48988d1ed931735'"
   ]
  },
  {
   "cell_type": "code",
   "execution_count": 47,
   "metadata": {},
   "outputs": [],
   "source": [
    "url = f'https://api.foursquare.com/v2/venues/explore?&client_id={CLIENT_ID}&client_secret={CLIENT_SECRET}&v={VERSION}&ll={LL}&radius={RAD}&limit={LIMIT}&categoryId={CATEGORY_ID}'"
   ]
  },
  {
   "cell_type": "code",
   "execution_count": 48,
   "metadata": {},
   "outputs": [],
   "source": [
    "airports = ap.extract(url)"
   ]
  },
  {
   "cell_type": "code",
   "execution_count": 49,
   "metadata": {},
   "outputs": [],
   "source": [
    "airports_ln = fr.places_df(airports, \"airport\", 5)"
   ]
  },
  {
   "cell_type": "code",
   "execution_count": 50,
   "metadata": {},
   "outputs": [
    {
     "data": {
      "text/html": [
       "<div>\n",
       "<style scoped>\n",
       "    .dataframe tbody tr th:only-of-type {\n",
       "        vertical-align: middle;\n",
       "    }\n",
       "\n",
       "    .dataframe tbody tr th {\n",
       "        vertical-align: top;\n",
       "    }\n",
       "\n",
       "    .dataframe thead th {\n",
       "        text-align: right;\n",
       "    }\n",
       "</style>\n",
       "<table border=\"1\" class=\"dataframe\">\n",
       "  <thead>\n",
       "    <tr style=\"text-align: right;\">\n",
       "      <th></th>\n",
       "      <th>name</th>\n",
       "      <th>latitud</th>\n",
       "      <th>longitud</th>\n",
       "      <th>category</th>\n",
       "    </tr>\n",
       "  </thead>\n",
       "  <tbody>\n",
       "    <tr>\n",
       "      <th>0</th>\n",
       "      <td>London Heathrow Airport (LHR) (London Heathrow...</td>\n",
       "      <td>51.469408</td>\n",
       "      <td>-0.462348</td>\n",
       "      <td>airport</td>\n",
       "    </tr>\n",
       "    <tr>\n",
       "      <th>1</th>\n",
       "      <td>London City Airport (LCY) (London City Airport)</td>\n",
       "      <td>51.503736</td>\n",
       "      <td>0.049638</td>\n",
       "      <td>airport</td>\n",
       "    </tr>\n",
       "    <tr>\n",
       "      <th>2</th>\n",
       "      <td>Biggin Hill Airport (BQH) (Biggin Hill Airport)</td>\n",
       "      <td>51.331794</td>\n",
       "      <td>0.028845</td>\n",
       "      <td>airport</td>\n",
       "    </tr>\n",
       "    <tr>\n",
       "      <th>3</th>\n",
       "      <td>Elstree Aerodrome</td>\n",
       "      <td>51.654570</td>\n",
       "      <td>-0.323946</td>\n",
       "      <td>airport</td>\n",
       "    </tr>\n",
       "    <tr>\n",
       "      <th>4</th>\n",
       "      <td>Virgin Atlantic Clubhouse</td>\n",
       "      <td>51.470186</td>\n",
       "      <td>-0.460540</td>\n",
       "      <td>airport</td>\n",
       "    </tr>\n",
       "  </tbody>\n",
       "</table>\n",
       "</div>"
      ],
      "text/plain": [
       "                                                name    latitud  longitud  \\\n",
       "0  London Heathrow Airport (LHR) (London Heathrow...  51.469408 -0.462348   \n",
       "1    London City Airport (LCY) (London City Airport)  51.503736  0.049638   \n",
       "2    Biggin Hill Airport (BQH) (Biggin Hill Airport)  51.331794  0.028845   \n",
       "3                                  Elstree Aerodrome  51.654570 -0.323946   \n",
       "4                          Virgin Atlantic Clubhouse  51.470186 -0.460540   \n",
       "\n",
       "  category  \n",
       "0  airport  \n",
       "1  airport  \n",
       "2  airport  \n",
       "3  airport  \n",
       "4  airport  "
      ]
     },
     "execution_count": 50,
     "metadata": {},
     "output_type": "execute_result"
    }
   ],
   "source": [
    "airports_ln"
   ]
  },
  {
   "cell_type": "markdown",
   "metadata": {},
   "source": [
    "#### Nightlife "
   ]
  },
  {
   "cell_type": "code",
   "execution_count": 51,
   "metadata": {},
   "outputs": [],
   "source": [
    "CLIENT_ID = 'KP3LZWOOOVPRQ3SW3RGNNW3OTBF42DQSNG2TTI3AZBVKBYN4'\n",
    "CLIENT_SECRET = 'TOLDQWSBZHJAWHTT51INCWB3TQG4MTKOKQQBT1HXVVDADR35'\n",
    "VERSION = '20180323'\n",
    "LIMIT = 15\n",
    "LL = '51.500152, -0.126236'\n",
    "RAD = 300\n",
    "CATEGORY_ID = '4bf58dd8d48988d116941735'"
   ]
  },
  {
   "cell_type": "code",
   "execution_count": 52,
   "metadata": {},
   "outputs": [],
   "source": [
    "url = f'https://api.foursquare.com/v2/venues/explore?&client_id={CLIENT_ID}&client_secret={CLIENT_SECRET}&v={VERSION}&ll={LL}&radius={RAD}&limit={LIMIT}&categoryId={CATEGORY_ID}'"
   ]
  },
  {
   "cell_type": "code",
   "execution_count": 53,
   "metadata": {},
   "outputs": [],
   "source": [
    "clubs = ap.extract(url)"
   ]
  },
  {
   "cell_type": "code",
   "execution_count": 54,
   "metadata": {},
   "outputs": [],
   "source": [
    "clubs_ln = fr.places_df(clubs, \"club\", 7)"
   ]
  },
  {
   "cell_type": "code",
   "execution_count": 55,
   "metadata": {},
   "outputs": [],
   "source": [
    "frames = [airports_ln, starbucks_ln, clubs_ln]\n",
    "\n",
    "london = pd.concat(frames)"
   ]
  },
  {
   "cell_type": "code",
   "execution_count": 56,
   "metadata": {},
   "outputs": [],
   "source": [
    "mp.offices(ln_df, map_ln)"
   ]
  },
  {
   "cell_type": "code",
   "execution_count": 57,
   "metadata": {},
   "outputs": [
    {
     "data": {
      "text/html": [
       "<div style=\"width:100%;\"><div style=\"position:relative;width:100%;height:0;padding-bottom:60%;\"><span style=\"color:#565656\">Make this Notebook Trusted to load map: File -> Trust Notebook</span><iframe src=\"about:blank\" style=\"position:absolute;width:100%;height:100%;left:0;top:0;border:none !important;\" data-html=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 onload=\"this.contentDocument.open();this.contentDocument.write(atob(this.getAttribute('data-html')));this.contentDocument.close();\" allowfullscreen webkitallowfullscreen mozallowfullscreen></iframe></div></div>"
      ],
      "text/plain": [
       "<folium.folium.Map at 0x2631cace7c0>"
      ]
     },
     "execution_count": 57,
     "metadata": {},
     "output_type": "execute_result"
    }
   ],
   "source": [
    "mp.full_map(london, map_ln)"
   ]
  },
  {
   "cell_type": "markdown",
   "metadata": {},
   "source": [
    "### Paris"
   ]
  },
  {
   "cell_type": "code",
   "execution_count": 58,
   "metadata": {},
   "outputs": [],
   "source": [
    "initial_lat = 48.866323\n",
    "initial_long = 2.381514"
   ]
  },
  {
   "cell_type": "code",
   "execution_count": 59,
   "metadata": {},
   "outputs": [],
   "source": [
    "map_pr = mapa(initial_lat, initial_long, 15)"
   ]
  },
  {
   "cell_type": "markdown",
   "metadata": {},
   "source": [
    "#### Starbucks"
   ]
  },
  {
   "cell_type": "code",
   "execution_count": 60,
   "metadata": {},
   "outputs": [],
   "source": [
    "CLIENT_ID = 'KP3LZWOOOVPRQ3SW3RGNNW3OTBF42DQSNG2TTI3AZBVKBYN4'\n",
    "CLIENT_SECRET = 'TOLDQWSBZHJAWHTT51INCWB3TQG4MTKOKQQBT1HXVVDADR35'\n",
    "VERSION = '20180323'\n",
    "LIMIT = 15\n",
    "LL = '48.866323, 2.381514'\n",
    "RAD = 200\n",
    "QUERY = 'StarBucks'"
   ]
  },
  {
   "cell_type": "code",
   "execution_count": 61,
   "metadata": {},
   "outputs": [],
   "source": [
    "url = f'https://api.foursquare.com/v2/venues/explore?&client_id={CLIENT_ID}&client_secret={CLIENT_SECRET}&v={VERSION}&ll={LL}&radius={RAD}&query={QUERY}&limit={LIMIT}'"
   ]
  },
  {
   "cell_type": "code",
   "execution_count": 62,
   "metadata": {},
   "outputs": [],
   "source": [
    "starbucks = ap.extract(url)"
   ]
  },
  {
   "cell_type": "code",
   "execution_count": 63,
   "metadata": {},
   "outputs": [],
   "source": [
    "starbucks_pr = fr.places_df(starbucks, \"starbucks\", 15)"
   ]
  },
  {
   "cell_type": "markdown",
   "metadata": {},
   "source": [
    "#### Airports"
   ]
  },
  {
   "cell_type": "code",
   "execution_count": 64,
   "metadata": {},
   "outputs": [],
   "source": [
    "CLIENT_ID = 'KP3LZWOOOVPRQ3SW3RGNNW3OTBF42DQSNG2TTI3AZBVKBYN4'\n",
    "CLIENT_SECRET = 'TOLDQWSBZHJAWHTT51INCWB3TQG4MTKOKQQBT1HXVVDADR35'\n",
    "VERSION = '20180323'\n",
    "LIMIT = 5\n",
    "LL = '48.855853, 2.336575'\n",
    "RAD = 30000\n",
    "CATEGORY_ID = '4bf58dd8d48988d1ed931735'"
   ]
  },
  {
   "cell_type": "code",
   "execution_count": 65,
   "metadata": {},
   "outputs": [],
   "source": [
    "url = f'https://api.foursquare.com/v2/venues/explore?&client_id={CLIENT_ID}&client_secret={CLIENT_SECRET}&v={VERSION}&ll={LL}&radius={RAD}&limit={LIMIT}&categoryId={CATEGORY_ID}'"
   ]
  },
  {
   "cell_type": "code",
   "execution_count": 66,
   "metadata": {},
   "outputs": [],
   "source": [
    "airports = ap.extract(url)"
   ]
  },
  {
   "cell_type": "code",
   "execution_count": 67,
   "metadata": {},
   "outputs": [],
   "source": [
    "airports_pr = fr.places_df(airports, \"airport\", 5)"
   ]
  },
  {
   "cell_type": "markdown",
   "metadata": {},
   "source": [
    "#### Nightlife\n"
   ]
  },
  {
   "cell_type": "code",
   "execution_count": 68,
   "metadata": {},
   "outputs": [],
   "source": [
    "CLIENT_ID = 'KP3LZWOOOVPRQ3SW3RGNNW3OTBF42DQSNG2TTI3AZBVKBYN4'\n",
    "CLIENT_SECRET = 'TOLDQWSBZHJAWHTT51INCWB3TQG4MTKOKQQBT1HXVVDADR35'\n",
    "VERSION = '20180323'\n",
    "LIMIT = 15\n",
    "LL = '48.855853, 2.336575'\n",
    "RAD = 30000\n",
    "CATEGORY_ID = '4bf58dd8d48988d116941735'"
   ]
  },
  {
   "cell_type": "code",
   "execution_count": 69,
   "metadata": {},
   "outputs": [],
   "source": [
    "url = f'https://api.foursquare.com/v2/venues/explore?&client_id={CLIENT_ID}&client_secret={CLIENT_SECRET}&v={VERSION}&ll={LL}&radius={RAD}&limit={LIMIT}&categoryId={CATEGORY_ID}'"
   ]
  },
  {
   "cell_type": "code",
   "execution_count": 70,
   "metadata": {},
   "outputs": [],
   "source": [
    "clubs = ap.extract(url)"
   ]
  },
  {
   "cell_type": "code",
   "execution_count": 71,
   "metadata": {},
   "outputs": [],
   "source": [
    "clubs_pr = fr.places_df(clubs, \"club\", 15)"
   ]
  },
  {
   "cell_type": "code",
   "execution_count": 72,
   "metadata": {},
   "outputs": [],
   "source": [
    "frames = [airports_pr, starbucks_pr, clubs_pr]\n",
    "\n",
    "paris = pd.concat(frames)"
   ]
  },
  {
   "cell_type": "code",
   "execution_count": 73,
   "metadata": {},
   "outputs": [],
   "source": [
    "mp.offices(pr_df, map_pr)"
   ]
  },
  {
   "cell_type": "code",
   "execution_count": 74,
   "metadata": {
    "scrolled": true
   },
   "outputs": [
    {
     "data": {
      "text/html": [
       "<div style=\"width:100%;\"><div style=\"position:relative;width:100%;height:0;padding-bottom:60%;\"><span style=\"color:#565656\">Make this Notebook Trusted to load map: File -> Trust Notebook</span><iframe src=\"about:blank\" style=\"position:absolute;width:100%;height:100%;left:0;top:0;border:none !important;\" data-html=PCFET0NUWVBFIGh0bWw+CjxoZWFkPiAgICAKICAgIDxtZXRhIGh0dHAtZXF1aXY9ImNvbnRlbnQtdHlwZSIgY29udGVudD0idGV4dC9odG1sOyBjaGFyc2V0PVVURi04IiAvPgogICAgCiAgICAgICAgPHNjcmlwdD4KICAgICAgICAgICAgTF9OT19UT1VDSCA9IGZhbHNlOwogICAgICAgICAgICBMX0RJU0FCTEVfM0QgPSBmYWxzZTsKICAgICAgICA8L3NjcmlwdD4KICAgIAogICAgPHNjcmlwdCBzcmM9Imh0dHBzOi8vY2RuLmpzZGVsaXZyLm5ldC9ucG0vbGVhZmxldEAxLjYuMC9kaXN0L2xlYWZsZXQuanMiPjwvc2NyaXB0PgogICAgPHNjcmlwdCBzcmM9Imh0dHBzOi8vY29kZS5qcXVlcnkuY29tL2pxdWVyeS0xLjEyLjQubWluLmpzIj48L3NjcmlwdD4KICAgIDxzY3JpcHQgc3JjPSJodHRwczovL21heGNkbi5ib290c3RyYXBjZG4uY29tL2Jvb3RzdHJhcC8zLjIuMC9qcy9ib290c3RyYXAubWluLmpzIj48L3NjcmlwdD4KICAgIDxzY3JpcHQgc3JjPSJodHRwczovL2NkbmpzLmNsb3VkZmxhcmUuY29tL2FqYXgvbGlicy9MZWFmbGV0LmF3ZXNvbWUtbWFya2Vycy8yLjAuMi9sZWFmbGV0LmF3ZXNvbWUtbWFya2Vycy5qcyI+PC9zY3JpcHQ+CiAgICA8bGluayByZWw9InN0eWxlc2hlZXQiIGhyZWY9Imh0dHBzOi8vY2RuLmpzZGVsaXZyLm5ldC9ucG0vbGVhZmxldEAxLjYuMC9kaXN0L2xlYWZsZXQuY3NzIi8+CiAgICA8bGluayByZWw9InN0eWxlc2hlZXQiIGhyZWY9Imh0dHBzOi8vbWF4Y2RuLmJvb3RzdHJhcGNkbi5jb20vYm9vdHN0cmFwLzMuMi4wL2Nzcy9ib290c3RyYXAubWluLmNzcyIvPgogICAgPGxpbmsgcmVsPSJzdHlsZXNoZWV0IiBocmVmPSJodHRwczovL21heGNkbi5ib290c3RyYXBjZG4uY29tL2Jvb3RzdHJhcC8zLjIuMC9jc3MvYm9vdHN0cmFwLXRoZW1lLm1pbi5jc3MiLz4KICAgIDxsaW5rIHJlbD0ic3R5bGVzaGVldCIgaHJlZj0iaHR0cHM6Ly9tYXhjZG4uYm9vdHN0cmFwY2RuLmNvbS9mb250LWF3ZXNvbWUvNC42LjMvY3NzL2ZvbnQtYXdlc29tZS5taW4uY3NzIi8+CiAgICA8bGluayByZWw9InN0eWxlc2hlZXQiIGhyZWY9Imh0dHBzOi8vY2RuanMuY2xvdWRmbGFyZS5jb20vYWpheC9saWJzL0xlYWZsZXQuYXdlc29tZS1tYXJrZXJzLzIuMC4yL2xlYWZsZXQuYXdlc29tZS1tYXJrZXJzLmNzcyIvPgogICAgPGxpbmsgcmVsPSJzdHlsZXNoZWV0IiBocmVmPSJodHRwczovL3Jhd2Nkbi5naXRoYWNrLmNvbS9weXRob24tdmlzdWFsaXphdGlvbi9mb2xpdW0vbWFzdGVyL2ZvbGl1bS90ZW1wbGF0ZXMvbGVhZmxldC5hd2Vzb21lLnJvdGF0ZS5jc3MiLz4KICAgIDxzdHlsZT5odG1sLCBib2R5IHt3aWR0aDogMTAwJTtoZWlnaHQ6IDEwMCU7bWFyZ2luOiAwO3BhZGRpbmc6IDA7fTwvc3R5bGU+CiAgICA8c3R5bGU+I21hcCB7cG9zaXRpb246YWJzb2x1dGU7dG9wOjA7Ym90dG9tOjA7cmlnaHQ6MDtsZWZ0OjA7fTwvc3R5bGU+CiAgICAKICAgICAgICAgICAgPG1ldGEgbmFtZT0idmlld3BvcnQiIGNvbnRlbnQ9IndpZHRoPWRldmljZS13aWR0aCwKICAgICAgICAgICAgICAgIGluaXRpYWwtc2NhbGU9MS4wLCBtYXhpbXVtLXNjYWxlPTEuMCwgdXNlci1zY2FsYWJsZT1ubyIgLz4KICAgICAgICAgICAgPHN0eWxlPgogICAgICAgICAgICAgICAgI21hcF9hZGNhOTliZTJiYmI0Y2NkYTc5N2JhNWU4ZDNjOWI0ZSB7CiAgICAgICAgICAgICAgICAgICAgcG9zaXRpb246IHJlbGF0aXZlOwogICAgICAgICAgICAgICAgICAgIHdpZHRoOiAxMDAuMCU7CiAgICAgICAgICAgICAgICAgICAgaGVpZ2h0OiAxMDAuMCU7CiAgICAgICAgICAgICAgICAgICAgbGVmdDogMC4wJTsKICAgICAgICAgICAgICAgICAgICB0b3A6IDAuMCU7CiAgICAgICAgICAgICAgICB9CiAgICAgICAgICAgIDwvc3R5bGU+CiAgICAgICAgCjwvaGVhZD4KPGJvZHk+ICAgIAogICAgCiAgICAgICAgICAgIDxkaXYgY2xhc3M9ImZvbGl1bS1tYXAiIGlkPSJtYXBfYWRjYTk5YmUyYmJiNGNjZGE3OTdiYTVlOGQzYzliNGUiID48L2Rpdj4KICAgICAgICAKPC9ib2R5Pgo8c2NyaXB0PiAgICAKICAgIAogICAgICAgICAgICB2YXIgbWFwX2FkY2E5OWJlMmJiYjRjY2RhNzk3YmE1ZThkM2M5YjRlID0gTC5tYXAoCiAgICAgICAgICAgICAgICAibWFwX2FkY2E5OWJlMmJiYjRjY2RhNzk3YmE1ZThkM2M5YjRlIiwKICAgICAgICAgICAgICAgIHsKICAgICAgICAgICAgICAgICAgICBjZW50ZXI6IFs0OC44NjYzMjMsIDIuMzgxNTE0XSwKICAgICAgICAgICAgICAgICAgICBjcnM6IEwuQ1JTLkVQU0czODU3LAogICAgICAgICAgICAgICAgICAgIHpvb206IDE1LAogICAgICAgICAgICAgICAgICAgIHpvb21Db250cm9sOiB0cnVlLAogICAgICAgICAgICAgICAgICAgIHByZWZlckNhbnZhczogZmFsc2UsCiAgICAgICAgICAgICAgICB9CiAgICAgICAgICAgICk7CgogICAgICAgICAgICAKCiAgICAgICAgCiAgICAKICAgICAgICAgICAgdmFyIHRpbGVfbGF5ZXJfZjRlMGNlYzViNTE5NGRhOWI2NTUwOGNlYjM0N2QyMzIgPSBMLnRpbGVMYXllcigKICAgICAgICAgICAgICAgICJodHRwczovL3tzfS50aWxlLm9wZW5zdHJlZXRtYXAub3JnL3t6fS97eH0ve3l9LnBuZyIsCiAgICAgICAgICAgICAgICB7ImF0dHJpYnV0aW9uIjogIkRhdGEgYnkgXHUwMDI2Y29weTsgXHUwMDNjYSBocmVmPVwiaHR0cDovL29wZW5zdHJlZXRtYXAub3JnXCJcdTAwM2VPcGVuU3RyZWV0TWFwXHUwMDNjL2FcdTAwM2UsIHVuZGVyIFx1MDAzY2EgaHJlZj1cImh0dHA6Ly93d3cub3BlbnN0cmVldG1hcC5vcmcvY29weXJpZ2h0XCJcdTAwM2VPRGJMXHUwMDNjL2FcdTAwM2UuIiwgImRldGVjdFJldGluYSI6IGZhbHNlLCAibWF4TmF0aXZlWm9vbSI6IDE4LCAibWF4Wm9vbSI6IDE4LCAibWluWm9vbSI6IDAsICJub1dyYXAiOiBmYWxzZSwgIm9wYWNpdHkiOiAxLCAic3ViZG9tYWlucyI6ICJhYmMiLCAidG1zIjogZmFsc2V9CiAgICAgICAgICAgICkuYWRkVG8obWFwX2FkY2E5OWJlMmJiYjRjY2RhNzk3YmE1ZThkM2M5YjRlKTsKICAgICAgICAKICAgIAogICAgICAgICAgICB2YXIgbWFya2VyX2UzMmNiMTA5MzMwMTQxMDA5Njc5N2RlOTgzNGI0NWEwID0gTC5tYXJrZXIoCiAgICAgICAgICAgICAgICBbNDguODcwODA2LCAyLjM0NjY4XSwKICAgICAgICAgICAgICAgIHt9CiAgICAgICAgICAgICkuYWRkVG8obWFwX2FkY2E5OWJlMmJiYjRjY2RhNzk3YmE1ZThkM2M5YjRlKTsKICAgICAgICAKICAgIAogICAgICAgICAgICB2YXIgaWNvbl9kYWJiNWI2NmE3MjY0N2I1ODU0OWNmNmYxNGYzZTAyNiA9IEwuQXdlc29tZU1hcmtlcnMuaWNvbigKICAgICAgICAgICAgICAgIHsiZXh0cmFDbGFzc2VzIjogImZhLXJvdGF0ZS0wIiwgImljb24iOiAiYnJpZWZjYXNlIiwgImljb25Db2xvciI6ICJibGFjayIsICJtYXJrZXJDb2xvciI6ICJsaWdodGJsdWUiLCAicHJlZml4IjogImZhIn0KICAgICAgICAgICAgKTsKICAgICAgICAgICAgbWFya2VyX2UzMmNiMTA5MzMwMTQxMDA5Njc5N2RlOTgzNGI0NWEwLnNldEljb24oaWNvbl9kYWJiNWI2NmE3MjY0N2I1ODU0OWNmNmYxNGYzZTAyNik7CiAgICAgICAgCiAgICAKICAgICAgICAgICAgbWFya2VyX2UzMmNiMTA5MzMwMTQxMDA5Njc5N2RlOTgzNGI0NWEwLmJpbmRUb29sdGlwKAogICAgICAgICAgICAgICAgYDxkaXY+CiAgICAgICAgICAgICAgICAgICAgIE5ldHZpYmVzCiAgICAgICAgICAgICAgICAgPC9kaXY+YCwKICAgICAgICAgICAgICAgIHsic3RpY2t5IjogdHJ1ZX0KICAgICAgICAgICAgKTsKICAgICAgICAKICAgIAogICAgICAgICAgICB2YXIgbWFya2VyXzZlMjJjOWI1YWRlNzRlOTk4YTY2ZmRjNjZlNGU4Yzc0ID0gTC5tYXJrZXIoCiAgICAgICAgICAgICAgICBbNDguODU2NjY3LCAyLjM1MDk4N10sCiAgICAgICAgICAgICAgICB7fQogICAgICAgICAgICApLmFkZFRvKG1hcF9hZGNhOTliZTJiYmI0Y2NkYTc5N2JhNWU4ZDNjOWI0ZSk7CiAgICAgICAgCiAgICAKICAgICAgICAgICAgdmFyIGljb25fMDZlYTg0MTViZWZjNDU0N2JlNjI1YzE5MjYwMGZmMTQgPSBMLkF3ZXNvbWVNYXJrZXJzLmljb24oCiAgICAgICAgICAgICAgICB7ImV4dHJhQ2xhc3NlcyI6ICJmYS1yb3RhdGUtMCIsICJpY29uIjogImJyaWVmY2FzZSIsICJpY29uQ29sb3IiOiAiYmxhY2siLCAibWFya2VyQ29sb3IiOiAibGlnaHRibHVlIiwgInByZWZpeCI6ICJmYSJ9CiAgICAgICAgICAgICk7CiAgICAgICAgICAgIG1hcmtlcl82ZTIyYzliNWFkZTc0ZTk5OGE2NmZkYzY2ZTRlOGM3NC5zZXRJY29uKGljb25fMDZlYTg0MTViZWZjNDU0N2JlNjI1YzE5MjYwMGZmMTQpOwogICAgICAgIAogICAgCiAgICAgICAgICAgIG1hcmtlcl82ZTIyYzliNWFkZTc0ZTk5OGE2NmZkYzY2ZTRlOGM3NC5iaW5kVG9vbHRpcCgKICAgICAgICAgICAgICAgIGA8ZGl2PgogICAgICAgICAgICAgICAgICAgICBUVnRyaXAKICAgICAgICAgICAgICAgICA8L2Rpdj5gLAogICAgICAgICAgICAgICAgeyJzdGlja3kiOiB0cnVlfQogICAgICAgICAgICApOwogICAgICAgIAogICAgCiAgICAgICAgICAgIHZhciBtYXJrZXJfNjRkNjgyMzhmOGY2NDBmMTk2NzUxM2QwZTljZjJiYjEgPSBMLm1hcmtlcigKICAgICAgICAgICAgICAgIFs0OC44NjYzMjMsIDIuMzgxNTE0XSwKICAgICAgICAgICAgICAgIHt9CiAgICAgICAgICAgICkuYWRkVG8obWFwX2FkY2E5OWJlMmJiYjRjY2RhNzk3YmE1ZThkM2M5YjRlKTsKICAgICAgICAKICAgIAogICAgICAgICAgICB2YXIgaWNvbl82MTMzN2ZiNDFhZDU0ZTQyYjk0NmYwYWUyN2Q4ZjcxYSA9IEwuQXdlc29tZU1hcmtlcnMuaWNvbigKICAgICAgICAgICAgICAgIHsiZXh0cmFDbGFzc2VzIjogImZhLXJvdGF0ZS0wIiwgImljb24iOiAiYnJpZWZjYXNlIiwgImljb25Db2xvciI6ICJibGFjayIsICJtYXJrZXJDb2xvciI6ICJsaWdodGJsdWUiLCAicHJlZml4IjogImZhIn0KICAgICAgICAgICAgKTsKICAgICAgICAgICAgbWFya2VyXzY0ZDY4MjM4ZjhmNjQwZjE5Njc1MTNkMGU5Y2YyYmIxLnNldEljb24oaWNvbl82MTMzN2ZiNDFhZDU0ZTQyYjk0NmYwYWUyN2Q4ZjcxYSk7CiAgICAgICAgCiAgICAKICAgICAgICAgICAgbWFya2VyXzY0ZDY4MjM4ZjhmNjQwZjE5Njc1MTNkMGU5Y2YyYmIxLmJpbmRUb29sdGlwKAogICAgICAgICAgICAgICAgYDxkaXY+CiAgICAgICAgICAgICAgICAgICAgIFdhdFphdFNvbmcKICAgICAgICAgICAgICAgICA8L2Rpdj5gLAogICAgICAgICAgICAgICAgeyJzdGlja3kiOiB0cnVlfQogICAgICAgICAgICApOwogICAgICAgIAogICAgCiAgICAgICAgICAgIHZhciBtYXJrZXJfNDdhMjVhNmRlZTU1NGQ3MDlhODY4NTE4NTY0ODBjMWMgPSBMLm1hcmtlcigKICAgICAgICAgICAgICAgIFs0OC44NTY2NjcsIDIuMzUwOTg3XSwKICAgICAgICAgICAgICAgIHt9CiAgICAgICAgICAgICkuYWRkVG8obWFwX2FkY2E5OWJlMmJiYjRjY2RhNzk3YmE1ZThkM2M5YjRlKTsKICAgICAgICAKICAgIAogICAgICAgICAgICB2YXIgaWNvbl8yZWViY2U0NGQ4NmI0MTliOTk3MmMwMmQ5Y2M1NzdmYiA9IEwuQXdlc29tZU1hcmtlcnMuaWNvbigKICAgICAgICAgICAgICAgIHsiZXh0cmFDbGFzc2VzIjogImZhLXJvdGF0ZS0wIiwgImljb24iOiAiYnJpZWZjYXNlIiwgImljb25Db2xvciI6ICJibGFjayIsICJtYXJrZXJDb2xvciI6ICJsaWdodGJsdWUiLCAicHJlZml4IjogImZhIn0KICAgICAgICAgICAgKTsKICAgICAgICAgICAgbWFya2VyXzQ3YTI1YTZkZWU1NTRkNzA5YTg2ODUxODU2NDgwYzFjLnNldEljb24oaWNvbl8yZWViY2U0NGQ4NmI0MTliOTk3MmMwMmQ5Y2M1NzdmYik7CiAgICAgICAgCiAgICAKICAgICAgICAgICAgbWFya2VyXzQ3YTI1YTZkZWU1NTRkNzA5YTg2ODUxODU2NDgwYzFjLmJpbmRUb29sdGlwKAogICAgICAgICAgICAgICAgYDxkaXY+CiAgICAgICAgICAgICAgICAgICAgIEpvb2NlCiAgICAgICAgICAgICAgICAgPC9kaXY+YCwKICAgICAgICAgICAgICAgIHsic3RpY2t5IjogdHJ1ZX0KICAgICAgICAgICAgKTsKICAgICAgICAKICAgIAogICAgICAgICAgICB2YXIgbWFya2VyX2RhNmI5OWUxN2NmMzRkNmQ4NDQ3ZGZjOGMxMTc2ZmNhID0gTC5tYXJrZXIoCiAgICAgICAgICAgICAgICBbNDguODU1ODUzMiwgMi4zMzY1NzU0XSwKICAgICAgICAgICAgICAgIHt9CiAgICAgICAgICAgICkuYWRkVG8obWFwX2FkY2E5OWJlMmJiYjRjY2RhNzk3YmE1ZThkM2M5YjRlKTsKICAgICAgICAKICAgIAogICAgICAgICAgICB2YXIgaWNvbl9iNWViMzYwM2RiYzA0MTg5YTc3MThkMjcyMDJiNmE1MyA9IEwuQXdlc29tZU1hcmtlcnMuaWNvbigKICAgICAgICAgICAgICAgIHsiZXh0cmFDbGFzc2VzIjogImZhLXJvdGF0ZS0wIiwgImljb24iOiAiYnJpZWZjYXNlIiwgImljb25Db2xvciI6ICJibGFjayIsICJtYXJrZXJDb2xvciI6ICJsaWdodGJsdWUiLCAicHJlZml4IjogImZhIn0KICAgICAgICAgICAgKTsKICAgICAgICAgICAgbWFya2VyX2RhNmI5OWUxN2NmMzRkNmQ4NDQ3ZGZjOGMxMTc2ZmNhLnNldEljb24oaWNvbl9iNWViMzYwM2RiYzA0MTg5YTc3MThkMjcyMDJiNmE1Myk7CiAgICAgICAgCiAgICAKICAgICAgICAgICAgbWFya2VyX2RhNmI5OWUxN2NmMzRkNmQ4NDQ3ZGZjOGMxMTc2ZmNhLmJpbmRUb29sdGlwKAogICAgICAgICAgICAgICAgYDxkaXY+CiAgICAgICAgICAgICAgICAgICAgIFRyaXZvcAogICAgICAgICAgICAgICAgIDwvZGl2PmAsCiAgICAgICAgICAgICAgICB7InN0aWNreSI6IHRydWV9CiAgICAgICAgICAgICk7CiAgICAgICAgCiAgICAKICAgICAgICAgICAgdmFyIG1hcmtlcl8xYjkzMDJlODZlNTk0N2IzOTI5ODczMzRjM2EyNjdiMyA9IEwubWFya2VyKAogICAgICAgICAgICAgICAgWzM3LjA5MDI0LCAtOTUuNzEyODkxXSwKICAgICAgICAgICAgICAgIHt9CiAgICAgICAgICAgICkuYWRkVG8obWFwX2FkY2E5OWJlMmJiYjRjY2RhNzk3YmE1ZThkM2M5YjRlKTsKICAgICAgICAKICAgIAogICAgICAgICAgICB2YXIgaWNvbl9jNjhlN2IyNDFhZmQ0MThjOGVjNDBlMzcyNGE5MjIxMiA9IEwuQXdlc29tZU1hcmtlcnMuaWNvbigKICAgICAgICAgICAgICAgIHsiZXh0cmFDbGFzc2VzIjogImZhLXJvdGF0ZS0wIiwgImljb24iOiAiYnJpZWZjYXNlIiwgImljb25Db2xvciI6ICJibGFjayIsICJtYXJrZXJDb2xvciI6ICJsaWdodGJsdWUiLCAicHJlZml4IjogImZhIn0KICAgICAgICAgICAgKTsKICAgICAgICAgICAgbWFya2VyXzFiOTMwMmU4NmU1OTQ3YjM5Mjk4NzMzNGMzYTI2N2IzLnNldEljb24oaWNvbl9jNjhlN2IyNDFhZmQ0MThjOGVjNDBlMzcyNGE5MjIxMik7CiAgICAgICAgCiAgICAKICAgICAgICAgICAgbWFya2VyXzFiOTMwMmU4NmU1OTQ3YjM5Mjk4NzMzNGMzYTI2N2IzLmJpbmRUb29sdGlwKAogICAgICAgICAgICAgICAgYDxkaXY+CiAgICAgICAgICAgICAgICAgICAgIEZhc3RCb29raW5nCiAgICAgICAgICAgICAgICAgPC9kaXY+YCwKICAgICAgICAgICAgICAgIHsic3RpY2t5IjogdHJ1ZX0KICAgICAgICAgICAgKTsKICAgICAgICAKICAgIAogICAgICAgICAgICB2YXIgbWFya2VyXzc4MTdhMjU1MTQxMjQ4ZWZhZDZkNGJiMjM1NTRkNDFlID0gTC5tYXJrZXIoCiAgICAgICAgICAgICAgICBbNDguODgyNDM0LCAyLjI5NzAzNV0sCiAgICAgICAgICAgICAgICB7fQogICAgICAgICAgICApLmFkZFRvKG1hcF9hZGNhOTliZTJiYmI0Y2NkYTc5N2JhNWU4ZDNjOWI0ZSk7CiAgICAgICAgCiAgICAKICAgICAgICAgICAgdmFyIGljb25fZDA5ZmFmYmRmOTE2NDBiMzk3NzMxOGMzMjZjYjlmNjkgPSBMLkF3ZXNvbWVNYXJrZXJzLmljb24oCiAgICAgICAgICAgICAgICB7ImV4dHJhQ2xhc3NlcyI6ICJmYS1yb3RhdGUtMCIsICJpY29uIjogImJyaWVmY2FzZSIsICJpY29uQ29sb3IiOiAiYmxhY2siLCAibWFya2VyQ29sb3IiOiAibGlnaHRibHVlIiwgInByZWZpeCI6ICJmYSJ9CiAgICAgICAgICAgICk7CiAgICAgICAgICAgIG1hcmtlcl83ODE3YTI1NTE0MTI0OGVmYWQ2ZDRiYjIzNTU0ZDQxZS5zZXRJY29uKGljb25fZDA5ZmFmYmRmOTE2NDBiMzk3NzMxOGMzMjZjYjlmNjkpOwogICAgICAgIAogICAgCiAgICAgICAgICAgIG1hcmtlcl83ODE3YTI1NTE0MTI0OGVmYWQ2ZDRiYjIzNTU0ZDQxZS5iaW5kVG9vbHRpcCgKICAgICAgICAgICAgICAgIGA8ZGl2PgogICAgICAgICAgICAgICAgICAgICBCYWh1CiAgICAgICAgICAgICAgICAgPC9kaXY+YCwKICAgICAgICAgICAgICAgIHsic3RpY2t5IjogdHJ1ZX0KICAgICAgICAgICAgKTsKICAgICAgICAKICAgIAogICAgICAgICAgICB2YXIgbWFya2VyXzgxNWE0ZWQ3ZWNlNTQ4ZmFiZjg1MTg0MTBlNTU1OTU5ID0gTC5tYXJrZXIoCiAgICAgICAgICAgICAgICBbNDguODgyNjQ3LCAyLjMyMjU1MV0sCiAgICAgICAgICAgICAgICB7fQogICAgICAgICAgICApLmFkZFRvKG1hcF9hZGNhOTliZTJiYmI0Y2NkYTc5N2JhNWU4ZDNjOWI0ZSk7CiAgICAgICAgCiAgICAKICAgICAgICAgICAgdmFyIGljb25fOTYzZDNjYjJiZTQyNGIxYTg2N2I3NTc1MmY4NzkxZDQgPSBMLkF3ZXNvbWVNYXJrZXJzLmljb24oCiAgICAgICAgICAgICAgICB7ImV4dHJhQ2xhc3NlcyI6ICJmYS1yb3RhdGUtMCIsICJpY29uIjogImJyaWVmY2FzZSIsICJpY29uQ29sb3IiOiAiYmxhY2siLCAibWFya2VyQ29sb3IiOiAibGlnaHRibHVlIiwgInByZWZpeCI6ICJmYSJ9CiAgICAgICAgICAgICk7CiAgICAgICAgICAgIG1hcmtlcl84MTVhNGVkN2VjZTU0OGZhYmY4NTE4NDEwZTU1NTk1OS5zZXRJY29uKGljb25fOTYzZDNjYjJiZTQyNGIxYTg2N2I3NTc1MmY4NzkxZDQpOwogICAgICAgIAogICAgCiAgICAgICAgICAgIG1hcmtlcl84MTVhNGVkN2VjZTU0OGZhYmY4NTE4NDEwZTU1NTk1OS5iaW5kVG9vbHRpcCgKICAgICAgICAgICAgICAgIGA8ZGl2PgogICAgICAgICAgICAgICAgICAgICBBZ2VtYXRpcwogICAgICAgICAgICAgICAgIDwvZGl2PmAsCiAgICAgICAgICAgICAgICB7InN0aWNreSI6IHRydWV9CiAgICAgICAgICAgICk7CiAgICAgICAgCiAgICAKICAgICAgICAgICAgdmFyIG1hcmtlcl83NGMzM2RmYTkyMTc0ODY4OThjNjQ1OTE3NDc4OGE3NiA9IEwubWFya2VyKAogICAgICAgICAgICAgICAgWzQ4Ljg1MTI3NiwgMi4zNzc3ODRdLAogICAgICAgICAgICAgICAge30KICAgICAgICAgICAgKS5hZGRUbyhtYXBfYWRjYTk5YmUyYmJiNGNjZGE3OTdiYTVlOGQzYzliNGUpOwogICAgICAgIAogICAgCiAgICAgICAgICAgIHZhciBpY29uXzUxZmY4ZGQxMDc3NzQzNWZiMzI2OTQ0N2NkNDkzNzhmID0gTC5Bd2Vzb21lTWFya2Vycy5pY29uKAogICAgICAgICAgICAgICAgeyJleHRyYUNsYXNzZXMiOiAiZmEtcm90YXRlLTAiLCAiaWNvbiI6ICJicmllZmNhc2UiLCAiaWNvbkNvbG9yIjogImJsYWNrIiwgIm1hcmtlckNvbG9yIjogImxpZ2h0Ymx1ZSIsICJwcmVmaXgiOiAiZmEifQogICAgICAgICAgICApOwogICAgICAgICAgICBtYXJrZXJfNzRjMzNkZmE5MjE3NDg2ODk4YzY0NTkxNzQ3ODhhNzYuc2V0SWNvbihpY29uXzUxZmY4ZGQxMDc3NzQzNWZiMzI2OTQ0N2NkNDkzNzhmKTsKICAgICAgICAKICAgIAogICAgICAgICAgICBtYXJrZXJfNzRjMzNkZmE5MjE3NDg2ODk4YzY0NTkxNzQ3ODhhNzYuYmluZFRvb2x0aXAoCiAgICAgICAgICAgICAgICBgPGRpdj4KICAgICAgICAgICAgICAgICAgICAgU29waW5zcGFjZQogICAgICAgICAgICAgICAgIDwvZGl2PmAsCiAgICAgICAgICAgICAgICB7InN0aWNreSI6IHRydWV9CiAgICAgICAgICAgICk7CiAgICAgICAgCiAgICAKICAgICAgICAgICAgdmFyIG1hcmtlcl8wN2ZjNTQxNzRmOWU0NDQ5YjRmYmM0NDBiNTEwZGJhOSA9IEwubWFya2VyKAogICAgICAgICAgICAgICAgWzQ4Ljg1OTY0OCwgMi4zNDg4NTVdLAogICAgICAgICAgICAgICAge30KICAgICAgICAgICAgKS5hZGRUbyhtYXBfYWRjYTk5YmUyYmJiNGNjZGE3OTdiYTVlOGQzYzliNGUpOwogICAgICAgIAogICAgCiAgICAgICAgICAgIHZhciBpY29uXzk5ZjVhYjYxZmE4YjQ3Y2M5MTczYjRmNjkzMzRlNTJhID0gTC5Bd2Vzb21lTWFya2Vycy5pY29uKAogICAgICAgICAgICAgICAgeyJleHRyYUNsYXNzZXMiOiAiZmEtcm90YXRlLTAiLCAiaWNvbiI6ICJicmllZmNhc2UiLCAiaWNvbkNvbG9yIjogImJsYWNrIiwgIm1hcmtlckNvbG9yIjogImxpZ2h0Ymx1ZSIsICJwcmVmaXgiOiAiZmEifQogICAgICAgICAgICApOwogICAgICAgICAgICBtYXJrZXJfMDdmYzU0MTc0ZjllNDQ0OWI0ZmJjNDQwYjUxMGRiYTkuc2V0SWNvbihpY29uXzk5ZjVhYjYxZmE4YjQ3Y2M5MTczYjRmNjkzMzRlNTJhKTsKICAgICAgICAKICAgIAogICAgICAgICAgICBtYXJrZXJfMDdmYzU0MTc0ZjllNDQ0OWI0ZmJjNDQwYjUxMGRiYTkuYmluZFRvb2x0aXAoCiAgICAgICAgICAgICAgICBgPGRpdj4KICAgICAgICAgICAgICAgICAgICAgRGV2b2xpYQogICAgICAgICAgICAgICAgIDwvZGl2PmAsCiAgICAgICAgICAgICAgICB7InN0aWNreSI6IHRydWV9CiAgICAgICAgICAgICk7CiAgICAgICAgCiAgICAKICAgICAgICAgICAgdmFyIG1hcmtlcl8zMDRkYjc2MjMxNTM0N2FiOTQ0YTZmMjk0Y2FjZDZjNyA9IEwubWFya2VyKAogICAgICAgICAgICAgICAgWzQ4Ljg2ODM0ODIsIDIuMzQ1MTM0XSwKICAgICAgICAgICAgICAgIHt9CiAgICAgICAgICAgICkuYWRkVG8obWFwX2FkY2E5OWJlMmJiYjRjY2RhNzk3YmE1ZThkM2M5YjRlKTsKICAgICAgICAKICAgIAogICAgICAgICAgICB2YXIgaWNvbl8yNjA2ODNmMWEyMjQ0NjU2YjNiYTcwMmJjNjhhN2E0NSA9IEwuQXdlc29tZU1hcmtlcnMuaWNvbigKICAgICAgICAgICAgICAgIHsiZXh0cmFDbGFzc2VzIjogImZhLXJvdGF0ZS0wIiwgImljb24iOiAiYnJpZWZjYXNlIiwgImljb25Db2xvciI6ICJibGFjayIsICJtYXJrZXJDb2xvciI6ICJsaWdodGJsdWUiLCAicHJlZml4IjogImZhIn0KICAgICAgICAgICAgKTsKICAgICAgICAgICAgbWFya2VyXzMwNGRiNzYyMzE1MzQ3YWI5NDRhNmYyOTRjYWNkNmM3LnNldEljb24oaWNvbl8yNjA2ODNmMWEyMjQ0NjU2YjNiYTcwMmJjNjhhN2E0NSk7CiAgICAgICAgCiAgICAKICAgICAgICAgICAgbWFya2VyXzMwNGRiNzYyMzE1MzQ3YWI5NDRhNmYyOTRjYWNkNmM3LmJpbmRUb29sdGlwKAogICAgICAgICAgICAgICAgYDxkaXY+CiAgICAgICAgICAgICAgICAgICAgIEFsbG9wYXNzCiAgICAgICAgICAgICAgICAgPC9kaXY+YCwKICAgICAgICAgICAgICAgIHsic3RpY2t5IjogdHJ1ZX0KICAgICAgICAgICAgKTsKICAgICAgICAKICAgIAogICAgICAgICAgICB2YXIgbWFya2VyX2I3OTQ1ZjYzNzY5ODQwOWE5YzQ5NWY3ZDkwYTYxZTlmID0gTC5tYXJrZXIoCiAgICAgICAgICAgICAgICBbNDguODU2NjY3LCAyLjM1MDk4N10sCiAgICAgICAgICAgICAgICB7fQogICAgICAgICAgICApLmFkZFRvKG1hcF9hZGNhOTliZTJiYmI0Y2NkYTc5N2JhNWU4ZDNjOWI0ZSk7CiAgICAgICAgCiAgICAKICAgICAgICAgICAgdmFyIGljb25fZTQzYmEzZjY5ZjYxNGUxMDhmNTQ1YjYyYmVmOTE5OWYgPSBMLkF3ZXNvbWVNYXJrZXJzLmljb24oCiAgICAgICAgICAgICAgICB7ImV4dHJhQ2xhc3NlcyI6ICJmYS1yb3RhdGUtMCIsICJpY29uIjogImJyaWVmY2FzZSIsICJpY29uQ29sb3IiOiAiYmxhY2siLCAibWFya2VyQ29sb3IiOiAibGlnaHRibHVlIiwgInByZWZpeCI6ICJmYSJ9CiAgICAgICAgICAgICk7CiAgICAgICAgICAgIG1hcmtlcl9iNzk0NWY2Mzc2OTg0MDlhOWM0OTVmN2Q5MGE2MWU5Zi5zZXRJY29uKGljb25fZTQzYmEzZjY5ZjYxNGUxMDhmNTQ1YjYyYmVmOTE5OWYpOwogICAgICAgIAogICAgCiAgICAgICAgICAgIG1hcmtlcl9iNzk0NWY2Mzc2OTg0MDlhOWM0OTVmN2Q5MGE2MWU5Zi5iaW5kVG9vbHRpcCgKICAgICAgICAgICAgICAgIGA8ZGl2PgogICAgICAgICAgICAgICAgICAgICBlWWVrYQogICAgICAgICAgICAgICAgIDwvZGl2PmAsCiAgICAgICAgICAgICAgICB7InN0aWNreSI6IHRydWV9CiAgICAgICAgICAgICk7CiAgICAgICAgCiAgICAKICAgICAgICAgICAgdmFyIG1hcmtlcl81Y2Y3NDI3NTE5MmY0ZWFlOGEzNjg2ZTJhMDBhZWFiNSA9IEwubWFya2VyKAogICAgICAgICAgICAgICAgWzQ4Ljg1MjI0MzEsIDIuMzg3NDIyXSwKICAgICAgICAgICAgICAgIHt9CiAgICAgICAgICAgICkuYWRkVG8obWFwX2FkY2E5OWJlMmJiYjRjY2RhNzk3YmE1ZThkM2M5YjRlKTsKICAgICAgICAKICAgIAogICAgICAgICAgICB2YXIgaWNvbl81M2IwODg0OTJhMTk0YzgyYjNhMjIyYWYwMmZiYWJhNyA9IEwuQXdlc29tZU1hcmtlcnMuaWNvbigKICAgICAgICAgICAgICAgIHsiZXh0cmFDbGFzc2VzIjogImZhLXJvdGF0ZS0wIiwgImljb24iOiAiYnJpZWZjYXNlIiwgImljb25Db2xvciI6ICJibGFjayIsICJtYXJrZXJDb2xvciI6ICJsaWdodGJsdWUiLCAicHJlZml4IjogImZhIn0KICAgICAgICAgICAgKTsKICAgICAgICAgICAgbWFya2VyXzVjZjc0Mjc1MTkyZjRlYWU4YTM2ODZlMmEwMGFlYWI1LnNldEljb24oaWNvbl81M2IwODg0OTJhMTk0YzgyYjNhMjIyYWYwMmZiYWJhNyk7CiAgICAgICAgCiAgICAKICAgICAgICAgICAgbWFya2VyXzVjZjc0Mjc1MTkyZjRlYWU4YTM2ODZlMmEwMGFlYWI1LmJpbmRUb29sdGlwKAogICAgICAgICAgICAgICAgYDxkaXY+CiAgICAgICAgICAgICAgICAgICAgIEltaW5lbnQKICAgICAgICAgICAgICAgICA8L2Rpdj5gLAogICAgICAgICAgICAgICAgeyJzdGlja3kiOiB0cnVlfQogICAgICAgICAgICApOwogICAgICAgIAogICAgCiAgICAgICAgICAgIHZhciBtYXJrZXJfNzJjZDZmODc0ZTZjNGNjYWI0NTIyNGRmNThjMzlmMGIgPSBMLm1hcmtlcigKICAgICAgICAgICAgICAgIFs0OC44NTY2NjcsIDIuMzUwOTg3XSwKICAgICAgICAgICAgICAgIHt9CiAgICAgICAgICAgICkuYWRkVG8obWFwX2FkY2E5OWJlMmJiYjRjY2RhNzk3YmE1ZThkM2M5YjRlKTsKICAgICAgICAKICAgIAogICAgICAgICAgICB2YXIgaWNvbl9jNWE4Y2VmMjdlOTU0NzZkOTQxN2MxMjQyZmY0NjA2YiA9IEwuQXdlc29tZU1hcmtlcnMuaWNvbigKICAgICAgICAgICAgICAgIHsiZXh0cmFDbGFzc2VzIjogImZhLXJvdGF0ZS0wIiwgImljb24iOiAiYnJpZWZjYXNlIiwgImljb25Db2xvciI6ICJibGFjayIsICJtYXJrZXJDb2xvciI6ICJsaWdodGJsdWUiLCAicHJlZml4IjogImZhIn0KICAgICAgICAgICAgKTsKICAgICAgICAgICAgbWFya2VyXzcyY2Q2Zjg3NGU2YzRjY2FiNDUyMjRkZjU4YzM5ZjBiLnNldEljb24oaWNvbl9jNWE4Y2VmMjdlOTU0NzZkOTQxN2MxMjQyZmY0NjA2Yik7CiAgICAgICAgCiAgICAKICAgICAgICAgICAgbWFya2VyXzcyY2Q2Zjg3NGU2YzRjY2FiNDUyMjRkZjU4YzM5ZjBiLmJpbmRUb29sdGlwKAogICAgICAgICAgICAgICAgYDxkaXY+CiAgICAgICAgICAgICAgICAgICAgIGxvbGxpY29kZQogICAgICAgICAgICAgICAgIDwvZGl2PmAsCiAgICAgICAgICAgICAgICB7InN0aWNreSI6IHRydWV9CiAgICAgICAgICAgICk7CiAgICAgICAgCiAgICAKICAgICAgICAgICAgdmFyIG1hcmtlcl82MzU4NGQxOWJmNDc0YzVjYjg0NjAxZTQ4MWFlZWViYSA9IEwubWFya2VyKAogICAgICAgICAgICAgICAgWzQ4Ljg2ODQ3OCwgMi4zMzk4NDNdLAogICAgICAgICAgICAgICAge30KICAgICAgICAgICAgKS5hZGRUbyhtYXBfYWRjYTk5YmUyYmJiNGNjZGE3OTdiYTVlOGQzYzliNGUpOwogICAgICAgIAogICAgCiAgICAgICAgICAgIHZhciBpY29uXzg5ZmYyNTNjYTI3MDQxNzhhYWRiOWMwNWJiZmNjYzAxID0gTC5Bd2Vzb21lTWFya2Vycy5pY29uKAogICAgICAgICAgICAgICAgeyJleHRyYUNsYXNzZXMiOiAiZmEtcm90YXRlLTAiLCAiaWNvbiI6ICJicmllZmNhc2UiLCAiaWNvbkNvbG9yIjogImJsYWNrIiwgIm1hcmtlckNvbG9yIjogImxpZ2h0Ymx1ZSIsICJwcmVmaXgiOiAiZmEifQogICAgICAgICAgICApOwogICAgICAgICAgICBtYXJrZXJfNjM1ODRkMTliZjQ3NGM1Y2I4NDYwMWU0ODFhZWVlYmEuc2V0SWNvbihpY29uXzg5ZmYyNTNjYTI3MDQxNzhhYWRiOWMwNWJiZmNjYzAxKTsKICAgICAgICAKICAgIAogICAgICAgICAgICBtYXJrZXJfNjM1ODRkMTliZjQ3NGM1Y2I4NDYwMWU0ODFhZWVlYmEuYmluZFRvb2x0aXAoCiAgICAgICAgICAgICAgICBgPGRpdj4KICAgICAgICAgICAgICAgICAgICAgWmVmYW5jbHViCiAgICAgICAgICAgICAgICAgPC9kaXY+YCwKICAgICAgICAgICAgICAgIHsic3RpY2t5IjogdHJ1ZX0KICAgICAgICAgICAgKTsKICAgICAgICAKICAgIAogICAgICAgICAgICB2YXIgbWFya2VyXzM3NjM0OTg4OWJiMDQ5MTZiMmY2MTcxYjQ2NGJkOTQ4ID0gTC5tYXJrZXIoCiAgICAgICAgICAgICAgICBbNDguODU0ODQ1LCAyLjQwMzUyXSwKICAgICAgICAgICAgICAgIHt9CiAgICAgICAgICAgICkuYWRkVG8obWFwX2FkY2E5OWJlMmJiYjRjY2RhNzk3YmE1ZThkM2M5YjRlKTsKICAgICAgICAKICAgIAogICAgICAgICAgICB2YXIgaWNvbl85NWU2YTYwODcxNWE0ZDAwYTdhMjc2YjBiOGQ3NGVkYSA9IEwuQXdlc29tZU1hcmtlcnMuaWNvbigKICAgICAgICAgICAgICAgIHsiZXh0cmFDbGFzc2VzIjogImZhLXJvdGF0ZS0wIiwgImljb24iOiAiYnJpZWZjYXNlIiwgImljb25Db2xvciI6ICJibGFjayIsICJtYXJrZXJDb2xvciI6ICJsaWdodGJsdWUiLCAicHJlZml4IjogImZhIn0KICAgICAgICAgICAgKTsKICAgICAgICAgICAgbWFya2VyXzM3NjM0OTg4OWJiMDQ5MTZiMmY2MTcxYjQ2NGJkOTQ4LnNldEljb24oaWNvbl85NWU2YTYwODcxNWE0ZDAwYTdhMjc2YjBiOGQ3NGVkYSk7CiAgICAgICAgCiAgICAKICAgICAgICAgICAgbWFya2VyXzM3NjM0OTg4OWJiMDQ5MTZiMmY2MTcxYjQ2NGJkOTQ4LmJpbmRUb29sdGlwKAogICAgICAgICAgICAgICAgYDxkaXY+CiAgICAgICAgICAgICAgICAgICAgIFpvb21vcmFtYQogICAgICAgICAgICAgICAgIDwvZGl2PmAsCiAgICAgICAgICAgICAgICB7InN0aWNreSI6IHRydWV9CiAgICAgICAgICAgICk7CiAgICAgICAgCiAgICAKICAgICAgICAgICAgdmFyIG1hcmtlcl9lYjdlZDFlYzFiY2Q0MmJlYTViM2ViOTFmNzhkY2VkMSA9IEwubWFya2VyKAogICAgICAgICAgICAgICAgWzQ4Ljg3NTk5MTgsIDIuMzI5NTg2Nl0sCiAgICAgICAgICAgICAgICB7fQogICAgICAgICAgICApLmFkZFRvKG1hcF9hZGNhOTliZTJiYmI0Y2NkYTc5N2JhNWU4ZDNjOWI0ZSk7CiAgICAgICAgCiAgICAKICAgICAgICAgICAgdmFyIGljb25fYzk5MjZjNmU1MTIwNDcwZGI5ZGRmYmE4Njc4MWY4OWUgPSBMLkF3ZXNvbWVNYXJrZXJzLmljb24oCiAgICAgICAgICAgICAgICB7ImV4dHJhQ2xhc3NlcyI6ICJmYS1yb3RhdGUtMCIsICJpY29uIjogImJyaWVmY2FzZSIsICJpY29uQ29sb3IiOiAiYmxhY2siLCAibWFya2VyQ29sb3IiOiAibGlnaHRibHVlIiwgInByZWZpeCI6ICJmYSJ9CiAgICAgICAgICAgICk7CiAgICAgICAgICAgIG1hcmtlcl9lYjdlZDFlYzFiY2Q0MmJlYTViM2ViOTFmNzhkY2VkMS5zZXRJY29uKGljb25fYzk5MjZjNmU1MTIwNDcwZGI5ZGRmYmE4Njc4MWY4OWUpOwogICAgICAgIAogICAgCiAgICAgICAgICAgIG1hcmtlcl9lYjdlZDFlYzFiY2Q0MmJlYTViM2ViOTFmNzhkY2VkMS5iaW5kVG9vbHRpcCgKICAgICAgICAgICAgICAgIGA8ZGl2PgogICAgICAgICAgICAgICAgICAgICBJVE4KICAgICAgICAgICAgICAgICA8L2Rpdj5gLAogICAgICAgICAgICAgICAgeyJzdGlja3kiOiB0cnVlfQogICAgICAgICAgICApOwogICAgICAgIAogICAgCiAgICAgICAgICAgIHZhciBtYXJrZXJfNDRmOGFjODY2MGZhNDM3Mzg1ZTk3MWM5ZThiZjRhNWMgPSBMLm1hcmtlcigKICAgICAgICAgICAgICAgIFs0OC44Nzg1NzIxLCAyLjMyNDk5NTJdLAogICAgICAgICAgICAgICAge30KICAgICAgICAgICAgKS5hZGRUbyhtYXBfYWRjYTk5YmUyYmJiNGNjZGE3OTdiYTVlOGQzYzliNGUpOwogICAgICAgIAogICAgCiAgICAgICAgICAgIHZhciBpY29uXzJmZTY4ZjYzNGY5YTRhZjc5YzJhYzYxYWM4OWQ1ZjAyID0gTC5Bd2Vzb21lTWFya2Vycy5pY29uKAogICAgICAgICAgICAgICAgeyJleHRyYUNsYXNzZXMiOiAiZmEtcm90YXRlLTAiLCAiaWNvbiI6ICJicmllZmNhc2UiLCAiaWNvbkNvbG9yIjogImJsYWNrIiwgIm1hcmtlckNvbG9yIjogImxpZ2h0Ymx1ZSIsICJwcmVmaXgiOiAiZmEifQogICAgICAgICAgICApOwogICAgICAgICAgICBtYXJrZXJfNDRmOGFjODY2MGZhNDM3Mzg1ZTk3MWM5ZThiZjRhNWMuc2V0SWNvbihpY29uXzJmZTY4ZjYzNGY5YTRhZjc5YzJhYzYxYWM4OWQ1ZjAyKTsKICAgICAgICAKICAgIAogICAgICAgICAgICBtYXJrZXJfNDRmOGFjODY2MGZhNDM3Mzg1ZTk3MWM5ZThiZjRhNWMuYmluZFRvb2x0aXAoCiAgICAgICAgICAgICAgICBgPGRpdj4KICAgICAgICAgICAgICAgICAgICAgT3JpbmVhCiAgICAgICAgICAgICAgICAgPC9kaXY+YCwKICAgICAgICAgICAgICAgIHsic3RpY2t5IjogdHJ1ZX0KICAgICAgICAgICAgKTsKICAgICAgICAKICAgIAogICAgICAgICAgICB2YXIgbWFya2VyXzVkYmIzN2RlYzAxYjRhODFhOTMyN2VjMjFjNjU0NmRhID0gTC5tYXJrZXIoCiAgICAgICAgICAgICAgICBbNDguODc4NTcyMSwgMi4zMjQ5OTUyXSwKICAgICAgICAgICAgICAgIHt9CiAgICAgICAgICAgICkuYWRkVG8obWFwX2FkY2E5OWJlMmJiYjRjY2RhNzk3YmE1ZThkM2M5YjRlKTsKICAgICAgICAKICAgIAogICAgICAgICAgICB2YXIgaWNvbl84YWVhYThiZmZiOTM0OTA0ODFmNWI5MjgwMTgxMTNkZiA9IEwuQXdlc29tZU1hcmtlcnMuaWNvbigKICAgICAgICAgICAgICAgIHsiZXh0cmFDbGFzc2VzIjogImZhLXJvdGF0ZS0wIiwgImljb24iOiAiYnJpZWZjYXNlIiwgImljb25Db2xvciI6ICJibGFjayIsICJtYXJrZXJDb2xvciI6ICJsaWdodGJsdWUiLCAicHJlZml4IjogImZhIn0KICAgICAgICAgICAgKTsKICAgICAgICAgICAgbWFya2VyXzVkYmIzN2RlYzAxYjRhODFhOTMyN2VjMjFjNjU0NmRhLnNldEljb24oaWNvbl84YWVhYThiZmZiOTM0OTA0ODFmNWI5MjgwMTgxMTNkZik7CiAgICAgICAgCiAgICAKICAgICAgICAgICAgbWFya2VyXzVkYmIzN2RlYzAxYjRhODFhOTMyN2VjMjFjNjU0NmRhLmJpbmRUb29sdGlwKAogICAgICAgICAgICAgICAgYDxkaXY+CiAgICAgICAgICAgICAgICAgICAgIE9yaW5lYQogICAgICAgICAgICAgICAgIDwvZGl2PmAsCiAgICAgICAgICAgICAgICB7InN0aWNreSI6IHRydWV9CiAgICAgICAgICAgICk7CiAgICAgICAgCiAgICAKICAgICAgICAgICAgdmFyIG1hcmtlcl9mYTM3NTEzMmQwMTA0MDgxYmYzZDkzMmY5NDYwM2IxNiA9IEwubWFya2VyKAogICAgICAgICAgICAgICAgWzQ4Ljg3MTE3NCwgMi4zMDgwMTldLAogICAgICAgICAgICAgICAge30KICAgICAgICAgICAgKS5hZGRUbyhtYXBfYWRjYTk5YmUyYmJiNGNjZGE3OTdiYTVlOGQzYzliNGUpOwogICAgICAgIAogICAgCiAgICAgICAgICAgIHZhciBpY29uXzgwOGQyNjY0YzlkMzRiODZiYTZlYWQyYThmMThiZTUxID0gTC5Bd2Vzb21lTWFya2Vycy5pY29uKAogICAgICAgICAgICAgICAgeyJleHRyYUNsYXNzZXMiOiAiZmEtcm90YXRlLTAiLCAiaWNvbiI6ICJicmllZmNhc2UiLCAiaWNvbkNvbG9yIjogImJsYWNrIiwgIm1hcmtlckNvbG9yIjogImxpZ2h0Ymx1ZSIsICJwcmVmaXgiOiAiZmEifQogICAgICAgICAgICApOwogICAgICAgICAgICBtYXJrZXJfZmEzNzUxMzJkMDEwNDA4MWJmM2Q5MzJmOTQ2MDNiMTYuc2V0SWNvbihpY29uXzgwOGQyNjY0YzlkMzRiODZiYTZlYWQyYThmMThiZTUxKTsKICAgICAgICAKICAgIAogICAgICAgICAgICBtYXJrZXJfZmEzNzUxMzJkMDEwNDA4MWJmM2Q5MzJmOTQ2MDNiMTYuYmluZFRvb2x0aXAoCiAgICAgICAgICAgICAgICBgPGRpdj4KICAgICAgICAgICAgICAgICAgICAgQ2FsYW1lbwogICAgICAgICAgICAgICAgIDwvZGl2PmAsCiAgICAgICAgICAgICAgICB7InN0aWNreSI6IHRydWV9CiAgICAgICAgICAgICk7CiAgICAgICAgCiAgICAKICAgICAgICAgICAgdmFyIG1hcmtlcl82OTgxZWJmMmUzZGY0ZmU5ODMzMjgwZTQzZjM4MzY0OSA9IEwubWFya2VyKAogICAgICAgICAgICAgICAgWzQ4Ljg2OTEzNjksIDIuMzYwMjIwMl0sCiAgICAgICAgICAgICAgICB7fQogICAgICAgICAgICApLmFkZFRvKG1hcF9hZGNhOTliZTJiYmI0Y2NkYTc5N2JhNWU4ZDNjOWI0ZSk7CiAgICAgICAgCiAgICAKICAgICAgICAgICAgdmFyIGljb25fYmE4MmRkNTQ0N2Y1NDk0ZmIwNjA3Mjk1N2ZiMDljMzMgPSBMLkF3ZXNvbWVNYXJrZXJzLmljb24oCiAgICAgICAgICAgICAgICB7ImV4dHJhQ2xhc3NlcyI6ICJmYS1yb3RhdGUtMCIsICJpY29uIjogImJyaWVmY2FzZSIsICJpY29uQ29sb3IiOiAiYmxhY2siLCAibWFya2VyQ29sb3IiOiAibGlnaHRibHVlIiwgInByZWZpeCI6ICJmYSJ9CiAgICAgICAgICAgICk7CiAgICAgICAgICAgIG1hcmtlcl82OTgxZWJmMmUzZGY0ZmU5ODMzMjgwZTQzZjM4MzY0OS5zZXRJY29uKGljb25fYmE4MmRkNTQ0N2Y1NDk0ZmIwNjA3Mjk1N2ZiMDljMzMpOwogICAgICAgIAogICAgCiAgICAgICAgICAgIG1hcmtlcl82OTgxZWJmMmUzZGY0ZmU5ODMzMjgwZTQzZjM4MzY0OS5iaW5kVG9vbHRpcCgKICAgICAgICAgICAgICAgIGA8ZGl2PgogICAgICAgICAgICAgICAgICAgICBWaXN1YW1vYmlsZQogICAgICAgICAgICAgICAgIDwvZGl2PmAsCiAgICAgICAgICAgICAgICB7InN0aWNreSI6IHRydWV9CiAgICAgICAgICAgICk7CiAgICAgICAgCiAgICAKICAgICAgICAgICAgdmFyIG1hcmtlcl9hN2ViYjg4ZjkxNjI0MTJhYWIxOWY3YmEzYTI4ZTdiMyA9IEwubWFya2VyKAogICAgICAgICAgICAgICAgWzQ4Ljg1NjY2NywgMi4zNTA5ODddLAogICAgICAgICAgICAgICAge30KICAgICAgICAgICAgKS5hZGRUbyhtYXBfYWRjYTk5YmUyYmJiNGNjZGE3OTdiYTVlOGQzYzliNGUpOwogICAgICAgIAogICAgCiAgICAgICAgICAgIHZhciBpY29uXzViNzk0NDU4MzZhNjQ5Mjk5ZWMzZDQ4ZjIzNmQwZDcyID0gTC5Bd2Vzb21lTWFya2Vycy5pY29uKAogICAgICAgICAgICAgICAgeyJleHRyYUNsYXNzZXMiOiAiZmEtcm90YXRlLTAiLCAiaWNvbiI6ICJicmllZmNhc2UiLCAiaWNvbkNvbG9yIjogImJsYWNrIiwgIm1hcmtlckNvbG9yIjogImxpZ2h0Ymx1ZSIsICJwcmVmaXgiOiAiZmEifQogICAgICAgICAgICApOwogICAgICAgICAgICBtYXJrZXJfYTdlYmI4OGY5MTYyNDEyYWFiMTlmN2JhM2EyOGU3YjMuc2V0SWNvbihpY29uXzViNzk0NDU4MzZhNjQ5Mjk5ZWMzZDQ4ZjIzNmQwZDcyKTsKICAgICAgICAKICAgIAogICAgICAgICAgICBtYXJrZXJfYTdlYmI4OGY5MTYyNDEyYWFiMTlmN2JhM2EyOGU3YjMuYmluZFRvb2x0aXAoCiAgICAgICAgICAgICAgICBgPGRpdj4KICAgICAgICAgICAgICAgICAgICAgSXRlcmlhLCBTQVJMCiAgICAgICAgICAgICAgICAgPC9kaXY+YCwKICAgICAgICAgICAgICAgIHsic3RpY2t5IjogdHJ1ZX0KICAgICAgICAgICAgKTsKICAgICAgICAKICAgIAogICAgICAgICAgICB2YXIgbWFya2VyXzNkNzY4NDFjNjY3OTQ1MWJhNjA0MDU5MWQ3YzRiYjgxID0gTC5tYXJrZXIoCiAgICAgICAgICAgICAgICBbNDguODc5MDE4MywgMi4zMzc5MDYzXSwKICAgICAgICAgICAgICAgIHt9CiAgICAgICAgICAgICkuYWRkVG8obWFwX2FkY2E5OWJlMmJiYjRjY2RhNzk3YmE1ZThkM2M5YjRlKTsKICAgICAgICAKICAgIAogICAgICAgICAgICB2YXIgaWNvbl8zM2UzYmI5OWY1YjA0ZjdjYjcyMmU5NjNhZWRiNTA3ZSA9IEwuQXdlc29tZU1hcmtlcnMuaWNvbigKICAgICAgICAgICAgICAgIHsiZXh0cmFDbGFzc2VzIjogImZhLXJvdGF0ZS0wIiwgImljb24iOiAiYnJpZWZjYXNlIiwgImljb25Db2xvciI6ICJibGFjayIsICJtYXJrZXJDb2xvciI6ICJsaWdodGJsdWUiLCAicHJlZml4IjogImZhIn0KICAgICAgICAgICAgKTsKICAgICAgICAgICAgbWFya2VyXzNkNzY4NDFjNjY3OTQ1MWJhNjA0MDU5MWQ3YzRiYjgxLnNldEljb24oaWNvbl8zM2UzYmI5OWY1YjA0ZjdjYjcyMmU5NjNhZWRiNTA3ZSk7CiAgICAgICAgCiAgICAKICAgICAgICAgICAgbWFya2VyXzNkNzY4NDFjNjY3OTQ1MWJhNjA0MDU5MWQ3YzRiYjgxLmJpbmRUb29sdGlwKAogICAgICAgICAgICAgICAgYDxkaXY+CiAgICAgICAgICAgICAgICAgICAgIEJhc2VDbGlwCiAgICAgICAgICAgICAgICAgPC9kaXY+YCwKICAgICAgICAgICAgICAgIHsic3RpY2t5IjogdHJ1ZX0KICAgICAgICAgICAgKTsKICAgICAgICAKICAgIAogICAgICAgICAgICB2YXIgbWFya2VyX2U5ZTVjMWVkYzg1NzQzMDk4YzRhZTljZjNkNjJmOTkxID0gTC5tYXJrZXIoCiAgICAgICAgICAgICAgICBbNDguODc4NTYxOCwgMi4zNjAzNjg5XSwKICAgICAgICAgICAgICAgIHt9CiAgICAgICAgICAgICkuYWRkVG8obWFwX2FkY2E5OWJlMmJiYjRjY2RhNzk3YmE1ZThkM2M5YjRlKTsKICAgICAgICAKICAgIAogICAgICAgICAgICB2YXIgaWNvbl9lMmYzYWE1MDI1OTE0OGQ3YTc3OThhN2UwM2NlZmM3YSA9IEwuQXdlc29tZU1hcmtlcnMuaWNvbigKICAgICAgICAgICAgICAgIHsiZXh0cmFDbGFzc2VzIjogImZhLXJvdGF0ZS0wIiwgImljb24iOiAiYnJpZWZjYXNlIiwgImljb25Db2xvciI6ICJibGFjayIsICJtYXJrZXJDb2xvciI6ICJsaWdodGJsdWUiLCAicHJlZml4IjogImZhIn0KICAgICAgICAgICAgKTsKICAgICAgICAgICAgbWFya2VyX2U5ZTVjMWVkYzg1NzQzMDk4YzRhZTljZjNkNjJmOTkxLnNldEljb24oaWNvbl9lMmYzYWE1MDI1OTE0OGQ3YTc3OThhN2UwM2NlZmM3YSk7CiAgICAgICAgCiAgICAKICAgICAgICAgICAgbWFya2VyX2U5ZTVjMWVkYzg1NzQzMDk4YzRhZTljZjNkNjJmOTkxLmJpbmRUb29sdGlwKAogICAgICAgICAgICAgICAgYDxkaXY+CiAgICAgICAgICAgICAgICAgICAgIFN0dXBlZmxpeAogICAgICAgICAgICAgICAgIDwvZGl2PmAsCiAgICAgICAgICAgICAgICB7InN0aWNreSI6IHRydWV9CiAgICAgICAgICAgICk7CiAgICAgICAgCiAgICAKICAgICAgICAgICAgdmFyIG1hcmtlcl82N2E2ZmUwMGJlZGU0ZmRiOGQyNjNmYzBhMjc3YmU3YiA9IEwubWFya2VyKAogICAgICAgICAgICAgICAgWzQ5LjAwNjA1Mjc1NjY0OTc4LCAyLjU3MjMwMjgxODI5ODM0XSwKICAgICAgICAgICAgICAgIHt9CiAgICAgICAgICAgICkuYWRkVG8obWFwX2FkY2E5OWJlMmJiYjRjY2RhNzk3YmE1ZThkM2M5YjRlKTsKICAgICAgICAKICAgIAogICAgICAgICAgICB2YXIgaWNvbl84NzlmMTdmZDU3NzQ0NDU0YThkMDJlYzVjYzBiNjgyMiA9IEwuQXdlc29tZU1hcmtlcnMuaWNvbigKICAgICAgICAgICAgICAgIHsiZXh0cmFDbGFzc2VzIjogImZhLXJvdGF0ZS0wIiwgImljb24iOiAicGxhbmUiLCAiaWNvbkNvbG9yIjogIndoaXRlIiwgIm1hcmtlckNvbG9yIjogImJsYWNrIiwgInByZWZpeCI6ICJmYSJ9CiAgICAgICAgICAgICk7CiAgICAgICAgICAgIG1hcmtlcl82N2E2ZmUwMGJlZGU0ZmRiOGQyNjNmYzBhMjc3YmU3Yi5zZXRJY29uKGljb25fODc5ZjE3ZmQ1Nzc0NDQ1NGE4ZDAyZWM1Y2MwYjY4MjIpOwogICAgICAgIAogICAgCiAgICAgICAgICAgIG1hcmtlcl82N2E2ZmUwMGJlZGU0ZmRiOGQyNjNmYzBhMjc3YmU3Yi5iaW5kVG9vbHRpcCgKICAgICAgICAgICAgICAgIGA8ZGl2PgogICAgICAgICAgICAgICAgICAgICBBw6lyb3BvcnQgUGFyaXMtQ2hhcmxlcyBkZSBHYXVsbGUgKENERykgKEHDqXJvcG9ydCBQYXJpcy1DaGFybGVzIGRlIEdhdWxsZSkKICAgICAgICAgICAgICAgICA8L2Rpdj5gLAogICAgICAgICAgICAgICAgeyJzdGlja3kiOiB0cnVlfQogICAgICAgICAgICApOwogICAgICAgIAogICAgCiAgICAgICAgICAgIHZhciBtYXJrZXJfMjhjMmM5OGZjNmNkNDMzMmJhOGVlMTExOTFmYmE2OTcgPSBMLm1hcmtlcigKICAgICAgICAgICAgICAgIFs0OC45NTUxMDA1MDk5MjE5MiwgMi40NDE4MTg3MTQxNDE4NDU3XSwKICAgICAgICAgICAgICAgIHt9CiAgICAgICAgICAgICkuYWRkVG8obWFwX2FkY2E5OWJlMmJiYjRjY2RhNzk3YmE1ZThkM2M5YjRlKTsKICAgICAgICAKICAgIAogICAgICAgICAgICB2YXIgaWNvbl9iZDk2NjUxZTQ3OTE0ZDlkOTg1NzE3MzhmMmZkNjU1ZCA9IEwuQXdlc29tZU1hcmtlcnMuaWNvbigKICAgICAgICAgICAgICAgIHsiZXh0cmFDbGFzc2VzIjogImZhLXJvdGF0ZS0wIiwgImljb24iOiAicGxhbmUiLCAiaWNvbkNvbG9yIjogIndoaXRlIiwgIm1hcmtlckNvbG9yIjogImJsYWNrIiwgInByZWZpeCI6ICJmYSJ9CiAgICAgICAgICAgICk7CiAgICAgICAgICAgIG1hcmtlcl8yOGMyYzk4ZmM2Y2Q0MzMyYmE4ZWUxMTE5MWZiYTY5Ny5zZXRJY29uKGljb25fYmQ5NjY1MWU0NzkxNGQ5ZDk4NTcxNzM4ZjJmZDY1NWQpOwogICAgICAgIAogICAgCiAgICAgICAgICAgIG1hcmtlcl8yOGMyYzk4ZmM2Y2Q0MzMyYmE4ZWUxMTE5MWZiYTY5Ny5iaW5kVG9vbHRpcCgKICAgICAgICAgICAgICAgIGA8ZGl2PgogICAgICAgICAgICAgICAgICAgICBBw6lyb3BvcnQgUGFyaXMtTGUgQm91cmdldCAoTEJHKQogICAgICAgICAgICAgICAgIDwvZGl2PmAsCiAgICAgICAgICAgICAgICB7InN0aWNreSI6IHRydWV9CiAgICAgICAgICAgICk7CiAgICAgICAgCiAgICAKICAgICAgICAgICAgdmFyIG1hcmtlcl9mY2M3MDNlYjBlMzU0YzQ0ODg4N2M5MGZkZTI0YmU5OCA9IEwubWFya2VyKAogICAgICAgICAgICAgICAgWzQ4LjcyODMxMjg1MzgwMTQ3LCAyLjM2NTg4MDAxMjUxMjIwN10sCiAgICAgICAgICAgICAgICB7fQogICAgICAgICAgICApLmFkZFRvKG1hcF9hZGNhOTliZTJiYmI0Y2NkYTc5N2JhNWU4ZDNjOWI0ZSk7CiAgICAgICAgCiAgICAKICAgICAgICAgICAgdmFyIGljb25fYzU5ZTk4ZjJmY2ZhNDNlZTlhYWY4MmE0MTE2MTRhZTEgPSBMLkF3ZXNvbWVNYXJrZXJzLmljb24oCiAgICAgICAgICAgICAgICB7ImV4dHJhQ2xhc3NlcyI6ICJmYS1yb3RhdGUtMCIsICJpY29uIjogInBsYW5lIiwgImljb25Db2xvciI6ICJ3aGl0ZSIsICJtYXJrZXJDb2xvciI6ICJibGFjayIsICJwcmVmaXgiOiAiZmEifQogICAgICAgICAgICApOwogICAgICAgICAgICBtYXJrZXJfZmNjNzAzZWIwZTM1NGM0NDg4ODdjOTBmZGUyNGJlOTguc2V0SWNvbihpY29uX2M1OWU5OGYyZmNmYTQzZWU5YWFmODJhNDExNjE0YWUxKTsKICAgICAgICAKICAgIAogICAgICAgICAgICBtYXJrZXJfZmNjNzAzZWIwZTM1NGM0NDg4ODdjOTBmZGUyNGJlOTguYmluZFRvb2x0aXAoCiAgICAgICAgICAgICAgICBgPGRpdj4KICAgICAgICAgICAgICAgICAgICAgQcOpcm9wb3J0IGRlIFBhcmlzLU9ybHkgKE9SWSkgKEHDqXJvcG9ydCBkZSBQYXJpcy1Pcmx5KQogICAgICAgICAgICAgICAgIDwvZGl2PmAsCiAgICAgICAgICAgICAgICB7InN0aWNreSI6IHRydWV9CiAgICAgICAgICAgICk7CiAgICAgICAgCiAgICAKICAgICAgICAgICAgdmFyIG1hcmtlcl8zNzcxZDVjM2VjODQ0YjkzOWYwM2RlZTMyMGJkMDEyNCA9IEwubWFya2VyKAogICAgICAgICAgICAgICAgWzQ4Ljc0NzY1Njc5MTIyMDE0LCAyLjEwMDcyMjUxNjkyMzY5Nl0sCiAgICAgICAgICAgICAgICB7fQogICAgICAgICAgICApLmFkZFRvKG1hcF9hZGNhOTliZTJiYmI0Y2NkYTc5N2JhNWU4ZDNjOWI0ZSk7CiAgICAgICAgCiAgICAKICAgICAgICAgICAgdmFyIGljb25fODk3YjM0ZjY3ODQ1NGRlM2ExNWU0N2IxNmRkMjdhNzcgPSBMLkF3ZXNvbWVNYXJrZXJzLmljb24oCiAgICAgICAgICAgICAgICB7ImV4dHJhQ2xhc3NlcyI6ICJmYS1yb3RhdGUtMCIsICJpY29uIjogInBsYW5lIiwgImljb25Db2xvciI6ICJ3aGl0ZSIsICJtYXJrZXJDb2xvciI6ICJibGFjayIsICJwcmVmaXgiOiAiZmEifQogICAgICAgICAgICApOwogICAgICAgICAgICBtYXJrZXJfMzc3MWQ1YzNlYzg0NGI5MzlmMDNkZWUzMjBiZDAxMjQuc2V0SWNvbihpY29uXzg5N2IzNGY2Nzg0NTRkZTNhMTVlNDdiMTZkZDI3YTc3KTsKICAgICAgICAKICAgIAogICAgICAgICAgICBtYXJrZXJfMzc3MWQ1YzNlYzg0NGI5MzlmMDNkZWUzMjBiZDAxMjQuYmluZFRvb2x0aXAoCiAgICAgICAgICAgICAgICBgPGRpdj4KICAgICAgICAgICAgICAgICAgICAgQcOpcm9kcm9tZSBkZSBUb3Vzc3VzLWxlLU5vYmxlCiAgICAgICAgICAgICAgICAgPC9kaXY+YCwKICAgICAgICAgICAgICAgIHsic3RpY2t5IjogdHJ1ZX0KICAgICAgICAgICAgKTsKICAgICAgICAKICAgIAogICAgICAgICAgICB2YXIgbWFya2VyXzdjMTUzMWE0MmI0YzQ3YzQ5YjY2MzBjYTdjZTI0MzQ0ID0gTC5tYXJrZXIoCiAgICAgICAgICAgICAgICBbNDguODIzMDgwMTg1Mzc4NTcsIDIuNjI0MTc4NTExOTY2MjQxXSwKICAgICAgICAgICAgICAgIHt9CiAgICAgICAgICAgICkuYWRkVG8obWFwX2FkY2E5OWJlMmJiYjRjY2RhNzk3YmE1ZThkM2M5YjRlKTsKICAgICAgICAKICAgIAogICAgICAgICAgICB2YXIgaWNvbl9jMDc2NjkyZThkMDA0MDhlODUyODJmMzFhY2FhMDA4MSA9IEwuQXdlc29tZU1hcmtlcnMuaWNvbigKICAgICAgICAgICAgICAgIHsiZXh0cmFDbGFzc2VzIjogImZhLXJvdGF0ZS0wIiwgImljb24iOiAicGxhbmUiLCAiaWNvbkNvbG9yIjogIndoaXRlIiwgIm1hcmtlckNvbG9yIjogImJsYWNrIiwgInByZWZpeCI6ICJmYSJ9CiAgICAgICAgICAgICk7CiAgICAgICAgICAgIG1hcmtlcl83YzE1MzFhNDJiNGM0N2M0OWI2NjMwY2E3Y2UyNDM0NC5zZXRJY29uKGljb25fYzA3NjY5MmU4ZDAwNDA4ZTg1MjgyZjMxYWNhYTAwODEpOwogICAgICAgIAogICAgCiAgICAgICAgICAgIG1hcmtlcl83YzE1MzFhNDJiNGM0N2M0OWI2NjMwY2E3Y2UyNDM0NC5iaW5kVG9vbHRpcCgKICAgICAgICAgICAgICAgIGA8ZGl2PgogICAgICAgICAgICAgICAgICAgICBBw6lyb2Ryb21lIGRlIExvZ25lcy1FbWVyYWludmlsbGUKICAgICAgICAgICAgICAgICA8L2Rpdj5gLAogICAgICAgICAgICAgICAgeyJzdGlja3kiOiB0cnVlfQogICAgICAgICAgICApOwogICAgICAgIAogICAgCiAgICAgICAgICAgIHZhciBtYXJrZXJfMTM4YjRhYzhlOGYxNDYxYzgwZTc1ZTk3MTI2OTZiNDAgPSBMLm1hcmtlcigKICAgICAgICAgICAgICAgIFs0OC44NTI2LCAyLjM3MTY0XSwKICAgICAgICAgICAgICAgIHt9CiAgICAgICAgICAgICkuYWRkVG8obWFwX2FkY2E5OWJlMmJiYjRjY2RhNzk3YmE1ZThkM2M5YjRlKTsKICAgICAgICAKICAgIAogICAgICAgICAgICB2YXIgaWNvbl83MGQ0ZmUxYTcyNDQ0MzhiODY4ZGFlMDE4ZmNiMjc5YSA9IEwuQXdlc29tZU1hcmtlcnMuaWNvbigKICAgICAgICAgICAgICAgIHsiZXh0cmFDbGFzc2VzIjogImZhLXJvdGF0ZS0wIiwgImljb24iOiAiY29mZmVlIiwgImljb25Db2xvciI6ICJ3aGl0ZSIsICJtYXJrZXJDb2xvciI6ICJncmVlbiIsICJwcmVmaXgiOiAiZmEifQogICAgICAgICAgICApOwogICAgICAgICAgICBtYXJrZXJfMTM4YjRhYzhlOGYxNDYxYzgwZTc1ZTk3MTI2OTZiNDAuc2V0SWNvbihpY29uXzcwZDRmZTFhNzI0NDQzOGI4NjhkYWUwMThmY2IyNzlhKTsKICAgICAgICAKICAgIAogICAgICAgICAgICBtYXJrZXJfMTM4YjRhYzhlOGYxNDYxYzgwZTc1ZTk3MTI2OTZiNDAuYmluZFRvb2x0aXAoCiAgICAgICAgICAgICAgICBgPGRpdj4KICAgICAgICAgICAgICAgICAgICAgU3RhcmJ1Y2tzCiAgICAgICAgICAgICAgICAgPC9kaXY+YCwKICAgICAgICAgICAgICAgIHsic3RpY2t5IjogdHJ1ZX0KICAgICAgICAgICAgKTsKICAgICAgICAKICAgIAogICAgICAgICAgICB2YXIgbWFya2VyXzQ2OWNlYzc5ZDI1NzQ4NTQ5YThkNjVlMTk5ZThhYzgyID0gTC5tYXJrZXIoCiAgICAgICAgICAgICAgICBbNDguODc3MTIxNDM1MjI4ODk0LCAyLjM1OTYxOTA4NTI2MDUwMl0sCiAgICAgICAgICAgICAgICB7fQogICAgICAgICAgICApLmFkZFRvKG1hcF9hZGNhOTliZTJiYmI0Y2NkYTc5N2JhNWU4ZDNjOWI0ZSk7CiAgICAgICAgCiAgICAKICAgICAgICAgICAgdmFyIGljb25fNGNhNzk2YWRjYTQ3NGRhZmE0MGJkZWE0NjhkNzU4ZDAgPSBMLkF3ZXNvbWVNYXJrZXJzLmljb24oCiAgICAgICAgICAgICAgICB7ImV4dHJhQ2xhc3NlcyI6ICJmYS1yb3RhdGUtMCIsICJpY29uIjogImNvZmZlZSIsICJpY29uQ29sb3IiOiAid2hpdGUiLCAibWFya2VyQ29sb3IiOiAiZ3JlZW4iLCAicHJlZml4IjogImZhIn0KICAgICAgICAgICAgKTsKICAgICAgICAgICAgbWFya2VyXzQ2OWNlYzc5ZDI1NzQ4NTQ5YThkNjVlMTk5ZThhYzgyLnNldEljb24oaWNvbl80Y2E3OTZhZGNhNDc0ZGFmYTQwYmRlYTQ2OGQ3NThkMCk7CiAgICAgICAgCiAgICAKICAgICAgICAgICAgbWFya2VyXzQ2OWNlYzc5ZDI1NzQ4NTQ5YThkNjVlMTk5ZThhYzgyLmJpbmRUb29sdGlwKAogICAgICAgICAgICAgICAgYDxkaXY+CiAgICAgICAgICAgICAgICAgICAgIFN0YXJidWNrcwogICAgICAgICAgICAgICAgIDwvZGl2PmAsCiAgICAgICAgICAgICAgICB7InN0aWNreSI6IHRydWV9CiAgICAgICAgICAgICk7CiAgICAgICAgCiAgICAKICAgICAgICAgICAgdmFyIG1hcmtlcl8yZDU5MmExYmZmY2M0MjFhOGQyMzYwODhlM2E4M2RkOCA9IEwubWFya2VyKAogICAgICAgICAgICAgICAgWzQ4Ljg1Njc0MjM2OTIzMDk2LCAyLjM1NDkwNzAxMjA4OTUxOV0sCiAgICAgICAgICAgICAgICB7fQogICAgICAgICAgICApLmFkZFRvKG1hcF9hZGNhOTliZTJiYmI0Y2NkYTc5N2JhNWU4ZDNjOWI0ZSk7CiAgICAgICAgCiAgICAKICAgICAgICAgICAgdmFyIGljb25fMGMxYWQxNzY5NGFhNDEwZDk1MTc2MjI1M2M3OWU1MmUgPSBMLkF3ZXNvbWVNYXJrZXJzLmljb24oCiAgICAgICAgICAgICAgICB7ImV4dHJhQ2xhc3NlcyI6ICJmYS1yb3RhdGUtMCIsICJpY29uIjogImNvZmZlZSIsICJpY29uQ29sb3IiOiAid2hpdGUiLCAibWFya2VyQ29sb3IiOiAiZ3JlZW4iLCAicHJlZml4IjogImZhIn0KICAgICAgICAgICAgKTsKICAgICAgICAgICAgbWFya2VyXzJkNTkyYTFiZmZjYzQyMWE4ZDIzNjA4OGUzYTgzZGQ4LnNldEljb24oaWNvbl8wYzFhZDE3Njk0YWE0MTBkOTUxNzYyMjUzYzc5ZTUyZSk7CiAgICAgICAgCiAgICAKICAgICAgICAgICAgbWFya2VyXzJkNTkyYTFiZmZjYzQyMWE4ZDIzNjA4OGUzYTgzZGQ4LmJpbmRUb29sdGlwKAogICAgICAgICAgICAgICAgYDxkaXY+CiAgICAgICAgICAgICAgICAgICAgIFN0YXJidWNrcwogICAgICAgICAgICAgICAgIDwvZGl2PmAsCiAgICAgICAgICAgICAgICB7InN0aWNreSI6IHRydWV9CiAgICAgICAgICAgICk7CiAgICAgICAgCiAgICAKICAgICAgICAgICAgdmFyIG1hcmtlcl8wZGIyZmJmOWI1NzU0ZmVjOTJkODkwOGE4ZDdhZDc0NyA9IEwubWFya2VyKAogICAgICAgICAgICAgICAgWzQ4Ljg1NTUyNywgMi4zNjA1MzNdLAogICAgICAgICAgICAgICAge30KICAgICAgICAgICAgKS5hZGRUbyhtYXBfYWRjYTk5YmUyYmJiNGNjZGE3OTdiYTVlOGQzYzliNGUpOwogICAgICAgIAogICAgCiAgICAgICAgICAgIHZhciBpY29uXzljYzI3MzFkZDkzOTQ5ZWRiMjI5YmVjNTc3YjNjMmQzID0gTC5Bd2Vzb21lTWFya2Vycy5pY29uKAogICAgICAgICAgICAgICAgeyJleHRyYUNsYXNzZXMiOiAiZmEtcm90YXRlLTAiLCAiaWNvbiI6ICJjb2ZmZWUiLCAiaWNvbkNvbG9yIjogIndoaXRlIiwgIm1hcmtlckNvbG9yIjogImdyZWVuIiwgInByZWZpeCI6ICJmYSJ9CiAgICAgICAgICAgICk7CiAgICAgICAgICAgIG1hcmtlcl8wZGIyZmJmOWI1NzU0ZmVjOTJkODkwOGE4ZDdhZDc0Ny5zZXRJY29uKGljb25fOWNjMjczMWRkOTM5NDllZGIyMjliZWM1NzdiM2MyZDMpOwogICAgICAgIAogICAgCiAgICAgICAgICAgIG1hcmtlcl8wZGIyZmJmOWI1NzU0ZmVjOTJkODkwOGE4ZDdhZDc0Ny5iaW5kVG9vbHRpcCgKICAgICAgICAgICAgICAgIGA8ZGl2PgogICAgICAgICAgICAgICAgICAgICBTdGFyYnVja3MKICAgICAgICAgICAgICAgICA8L2Rpdj5gLAogICAgICAgICAgICAgICAgeyJzdGlja3kiOiB0cnVlfQogICAgICAgICAgICApOwogICAgICAgIAogICAgCiAgICAgICAgICAgIHZhciBtYXJrZXJfMjRmYmMyYmZiYmU2NDAyNjgwZTA2ZThlZTc2ZDliMmEgPSBMLm1hcmtlcigKICAgICAgICAgICAgICAgIFs0OC44NzczODkwNTMxMjQ5MywgMi4zNTg3NTYwNjUzNjg2NTJdLAogICAgICAgICAgICAgICAge30KICAgICAgICAgICAgKS5hZGRUbyhtYXBfYWRjYTk5YmUyYmJiNGNjZGE3OTdiYTVlOGQzYzliNGUpOwogICAgICAgIAogICAgCiAgICAgICAgICAgIHZhciBpY29uX2VhZjNhMmQxNTMwMjQwMjk5YjRkZjBkN2ZhYWU5MjQ3ID0gTC5Bd2Vzb21lTWFya2Vycy5pY29uKAogICAgICAgICAgICAgICAgeyJleHRyYUNsYXNzZXMiOiAiZmEtcm90YXRlLTAiLCAiaWNvbiI6ICJjb2ZmZWUiLCAiaWNvbkNvbG9yIjogIndoaXRlIiwgIm1hcmtlckNvbG9yIjogImdyZWVuIiwgInByZWZpeCI6ICJmYSJ9CiAgICAgICAgICAgICk7CiAgICAgICAgICAgIG1hcmtlcl8yNGZiYzJiZmJiZTY0MDI2ODBlMDZlOGVlNzZkOWIyYS5zZXRJY29uKGljb25fZWFmM2EyZDE1MzAyNDAyOTliNGRmMGQ3ZmFhZTkyNDcpOwogICAgICAgIAogICAgCiAgICAgICAgICAgIG1hcmtlcl8yNGZiYzJiZmJiZTY0MDI2ODBlMDZlOGVlNzZkOWIyYS5iaW5kVG9vbHRpcCgKICAgICAgICAgICAgICAgIGA8ZGl2PgogICAgICAgICAgICAgICAgICAgICBTdGFyYnVja3MKICAgICAgICAgICAgICAgICA8L2Rpdj5gLAogICAgICAgICAgICAgICAgeyJzdGlja3kiOiB0cnVlfQogICAgICAgICAgICApOwogICAgICAgIAogICAgCiAgICAgICAgICAgIHZhciBtYXJrZXJfZDM1MTZkZmI5OGQ5NDYxYzk1NjQwZDlhZmI0ZTQ1NjYgPSBMLm1hcmtlcigKICAgICAgICAgICAgICAgIFs0OC44NjE5ODk4MDY1NDQyMSwgMi4zNDk2MjcxNjY5ODY0NjU1XSwKICAgICAgICAgICAgICAgIHt9CiAgICAgICAgICAgICkuYWRkVG8obWFwX2FkY2E5OWJlMmJiYjRjY2RhNzk3YmE1ZThkM2M5YjRlKTsKICAgICAgICAKICAgIAogICAgICAgICAgICB2YXIgaWNvbl80NGFiMGJlM2YzYWI0ZTI0ODQ4NGIzYWUyZDIwOTI3NiA9IEwuQXdlc29tZU1hcmtlcnMuaWNvbigKICAgICAgICAgICAgICAgIHsiZXh0cmFDbGFzc2VzIjogImZhLXJvdGF0ZS0wIiwgImljb24iOiAiY29mZmVlIiwgImljb25Db2xvciI6ICJ3aGl0ZSIsICJtYXJrZXJDb2xvciI6ICJncmVlbiIsICJwcmVmaXgiOiAiZmEifQogICAgICAgICAgICApOwogICAgICAgICAgICBtYXJrZXJfZDM1MTZkZmI5OGQ5NDYxYzk1NjQwZDlhZmI0ZTQ1NjYuc2V0SWNvbihpY29uXzQ0YWIwYmUzZjNhYjRlMjQ4NDg0YjNhZTJkMjA5Mjc2KTsKICAgICAgICAKICAgIAogICAgICAgICAgICBtYXJrZXJfZDM1MTZkZmI5OGQ5NDYxYzk1NjQwZDlhZmI0ZTQ1NjYuYmluZFRvb2x0aXAoCiAgICAgICAgICAgICAgICBgPGRpdj4KICAgICAgICAgICAgICAgICAgICAgU3RhcmJ1Y2tzCiAgICAgICAgICAgICAgICAgPC9kaXY+YCwKICAgICAgICAgICAgICAgIHsic3RpY2t5IjogdHJ1ZX0KICAgICAgICAgICAgKTsKICAgICAgICAKICAgIAogICAgICAgICAgICB2YXIgbWFya2VyX2QxY2EyZmRlMGY1YjRhMDdiZGUzY2QxYTQ4ZTgxZTVmID0gTC5tYXJrZXIoCiAgICAgICAgICAgICAgICBbNDguODYwNDQ3NTU4ODI2OTIsIDIuMzUwMzgyMjA4ODI0MTU3N10sCiAgICAgICAgICAgICAgICB7fQogICAgICAgICAgICApLmFkZFRvKG1hcF9hZGNhOTliZTJiYmI0Y2NkYTc5N2JhNWU4ZDNjOWI0ZSk7CiAgICAgICAgCiAgICAKICAgICAgICAgICAgdmFyIGljb25fYzAwODc1MmI5ZjRkNGI2NGExZjgwMjAwNmIyOGNlY2MgPSBMLkF3ZXNvbWVNYXJrZXJzLmljb24oCiAgICAgICAgICAgICAgICB7ImV4dHJhQ2xhc3NlcyI6ICJmYS1yb3RhdGUtMCIsICJpY29uIjogImNvZmZlZSIsICJpY29uQ29sb3IiOiAid2hpdGUiLCAibWFya2VyQ29sb3IiOiAiZ3JlZW4iLCAicHJlZml4IjogImZhIn0KICAgICAgICAgICAgKTsKICAgICAgICAgICAgbWFya2VyX2QxY2EyZmRlMGY1YjRhMDdiZGUzY2QxYTQ4ZTgxZTVmLnNldEljb24oaWNvbl9jMDA4NzUyYjlmNGQ0YjY0YTFmODAyMDA2YjI4Y2VjYyk7CiAgICAgICAgCiAgICAKICAgICAgICAgICAgbWFya2VyX2QxY2EyZmRlMGY1YjRhMDdiZGUzY2QxYTQ4ZTgxZTVmLmJpbmRUb29sdGlwKAogICAgICAgICAgICAgICAgYDxkaXY+CiAgICAgICAgICAgICAgICAgICAgIFN0YXJidWNrcwogICAgICAgICAgICAgICAgIDwvZGl2PmAsCiAgICAgICAgICAgICAgICB7InN0aWNreSI6IHRydWV9CiAgICAgICAgICAgICk7CiAgICAgICAgCiAgICAKICAgICAgICAgICAgdmFyIG1hcmtlcl82ZDdlZjcwNTY3YzM0MGU0YWY2MDRkYWZjNTc2M2ViOSA9IEwubWFya2VyKAogICAgICAgICAgICAgICAgWzQ4Ljg3OTk2MDExODUyNzI4NiwgMi4zNTYzOTYzOTU5Mjg5NTJdLAogICAgICAgICAgICAgICAge30KICAgICAgICAgICAgKS5hZGRUbyhtYXBfYWRjYTk5YmUyYmJiNGNjZGE3OTdiYTVlOGQzYzliNGUpOwogICAgICAgIAogICAgCiAgICAgICAgICAgIHZhciBpY29uXzFhMDAwMDQ2NWNlYjQ1M2Q4NDMxMmYxZWRmMmZiODNlID0gTC5Bd2Vzb21lTWFya2Vycy5pY29uKAogICAgICAgICAgICAgICAgeyJleHRyYUNsYXNzZXMiOiAiZmEtcm90YXRlLTAiLCAiaWNvbiI6ICJjb2ZmZWUiLCAiaWNvbkNvbG9yIjogIndoaXRlIiwgIm1hcmtlckNvbG9yIjogImdyZWVuIiwgInByZWZpeCI6ICJmYSJ9CiAgICAgICAgICAgICk7CiAgICAgICAgICAgIG1hcmtlcl82ZDdlZjcwNTY3YzM0MGU0YWY2MDRkYWZjNTc2M2ViOS5zZXRJY29uKGljb25fMWEwMDAwNDY1Y2ViNDUzZDg0MzEyZjFlZGYyZmI4M2UpOwogICAgICAgIAogICAgCiAgICAgICAgICAgIG1hcmtlcl82ZDdlZjcwNTY3YzM0MGU0YWY2MDRkYWZjNTc2M2ViOS5iaW5kVG9vbHRpcCgKICAgICAgICAgICAgICAgIGA8ZGl2PgogICAgICAgICAgICAgICAgICAgICBTdGFyYnVja3MKICAgICAgICAgICAgICAgICA8L2Rpdj5gLAogICAgICAgICAgICAgICAgeyJzdGlja3kiOiB0cnVlfQogICAgICAgICAgICApOwogICAgICAgIAogICAgCiAgICAgICAgICAgIHZhciBtYXJrZXJfODFmNTgzODMyM2UyNGM0Yjk3ZTkwNzQxZGFjNjkyYzAgPSBMLm1hcmtlcigKICAgICAgICAgICAgICAgIFs0OC44NzA4NjQ5MzI4OTQ4NCwgMi4zNDcwMTk5OTYwNzc4N10sCiAgICAgICAgICAgICAgICB7fQogICAgICAgICAgICApLmFkZFRvKG1hcF9hZGNhOTliZTJiYmI0Y2NkYTc5N2JhNWU4ZDNjOWI0ZSk7CiAgICAgICAgCiAgICAKICAgICAgICAgICAgdmFyIGljb25fODljODJlMjJjMzY4NDNiZDg3ODg4MGQ3NjkzMTMxMjkgPSBMLkF3ZXNvbWVNYXJrZXJzLmljb24oCiAgICAgICAgICAgICAgICB7ImV4dHJhQ2xhc3NlcyI6ICJmYS1yb3RhdGUtMCIsICJpY29uIjogImNvZmZlZSIsICJpY29uQ29sb3IiOiAid2hpdGUiLCAibWFya2VyQ29sb3IiOiAiZ3JlZW4iLCAicHJlZml4IjogImZhIn0KICAgICAgICAgICAgKTsKICAgICAgICAgICAgbWFya2VyXzgxZjU4MzgzMjNlMjRjNGI5N2U5MDc0MWRhYzY5MmMwLnNldEljb24oaWNvbl84OWM4MmUyMmMzNjg0M2JkODc4ODgwZDc2OTMxMzEyOSk7CiAgICAgICAgCiAgICAKICAgICAgICAgICAgbWFya2VyXzgxZjU4MzgzMjNlMjRjNGI5N2U5MDc0MWRhYzY5MmMwLmJpbmRUb29sdGlwKAogICAgICAgICAgICAgICAgYDxkaXY+CiAgICAgICAgICAgICAgICAgICAgIFN0YXJidWNrcwogICAgICAgICAgICAgICAgIDwvZGl2PmAsCiAgICAgICAgICAgICAgICB7InN0aWNreSI6IHRydWV9CiAgICAgICAgICAgICk7CiAgICAgICAgCiAgICAKICAgICAgICAgICAgdmFyIG1hcmtlcl84ZjBmNzE0NDEzYWE0MWEwYjViNDQzMTZlOTM4Y2Q5OCA9IEwubWFya2VyKAogICAgICAgICAgICAgICAgWzQ4Ljg0NTA4NjU2NTA1NTAzLCAyLjM3MTIxNzYwODQ1MTg0MzNdLAogICAgICAgICAgICAgICAge30KICAgICAgICAgICAgKS5hZGRUbyhtYXBfYWRjYTk5YmUyYmJiNGNjZGE3OTdiYTVlOGQzYzliNGUpOwogICAgICAgIAogICAgCiAgICAgICAgICAgIHZhciBpY29uX2Q3YTAwMDZmZTI0NDQzMzA4MGUyNzgxZjkxZWQ1MmNiID0gTC5Bd2Vzb21lTWFya2Vycy5pY29uKAogICAgICAgICAgICAgICAgeyJleHRyYUNsYXNzZXMiOiAiZmEtcm90YXRlLTAiLCAiaWNvbiI6ICJjb2ZmZWUiLCAiaWNvbkNvbG9yIjogIndoaXRlIiwgIm1hcmtlckNvbG9yIjogImdyZWVuIiwgInByZWZpeCI6ICJmYSJ9CiAgICAgICAgICAgICk7CiAgICAgICAgICAgIG1hcmtlcl84ZjBmNzE0NDEzYWE0MWEwYjViNDQzMTZlOTM4Y2Q5OC5zZXRJY29uKGljb25fZDdhMDAwNmZlMjQ0NDMzMDgwZTI3ODFmOTFlZDUyY2IpOwogICAgICAgIAogICAgCiAgICAgICAgICAgIG1hcmtlcl84ZjBmNzE0NDEzYWE0MWEwYjViNDQzMTZlOTM4Y2Q5OC5iaW5kVG9vbHRpcCgKICAgICAgICAgICAgICAgIGA8ZGl2PgogICAgICAgICAgICAgICAgICAgICBTdGFyYnVja3MKICAgICAgICAgICAgICAgICA8L2Rpdj5gLAogICAgICAgICAgICAgICAgeyJzdGlja3kiOiB0cnVlfQogICAgICAgICAgICApOwogICAgICAgIAogICAgCiAgICAgICAgICAgIHZhciBtYXJrZXJfMTA4NzJjZmRiMWU0NDhiN2E5Y2YzMTVhZjlmYTcyZDggPSBMLm1hcmtlcigKICAgICAgICAgICAgICAgIFs0OC44NjcyMjg5NjA4MjQ5LCAyLjM0NzE4MDMyMTgxMjYyOTddLAogICAgICAgICAgICAgICAge30KICAgICAgICAgICAgKS5hZGRUbyhtYXBfYWRjYTk5YmUyYmJiNGNjZGE3OTdiYTVlOGQzYzliNGUpOwogICAgICAgIAogICAgCiAgICAgICAgICAgIHZhciBpY29uXzljM2Q2ZDAwODZjNjRlOWQ5ZGQ2Mzg0ZmVhY2M4ODJkID0gTC5Bd2Vzb21lTWFya2Vycy5pY29uKAogICAgICAgICAgICAgICAgeyJleHRyYUNsYXNzZXMiOiAiZmEtcm90YXRlLTAiLCAiaWNvbiI6ICJjb2ZmZWUiLCAiaWNvbkNvbG9yIjogIndoaXRlIiwgIm1hcmtlckNvbG9yIjogImdyZWVuIiwgInByZWZpeCI6ICJmYSJ9CiAgICAgICAgICAgICk7CiAgICAgICAgICAgIG1hcmtlcl8xMDg3MmNmZGIxZTQ0OGI3YTljZjMxNWFmOWZhNzJkOC5zZXRJY29uKGljb25fOWMzZDZkMDA4NmM2NGU5ZDlkZDYzODRmZWFjYzg4MmQpOwogICAgICAgIAogICAgCiAgICAgICAgICAgIG1hcmtlcl8xMDg3MmNmZGIxZTQ0OGI3YTljZjMxNWFmOWZhNzJkOC5iaW5kVG9vbHRpcCgKICAgICAgICAgICAgICAgIGA8ZGl2PgogICAgICAgICAgICAgICAgICAgICBTdGFyYnVja3MKICAgICAgICAgICAgICAgICA8L2Rpdj5gLAogICAgICAgICAgICAgICAgeyJzdGlja3kiOiB0cnVlfQogICAgICAgICAgICApOwogICAgICAgIAogICAgCiAgICAgICAgICAgIHZhciBtYXJrZXJfZjQzOTdhNWE3MTQ2NGY0NTk1OGMzMzk1ZTBhMThlODEgPSBMLm1hcmtlcigKICAgICAgICAgICAgICAgIFs0OC44NTg5MDIyODU3MTEyOSwgMi4zNDgxNTA2MTA5MjM3NjY2XSwKICAgICAgICAgICAgICAgIHt9CiAgICAgICAgICAgICkuYWRkVG8obWFwX2FkY2E5OWJlMmJiYjRjY2RhNzk3YmE1ZThkM2M5YjRlKTsKICAgICAgICAKICAgIAogICAgICAgICAgICB2YXIgaWNvbl8wZjYxY2VkZjMwNzQ0ODU5ODhmYjU4YWRhMTRkYzYzMyA9IEwuQXdlc29tZU1hcmtlcnMuaWNvbigKICAgICAgICAgICAgICAgIHsiZXh0cmFDbGFzc2VzIjogImZhLXJvdGF0ZS0wIiwgImljb24iOiAiY29mZmVlIiwgImljb25Db2xvciI6ICJ3aGl0ZSIsICJtYXJrZXJDb2xvciI6ICJncmVlbiIsICJwcmVmaXgiOiAiZmEifQogICAgICAgICAgICApOwogICAgICAgICAgICBtYXJrZXJfZjQzOTdhNWE3MTQ2NGY0NTk1OGMzMzk1ZTBhMThlODEuc2V0SWNvbihpY29uXzBmNjFjZWRmMzA3NDQ4NTk4OGZiNThhZGExNGRjNjMzKTsKICAgICAgICAKICAgIAogICAgICAgICAgICBtYXJrZXJfZjQzOTdhNWE3MTQ2NGY0NTk1OGMzMzk1ZTBhMThlODEuYmluZFRvb2x0aXAoCiAgICAgICAgICAgICAgICBgPGRpdj4KICAgICAgICAgICAgICAgICAgICAgU3RhcmJ1Y2tzCiAgICAgICAgICAgICAgICAgPC9kaXY+YCwKICAgICAgICAgICAgICAgIHsic3RpY2t5IjogdHJ1ZX0KICAgICAgICAgICAgKTsKICAgICAgICAKICAgIAogICAgICAgICAgICB2YXIgbWFya2VyXzAyNDZjM2JkOWZiNTQzYTliNzE1NGZlZmE3YmQ4ZDExID0gTC5tYXJrZXIoCiAgICAgICAgICAgICAgICBbNDguODQ0NTYwMDEyMDMwMjIsIDIuMzczNTU4MzcwOTc0MTc2XSwKICAgICAgICAgICAgICAgIHt9CiAgICAgICAgICAgICkuYWRkVG8obWFwX2FkY2E5OWJlMmJiYjRjY2RhNzk3YmE1ZThkM2M5YjRlKTsKICAgICAgICAKICAgIAogICAgICAgICAgICB2YXIgaWNvbl84N2ZhMTRhY2IyMzI0NGVmOTdjYWY0MzhmYmUzNzVhYiA9IEwuQXdlc29tZU1hcmtlcnMuaWNvbigKICAgICAgICAgICAgICAgIHsiZXh0cmFDbGFzc2VzIjogImZhLXJvdGF0ZS0wIiwgImljb24iOiAiY29mZmVlIiwgImljb25Db2xvciI6ICJ3aGl0ZSIsICJtYXJrZXJDb2xvciI6ICJncmVlbiIsICJwcmVmaXgiOiAiZmEifQogICAgICAgICAgICApOwogICAgICAgICAgICBtYXJrZXJfMDI0NmMzYmQ5ZmI1NDNhOWI3MTU0ZmVmYTdiZDhkMTEuc2V0SWNvbihpY29uXzg3ZmExNGFjYjIzMjQ0ZWY5N2NhZjQzOGZiZTM3NWFiKTsKICAgICAgICAKICAgIAogICAgICAgICAgICBtYXJrZXJfMDI0NmMzYmQ5ZmI1NDNhOWI3MTU0ZmVmYTdiZDhkMTEuYmluZFRvb2x0aXAoCiAgICAgICAgICAgICAgICBgPGRpdj4KICAgICAgICAgICAgICAgICAgICAgU3RhcmJ1Y2tzCiAgICAgICAgICAgICAgICAgPC9kaXY+YCwKICAgICAgICAgICAgICAgIHsic3RpY2t5IjogdHJ1ZX0KICAgICAgICAgICAgKTsKICAgICAgICAKICAgIAogICAgICAgICAgICB2YXIgbWFya2VyX2M0NWE3ZTc4NDkzMDQyZjA5ZmZhM2Q3YmNkMGQ1YjA1ID0gTC5tYXJrZXIoCiAgICAgICAgICAgICAgICBbNDguODYxNTcsIDIuMzQ2NzNdLAogICAgICAgICAgICAgICAge30KICAgICAgICAgICAgKS5hZGRUbyhtYXBfYWRjYTk5YmUyYmJiNGNjZGE3OTdiYTVlOGQzYzliNGUpOwogICAgICAgIAogICAgCiAgICAgICAgICAgIHZhciBpY29uXzI1NTI0Yzc5N2I2NDRjMjZhNzk1MjdiMWJkOTU0YWE2ID0gTC5Bd2Vzb21lTWFya2Vycy5pY29uKAogICAgICAgICAgICAgICAgeyJleHRyYUNsYXNzZXMiOiAiZmEtcm90YXRlLTAiLCAiaWNvbiI6ICJjb2ZmZWUiLCAiaWNvbkNvbG9yIjogIndoaXRlIiwgIm1hcmtlckNvbG9yIjogImdyZWVuIiwgInByZWZpeCI6ICJmYSJ9CiAgICAgICAgICAgICk7CiAgICAgICAgICAgIG1hcmtlcl9jNDVhN2U3ODQ5MzA0MmYwOWZmYTNkN2JjZDBkNWIwNS5zZXRJY29uKGljb25fMjU1MjRjNzk3YjY0NGMyNmE3OTUyN2IxYmQ5NTRhYTYpOwogICAgICAgIAogICAgCiAgICAgICAgICAgIG1hcmtlcl9jNDVhN2U3ODQ5MzA0MmYwOWZmYTNkN2JjZDBkNWIwNS5iaW5kVG9vbHRpcCgKICAgICAgICAgICAgICAgIGA8ZGl2PgogICAgICAgICAgICAgICAgICAgICBTdGFyYnVja3MKICAgICAgICAgICAgICAgICA8L2Rpdj5gLAogICAgICAgICAgICAgICAgeyJzdGlja3kiOiB0cnVlfQogICAgICAgICAgICApOwogICAgICAgIAogICAgCiAgICAgICAgICAgIHZhciBtYXJrZXJfNDE5MzQ0MjkwNTEwNDkwZjg1ODNlYTliMmRhYjI2YTEgPSBMLm1hcmtlcigKICAgICAgICAgICAgICAgIFs0OC44NDQ2Mzg3NDczNSwgMi4zNzY0NDk0NzM5MjQ1MzFdLAogICAgICAgICAgICAgICAge30KICAgICAgICAgICAgKS5hZGRUbyhtYXBfYWRjYTk5YmUyYmJiNGNjZGE3OTdiYTVlOGQzYzliNGUpOwogICAgICAgIAogICAgCiAgICAgICAgICAgIHZhciBpY29uXzUzOGYwNmMxOGZlOTQ4NzZhOTE2ZmRiOWZkMzhlZThkID0gTC5Bd2Vzb21lTWFya2Vycy5pY29uKAogICAgICAgICAgICAgICAgeyJleHRyYUNsYXNzZXMiOiAiZmEtcm90YXRlLTAiLCAiaWNvbiI6ICJjb2ZmZWUiLCAiaWNvbkNvbG9yIjogIndoaXRlIiwgIm1hcmtlckNvbG9yIjogImdyZWVuIiwgInByZWZpeCI6ICJmYSJ9CiAgICAgICAgICAgICk7CiAgICAgICAgICAgIG1hcmtlcl80MTkzNDQyOTA1MTA0OTBmODU4M2VhOWIyZGFiMjZhMS5zZXRJY29uKGljb25fNTM4ZjA2YzE4ZmU5NDg3NmE5MTZmZGI5ZmQzOGVlOGQpOwogICAgICAgIAogICAgCiAgICAgICAgICAgIG1hcmtlcl80MTkzNDQyOTA1MTA0OTBmODU4M2VhOWIyZGFiMjZhMS5iaW5kVG9vbHRpcCgKICAgICAgICAgICAgICAgIGA8ZGl2PgogICAgICAgICAgICAgICAgICAgICBTdGFyYnVja3MKICAgICAgICAgICAgICAgICA8L2Rpdj5gLAogICAgICAgICAgICAgICAgeyJzdGlja3kiOiB0cnVlfQogICAgICAgICAgICApOwogICAgICAgIAogICAgCiAgICAgICAgICAgIHZhciBtYXJrZXJfM2JmNDhjMDA3ODIxNGEyNWEzZjc3MTk3M2Y3YjBlMWIgPSBMLm1hcmtlcigKICAgICAgICAgICAgICAgIFs0OC44NTc5NzA1MzI3ODE2NjQsIDIuMzQ2MTUyMzY1MjA3NjcyXSwKICAgICAgICAgICAgICAgIHt9CiAgICAgICAgICAgICkuYWRkVG8obWFwX2FkY2E5OWJlMmJiYjRjY2RhNzk3YmE1ZThkM2M5YjRlKTsKICAgICAgICAKICAgIAogICAgICAgICAgICB2YXIgaWNvbl84NTBlYzVjNWJkYWM0MWIyOThlOGJjYzRmY2NhNTU0NCA9IEwuQXdlc29tZU1hcmtlcnMuaWNvbigKICAgICAgICAgICAgICAgIHsiZXh0cmFDbGFzc2VzIjogImZhLXJvdGF0ZS0wIiwgImljb24iOiAiZ2xhc3MiLCAiaWNvbkNvbG9yIjogImJsYWNrIiwgIm1hcmtlckNvbG9yIjogIndoaXRlIiwgInByZWZpeCI6ICJmYSJ9CiAgICAgICAgICAgICk7CiAgICAgICAgICAgIG1hcmtlcl8zYmY0OGMwMDc4MjE0YTI1YTNmNzcxOTczZjdiMGUxYi5zZXRJY29uKGljb25fODUwZWM1YzViZGFjNDFiMjk4ZThiY2M0ZmNjYTU1NDQpOwogICAgICAgIAogICAgCiAgICAgICAgICAgIG1hcmtlcl8zYmY0OGMwMDc4MjE0YTI1YTNmNzcxOTczZjdiMGUxYi5iaW5kVG9vbHRpcCgKICAgICAgICAgICAgICAgIGA8ZGl2PgogICAgICAgICAgICAgICAgICAgICBMZSBEZXJuaWVyIEJhciBhdmFudCBsYSBGaW4gZHUgTW9uZGUKICAgICAgICAgICAgICAgICA8L2Rpdj5gLAogICAgICAgICAgICAgICAgeyJzdGlja3kiOiB0cnVlfQogICAgICAgICAgICApOwogICAgICAgIAogICAgCiAgICAgICAgICAgIHZhciBtYXJrZXJfMmJmMjAwY2FkOTA2NDVkODg0NjY5ODdjZDJiMzIyYzcgPSBMLm1hcmtlcigKICAgICAgICAgICAgICAgIFs0OC44NTA5OTMsIDIuNDAxOTEzXSwKICAgICAgICAgICAgICAgIHt9CiAgICAgICAgICAgICkuYWRkVG8obWFwX2FkY2E5OWJlMmJiYjRjY2RhNzk3YmE1ZThkM2M5YjRlKTsKICAgICAgICAKICAgIAogICAgICAgICAgICB2YXIgaWNvbl83MTBkMmNkZjFlZGY0YTFhOTZkYWE0N2RmNmMwYzUxNyA9IEwuQXdlc29tZU1hcmtlcnMuaWNvbigKICAgICAgICAgICAgICAgIHsiZXh0cmFDbGFzc2VzIjogImZhLXJvdGF0ZS0wIiwgImljb24iOiAiZ2xhc3MiLCAiaWNvbkNvbG9yIjogImJsYWNrIiwgIm1hcmtlckNvbG9yIjogIndoaXRlIiwgInByZWZpeCI6ICJmYSJ9CiAgICAgICAgICAgICk7CiAgICAgICAgICAgIG1hcmtlcl8yYmYyMDBjYWQ5MDY0NWQ4ODQ2Njk4N2NkMmIzMjJjNy5zZXRJY29uKGljb25fNzEwZDJjZGYxZWRmNGExYTk2ZGFhNDdkZjZjMGM1MTcpOwogICAgICAgIAogICAgCiAgICAgICAgICAgIG1hcmtlcl8yYmYyMDBjYWQ5MDY0NWQ4ODQ2Njk4N2NkMmIzMjJjNy5iaW5kVG9vbHRpcCgKICAgICAgICAgICAgICAgIGA8ZGl2PgogICAgICAgICAgICAgICAgICAgICBMZXMgUMOocmVzIFBvcHVsYWlyZXMKICAgICAgICAgICAgICAgICA8L2Rpdj5gLAogICAgICAgICAgICAgICAgeyJzdGlja3kiOiB0cnVlfQogICAgICAgICAgICApOwogICAgICAgIAogICAgCiAgICAgICAgICAgIHZhciBtYXJrZXJfYTY0MjAzYzEwYmJhNDUxOTg1NDRmOGEzOGFiZjg1YjMgPSBMLm1hcmtlcigKICAgICAgICAgICAgICAgIFs0OC44ODM3NDk4NzUyNjE2NCwgMi4zMzY2OTY4OTAwMjM0MTQ0XSwKICAgICAgICAgICAgICAgIHt9CiAgICAgICAgICAgICkuYWRkVG8obWFwX2FkY2E5OWJlMmJiYjRjY2RhNzk3YmE1ZThkM2M5YjRlKTsKICAgICAgICAKICAgIAogICAgICAgICAgICB2YXIgaWNvbl9mZTZhODVlNWI4NjQ0ZDU4YjBiOTJjMGY2NDZmYzE5YiA9IEwuQXdlc29tZU1hcmtlcnMuaWNvbigKICAgICAgICAgICAgICAgIHsiZXh0cmFDbGFzc2VzIjogImZhLXJvdGF0ZS0wIiwgImljb24iOiAiZ2xhc3MiLCAiaWNvbkNvbG9yIjogImJsYWNrIiwgIm1hcmtlckNvbG9yIjogIndoaXRlIiwgInByZWZpeCI6ICJmYSJ9CiAgICAgICAgICAgICk7CiAgICAgICAgICAgIG1hcmtlcl9hNjQyMDNjMTBiYmE0NTE5ODU0NGY4YTM4YWJmODViMy5zZXRJY29uKGljb25fZmU2YTg1ZTViODY0NGQ1OGIwYjkyYzBmNjQ2ZmMxOWIpOwogICAgICAgIAogICAgCiAgICAgICAgICAgIG1hcmtlcl9hNjQyMDNjMTBiYmE0NTE5ODU0NGY4YTM4YWJmODViMy5iaW5kVG9vbHRpcCgKICAgICAgICAgICAgICAgIGA8ZGl2PgogICAgICAgICAgICAgICAgICAgICBNYXJsdXNzZSBldCBMYXBpbgogICAgICAgICAgICAgICAgIDwvZGl2PmAsCiAgICAgICAgICAgICAgICB7InN0aWNreSI6IHRydWV9CiAgICAgICAgICAgICk7CiAgICAgICAgCiAgICAKICAgICAgICAgICAgdmFyIG1hcmtlcl9mNDk5NDE1ZmE4OTc0MTdmOWY2ZTdiZGEyNzRhM2Y0NiA9IEwubWFya2VyKAogICAgICAgICAgICAgICAgWzQ4Ljg3MzAwMSwgMi4zNDE1NTldLAogICAgICAgICAgICAgICAge30KICAgICAgICAgICAgKS5hZGRUbyhtYXBfYWRjYTk5YmUyYmJiNGNjZGE3OTdiYTVlOGQzYzliNGUpOwogICAgICAgIAogICAgCiAgICAgICAgICAgIHZhciBpY29uXzJmNGMyNjlkOGFiZDQzMWZhZDM0MmRlZTViNmY4YTRmID0gTC5Bd2Vzb21lTWFya2Vycy5pY29uKAogICAgICAgICAgICAgICAgeyJleHRyYUNsYXNzZXMiOiAiZmEtcm90YXRlLTAiLCAiaWNvbiI6ICJnbGFzcyIsICJpY29uQ29sb3IiOiAiYmxhY2siLCAibWFya2VyQ29sb3IiOiAid2hpdGUiLCAicHJlZml4IjogImZhIn0KICAgICAgICAgICAgKTsKICAgICAgICAgICAgbWFya2VyX2Y0OTk0MTVmYTg5NzQxN2Y5ZjZlN2JkYTI3NGEzZjQ2LnNldEljb24oaWNvbl8yZjRjMjY5ZDhhYmQ0MzFmYWQzNDJkZWU1YjZmOGE0Zik7CiAgICAgICAgCiAgICAKICAgICAgICAgICAgbWFya2VyX2Y0OTk0MTVmYTg5NzQxN2Y5ZjZlN2JkYTI3NGEzZjQ2LmJpbmRUb29sdGlwKAogICAgICAgICAgICAgICAgYDxkaXY+CiAgICAgICAgICAgICAgICAgICAgIExlIENhZsOpIGRlcyBBbnRpcXVhaXJlcwogICAgICAgICAgICAgICAgIDwvZGl2PmAsCiAgICAgICAgICAgICAgICB7InN0aWNreSI6IHRydWV9CiAgICAgICAgICAgICk7CiAgICAgICAgCiAgICAKICAgICAgICAgICAgdmFyIG1hcmtlcl83NjJiYzYyYzQyOTE0ZThlYWE3OTExNzBiYWUwYjQ5ZiA9IEwubWFya2VyKAogICAgICAgICAgICAgICAgWzQ4Ljg4MTI0ODU1NzE4MDMsIDIuMzM2MTY0NDM1MDYzMDIyXSwKICAgICAgICAgICAgICAgIHt9CiAgICAgICAgICAgICkuYWRkVG8obWFwX2FkY2E5OWJlMmJiYjRjY2RhNzk3YmE1ZThkM2M5YjRlKTsKICAgICAgICAKICAgIAogICAgICAgICAgICB2YXIgaWNvbl80ODllMDhhNDkxNzk0YjcyYWU5NTM1MzA0MzY3ZDg0NiA9IEwuQXdlc29tZU1hcmtlcnMuaWNvbigKICAgICAgICAgICAgICAgIHsiZXh0cmFDbGFzc2VzIjogImZhLXJvdGF0ZS0wIiwgImljb24iOiAiZ2xhc3MiLCAiaWNvbkNvbG9yIjogImJsYWNrIiwgIm1hcmtlckNvbG9yIjogIndoaXRlIiwgInByZWZpeCI6ICJmYSJ9CiAgICAgICAgICAgICk7CiAgICAgICAgICAgIG1hcmtlcl83NjJiYzYyYzQyOTE0ZThlYWE3OTExNzBiYWUwYjQ5Zi5zZXRJY29uKGljb25fNDg5ZTA4YTQ5MTc5NGI3MmFlOTUzNTMwNDM2N2Q4NDYpOwogICAgICAgIAogICAgCiAgICAgICAgICAgIG1hcmtlcl83NjJiYzYyYzQyOTE0ZThlYWE3OTExNzBiYWUwYjQ5Zi5iaW5kVG9vbHRpcCgKICAgICAgICAgICAgICAgIGA8ZGl2PgogICAgICAgICAgICAgICAgICAgICBMZSBTYW5zIFNvdWNpCiAgICAgICAgICAgICAgICAgPC9kaXY+YCwKICAgICAgICAgICAgICAgIHsic3RpY2t5IjogdHJ1ZX0KICAgICAgICAgICAgKTsKICAgICAgICAKICAgIAogICAgICAgICAgICB2YXIgbWFya2VyXzMzZmVmYmE3NDEyNzQyMDk4M2Q5MTJhZjBmNTY2YjM1ID0gTC5tYXJrZXIoCiAgICAgICAgICAgICAgICBbNDguODQyOTQ1NDY4NTcyNjksIDIuMzQ4NjIyMTk5MDMwMTI1NV0sCiAgICAgICAgICAgICAgICB7fQogICAgICAgICAgICApLmFkZFRvKG1hcF9hZGNhOTliZTJiYmI0Y2NkYTc5N2JhNWU4ZDNjOWI0ZSk7CiAgICAgICAgCiAgICAKICAgICAgICAgICAgdmFyIGljb25fMTI0YTljYmM1YWVkNGNmMzliMTc2YjhjYjQ4ZGYwYTggPSBMLkF3ZXNvbWVNYXJrZXJzLmljb24oCiAgICAgICAgICAgICAgICB7ImV4dHJhQ2xhc3NlcyI6ICJmYS1yb3RhdGUtMCIsICJpY29uIjogImdsYXNzIiwgImljb25Db2xvciI6ICJibGFjayIsICJtYXJrZXJDb2xvciI6ICJ3aGl0ZSIsICJwcmVmaXgiOiAiZmEifQogICAgICAgICAgICApOwogICAgICAgICAgICBtYXJrZXJfMzNmZWZiYTc0MTI3NDIwOTgzZDkxMmFmMGY1NjZiMzUuc2V0SWNvbihpY29uXzEyNGE5Y2JjNWFlZDRjZjM5YjE3NmI4Y2I0OGRmMGE4KTsKICAgICAgICAKICAgIAogICAgICAgICAgICBtYXJrZXJfMzNmZWZiYTc0MTI3NDIwOTgzZDkxMmFmMGY1NjZiMzUuYmluZFRvb2x0aXAoCiAgICAgICAgICAgICAgICBgPGRpdj4KICAgICAgICAgICAgICAgICAgICAgQnJld2JlcnJ5IEJhcgogICAgICAgICAgICAgICAgIDwvZGl2PmAsCiAgICAgICAgICAgICAgICB7InN0aWNreSI6IHRydWV9CiAgICAgICAgICAgICk7CiAgICAgICAgCiAgICAKICAgICAgICAgICAgdmFyIG1hcmtlcl82NDNiMzAzMjA3OWY0MDNmODMyZjA1NDNiZDA3ZGY5ZCA9IEwubWFya2VyKAogICAgICAgICAgICAgICAgWzQ4LjgzNzM1MjgyNzU0NDUzLCAyLjMzNDEwNjU2NDUyMTc4OTZdLAogICAgICAgICAgICAgICAge30KICAgICAgICAgICAgKS5hZGRUbyhtYXBfYWRjYTk5YmUyYmJiNGNjZGE3OTdiYTVlOGQzYzliNGUpOwogICAgICAgIAogICAgCiAgICAgICAgICAgIHZhciBpY29uXzkyOTg1NWRlYzE3NjRiNjFhNTczODM3ODM1MDdmYmQyID0gTC5Bd2Vzb21lTWFya2Vycy5pY29uKAogICAgICAgICAgICAgICAgeyJleHRyYUNsYXNzZXMiOiAiZmEtcm90YXRlLTAiLCAiaWNvbiI6ICJnbGFzcyIsICJpY29uQ29sb3IiOiAiYmxhY2siLCAibWFya2VyQ29sb3IiOiAid2hpdGUiLCAicHJlZml4IjogImZhIn0KICAgICAgICAgICAgKTsKICAgICAgICAgICAgbWFya2VyXzY0M2IzMDMyMDc5ZjQwM2Y4MzJmMDU0M2JkMDdkZjlkLnNldEljb24oaWNvbl85Mjk4NTVkZWMxNzY0YjYxYTU3MzgzNzgzNTA3ZmJkMik7CiAgICAgICAgCiAgICAKICAgICAgICAgICAgbWFya2VyXzY0M2IzMDMyMDc5ZjQwM2Y4MzJmMDU0M2JkMDdkZjlkLmJpbmRUb29sdGlwKAogICAgICAgICAgICAgICAgYDxkaXY+CiAgICAgICAgICAgICAgICAgICAgIExhIExpbmdlcmllCiAgICAgICAgICAgICAgICAgPC9kaXY+YCwKICAgICAgICAgICAgICAgIHsic3RpY2t5IjogdHJ1ZX0KICAgICAgICAgICAgKTsKICAgICAgICAKICAgIAogICAgICAgICAgICB2YXIgbWFya2VyXzc5ZTFiNDdiMDJiZTQ0MzM4NWFlZmI2NGU3ZjkyNDUwID0gTC5tYXJrZXIoCiAgICAgICAgICAgICAgICBbNDguODcyNzcwMTI0MDMyMjksIDIuMzYzNDk3MDQ1OTYzMTYzXSwKICAgICAgICAgICAgICAgIHt9CiAgICAgICAgICAgICkuYWRkVG8obWFwX2FkY2E5OWJlMmJiYjRjY2RhNzk3YmE1ZThkM2M5YjRlKTsKICAgICAgICAKICAgIAogICAgICAgICAgICB2YXIgaWNvbl9kYzI0MDM3NDBmNGI0NjMxOGJmYzExNzA5ZGM0MjM5MiA9IEwuQXdlc29tZU1hcmtlcnMuaWNvbigKICAgICAgICAgICAgICAgIHsiZXh0cmFDbGFzc2VzIjogImZhLXJvdGF0ZS0wIiwgImljb24iOiAiZ2xhc3MiLCAiaWNvbkNvbG9yIjogImJsYWNrIiwgIm1hcmtlckNvbG9yIjogIndoaXRlIiwgInByZWZpeCI6ICJmYSJ9CiAgICAgICAgICAgICk7CiAgICAgICAgICAgIG1hcmtlcl83OWUxYjQ3YjAyYmU0NDMzODVhZWZiNjRlN2Y5MjQ1MC5zZXRJY29uKGljb25fZGMyNDAzNzQwZjRiNDYzMThiZmMxMTcwOWRjNDIzOTIpOwogICAgICAgIAogICAgCiAgICAgICAgICAgIG1hcmtlcl83OWUxYjQ3YjAyYmU0NDMzODVhZWZiNjRlN2Y5MjQ1MC5iaW5kVG9vbHRpcCgKICAgICAgICAgICAgICAgIGA8ZGl2PgogICAgICAgICAgICAgICAgICAgICBMYSBQYXRhY2hlCiAgICAgICAgICAgICAgICAgPC9kaXY+YCwKICAgICAgICAgICAgICAgIHsic3RpY2t5IjogdHJ1ZX0KICAgICAgICAgICAgKTsKICAgICAgICAKICAgIAogICAgICAgICAgICB2YXIgbWFya2VyXzc2ZmQzYTVlNDU4YTQxODc5ODQ0NjZlZjA2ZDZkYTljID0gTC5tYXJrZXIoCiAgICAgICAgICAgICAgICBbNDguODcxMzQyNTI1MDQyODksIDIuMzE3OTc2MzQ0MDUyNjcxXSwKICAgICAgICAgICAgICAgIHt9CiAgICAgICAgICAgICkuYWRkVG8obWFwX2FkY2E5OWJlMmJiYjRjY2RhNzk3YmE1ZThkM2M5YjRlKTsKICAgICAgICAKICAgIAogICAgICAgICAgICB2YXIgaWNvbl9mOGQwNGQ0YzJlMmE0ZWJkYWYyMDliOTE0MmM3ODFmMiA9IEwuQXdlc29tZU1hcmtlcnMuaWNvbigKICAgICAgICAgICAgICAgIHsiZXh0cmFDbGFzc2VzIjogImZhLXJvdGF0ZS0wIiwgImljb24iOiAiZ2xhc3MiLCAiaWNvbkNvbG9yIjogImJsYWNrIiwgIm1hcmtlckNvbG9yIjogIndoaXRlIiwgInByZWZpeCI6ICJmYSJ9CiAgICAgICAgICAgICk7CiAgICAgICAgICAgIG1hcmtlcl83NmZkM2E1ZTQ1OGE0MTg3OTg0NDY2ZWYwNmQ2ZGE5Yy5zZXRJY29uKGljb25fZjhkMDRkNGMyZTJhNGViZGFmMjA5YjkxNDJjNzgxZjIpOwogICAgICAgIAogICAgCiAgICAgICAgICAgIG1hcmtlcl83NmZkM2E1ZTQ1OGE0MTg3OTg0NDY2ZWYwNmQ2ZGE5Yy5iaW5kVG9vbHRpcCgKICAgICAgICAgICAgICAgIGA8ZGl2PgogICAgICAgICAgICAgICAgICAgICBCdWdzeSdzCiAgICAgICAgICAgICAgICAgPC9kaXY+YCwKICAgICAgICAgICAgICAgIHsic3RpY2t5IjogdHJ1ZX0KICAgICAgICAgICAgKTsKICAgICAgICAKICAgIAogICAgICAgICAgICB2YXIgbWFya2VyX2IzZGUzM2ZkNzk0MDQwZjQ5ZjNkOGM4NjRiZTFhYjIyID0gTC5tYXJrZXIoCiAgICAgICAgICAgICAgICBbNDguODYzMDMyMTI5ODkwMzksIDIuMzY0MDU4OTMxODk1MzEyNV0sCiAgICAgICAgICAgICAgICB7fQogICAgICAgICAgICApLmFkZFRvKG1hcF9hZGNhOTliZTJiYmI0Y2NkYTc5N2JhNWU4ZDNjOWI0ZSk7CiAgICAgICAgCiAgICAKICAgICAgICAgICAgdmFyIGljb25fYmQ5NzFiZjRlYTcwNDA3NjhkNTAwZWI3N2U4MTkwNTcgPSBMLkF3ZXNvbWVNYXJrZXJzLmljb24oCiAgICAgICAgICAgICAgICB7ImV4dHJhQ2xhc3NlcyI6ICJmYS1yb3RhdGUtMCIsICJpY29uIjogImdsYXNzIiwgImljb25Db2xvciI6ICJibGFjayIsICJtYXJrZXJDb2xvciI6ICJ3aGl0ZSIsICJwcmVmaXgiOiAiZmEifQogICAgICAgICAgICApOwogICAgICAgICAgICBtYXJrZXJfYjNkZTMzZmQ3OTQwNDBmNDlmM2Q4Yzg2NGJlMWFiMjIuc2V0SWNvbihpY29uX2JkOTcxYmY0ZWE3MDQwNzY4ZDUwMGViNzdlODE5MDU3KTsKICAgICAgICAKICAgIAogICAgICAgICAgICBtYXJrZXJfYjNkZTMzZmQ3OTQwNDBmNDlmM2Q4Yzg2NGJlMWFiMjIuYmluZFRvb2x0aXAoCiAgICAgICAgICAgICAgICBgPGRpdj4KICAgICAgICAgICAgICAgICAgICAgQ2FuZGVsYXJpYQogICAgICAgICAgICAgICAgIDwvZGl2PmAsCiAgICAgICAgICAgICAgICB7InN0aWNreSI6IHRydWV9CiAgICAgICAgICAgICk7CiAgICAgICAgCiAgICAKICAgICAgICAgICAgdmFyIG1hcmtlcl85YmQ5MTc0YzAzMDY0MGUzYmEwZDgxZjc1ZWFhMzVhNiA9IEwubWFya2VyKAogICAgICAgICAgICAgICAgWzQ4Ljg1MzAxMDc2ODg3NzIzLCAyLjM3NDIyNDU1MDQwOTYyNF0sCiAgICAgICAgICAgICAgICB7fQogICAgICAgICAgICApLmFkZFRvKG1hcF9hZGNhOTliZTJiYmI0Y2NkYTc5N2JhNWU4ZDNjOWI0ZSk7CiAgICAgICAgCiAgICAKICAgICAgICAgICAgdmFyIGljb25fMjRiZDI3MDdmNmJjNGUzYmI4Mzk5NDNiMTFhZTYxNjcgPSBMLkF3ZXNvbWVNYXJrZXJzLmljb24oCiAgICAgICAgICAgICAgICB7ImV4dHJhQ2xhc3NlcyI6ICJmYS1yb3RhdGUtMCIsICJpY29uIjogImdsYXNzIiwgImljb25Db2xvciI6ICJibGFjayIsICJtYXJrZXJDb2xvciI6ICJ3aGl0ZSIsICJwcmVmaXgiOiAiZmEifQogICAgICAgICAgICApOwogICAgICAgICAgICBtYXJrZXJfOWJkOTE3NGMwMzA2NDBlM2JhMGQ4MWY3NWVhYTM1YTYuc2V0SWNvbihpY29uXzI0YmQyNzA3ZjZiYzRlM2JiODM5OTQzYjExYWU2MTY3KTsKICAgICAgICAKICAgIAogICAgICAgICAgICBtYXJrZXJfOWJkOTE3NGMwMzA2NDBlM2JhMGQ4MWY3NWVhYTM1YTYuYmluZFRvb2x0aXAoCiAgICAgICAgICAgICAgICBgPGRpdj4KICAgICAgICAgICAgICAgICAgICAgQmVybGluZXIgV3VuZGVyYmFyCiAgICAgICAgICAgICAgICAgPC9kaXY+YCwKICAgICAgICAgICAgICAgIHsic3RpY2t5IjogdHJ1ZX0KICAgICAgICAgICAgKTsKICAgICAgICAKICAgIAogICAgICAgICAgICB2YXIgbWFya2VyXzNlZTA3ZDczZGU3MzQ3YzBhYjBhZGZhYTFiZmZmYTVhID0gTC5tYXJrZXIoCiAgICAgICAgICAgICAgICBbNDguODcyNDg2LCAyLjM2NTY2OTddLAogICAgICAgICAgICAgICAge30KICAgICAgICAgICAgKS5hZGRUbyhtYXBfYWRjYTk5YmUyYmJiNGNjZGE3OTdiYTVlOGQzYzliNGUpOwogICAgICAgIAogICAgCiAgICAgICAgICAgIHZhciBpY29uXzY1NzJjM2I4ODk3ZTRhM2M5MDhkYTU1M2M3YjUxOGVjID0gTC5Bd2Vzb21lTWFya2Vycy5pY29uKAogICAgICAgICAgICAgICAgeyJleHRyYUNsYXNzZXMiOiAiZmEtcm90YXRlLTAiLCAiaWNvbiI6ICJnbGFzcyIsICJpY29uQ29sb3IiOiAiYmxhY2siLCAibWFya2VyQ29sb3IiOiAid2hpdGUiLCAicHJlZml4IjogImZhIn0KICAgICAgICAgICAgKTsKICAgICAgICAgICAgbWFya2VyXzNlZTA3ZDczZGU3MzQ3YzBhYjBhZGZhYTFiZmZmYTVhLnNldEljb24oaWNvbl82NTcyYzNiODg5N2U0YTNjOTA4ZGE1NTNjN2I1MThlYyk7CiAgICAgICAgCiAgICAKICAgICAgICAgICAgbWFya2VyXzNlZTA3ZDczZGU3MzQ3YzBhYjBhZGZhYTFiZmZmYTVhLmJpbmRUb29sdGlwKAogICAgICAgICAgICAgICAgYDxkaXY+CiAgICAgICAgICAgICAgICAgICAgIExlIENvbXB0b2lyIEfDqW7DqXJhbAogICAgICAgICAgICAgICAgIDwvZGl2PmAsCiAgICAgICAgICAgICAgICB7InN0aWNreSI6IHRydWV9CiAgICAgICAgICAgICk7CiAgICAgICAgCiAgICAKICAgICAgICAgICAgdmFyIG1hcmtlcl9lZGNhY2I1ZWIzMTg0NDRiYWE2YWJhNWQwNjVhOGVlZiA9IEwubWFya2VyKAogICAgICAgICAgICAgICAgWzQ4Ljg1MjAzODgzMTY0MTA3LCAyLjMzODgxMjUwMDIzODQxODZdLAogICAgICAgICAgICAgICAge30KICAgICAgICAgICAgKS5hZGRUbyhtYXBfYWRjYTk5YmUyYmJiNGNjZGE3OTdiYTVlOGQzYzliNGUpOwogICAgICAgIAogICAgCiAgICAgICAgICAgIHZhciBpY29uXzY5M2I1MDY0MDJhYjRmYzE5MGE3NmUyMjQ2Y2VkMzMyID0gTC5Bd2Vzb21lTWFya2Vycy5pY29uKAogICAgICAgICAgICAgICAgeyJleHRyYUNsYXNzZXMiOiAiZmEtcm90YXRlLTAiLCAiaWNvbiI6ICJnbGFzcyIsICJpY29uQ29sb3IiOiAiYmxhY2siLCAibWFya2VyQ29sb3IiOiAid2hpdGUiLCAicHJlZml4IjogImZhIn0KICAgICAgICAgICAgKTsKICAgICAgICAgICAgbWFya2VyX2VkY2FjYjVlYjMxODQ0NGJhYTZhYmE1ZDA2NWE4ZWVmLnNldEljb24oaWNvbl82OTNiNTA2NDAyYWI0ZmMxOTBhNzZlMjI0NmNlZDMzMik7CiAgICAgICAgCiAgICAKICAgICAgICAgICAgbWFya2VyX2VkY2FjYjVlYjMxODQ0NGJhYTZhYmE1ZDA2NWE4ZWVmLmJpbmRUb29sdGlwKAogICAgICAgICAgICAgICAgYDxkaXY+CiAgICAgICAgICAgICAgICAgICAgIEwnQXZhbnQgQ29tcHRvaXIKICAgICAgICAgICAgICAgICA8L2Rpdj5gLAogICAgICAgICAgICAgICAgeyJzdGlja3kiOiB0cnVlfQogICAgICAgICAgICApOwogICAgICAgIAogICAgCiAgICAgICAgICAgIHZhciBtYXJrZXJfYWEzNjg5MDA5OGU4NGFhZmI0ZTBlYTliZDg2ZWQ1ZGIgPSBMLm1hcmtlcigKICAgICAgICAgICAgICAgIFs0OC44ODQ0Mjg3OTE4NDk1MiwgMi4zMzIxNTE0NzgxNzQzNjA2XSwKICAgICAgICAgICAgICAgIHt9CiAgICAgICAgICAgICkuYWRkVG8obWFwX2FkY2E5OWJlMmJiYjRjY2RhNzk3YmE1ZThkM2M5YjRlKTsKICAgICAgICAKICAgIAogICAgICAgICAgICB2YXIgaWNvbl9iY2E1NjYzNmNkODM0NmVjYjI1ZjRmYmU3ZGU2MGVmYSA9IEwuQXdlc29tZU1hcmtlcnMuaWNvbigKICAgICAgICAgICAgICAgIHsiZXh0cmFDbGFzc2VzIjogImZhLXJvdGF0ZS0wIiwgImljb24iOiAiZ2xhc3MiLCAiaWNvbkNvbG9yIjogImJsYWNrIiwgIm1hcmtlckNvbG9yIjogIndoaXRlIiwgInByZWZpeCI6ICJmYSJ9CiAgICAgICAgICAgICk7CiAgICAgICAgICAgIG1hcmtlcl9hYTM2ODkwMDk4ZTg0YWFmYjRlMGVhOWJkODZlZDVkYi5zZXRJY29uKGljb25fYmNhNTY2MzZjZDgzNDZlY2IyNWY0ZmJlN2RlNjBlZmEpOwogICAgICAgIAogICAgCiAgICAgICAgICAgIG1hcmtlcl9hYTM2ODkwMDk4ZTg0YWFmYjRlMGVhOWJkODZlZDVkYi5iaW5kVG9vbHRpcCgKICAgICAgICAgICAgICAgIGA8ZGl2PgogICAgICAgICAgICAgICAgICAgICBCYXIgw6AgQnVsbGVzCiAgICAgICAgICAgICAgICAgPC9kaXY+YCwKICAgICAgICAgICAgICAgIHsic3RpY2t5IjogdHJ1ZX0KICAgICAgICAgICAgKTsKICAgICAgICAKICAgIAogICAgICAgICAgICB2YXIgbWFya2VyXzE4ZmY1M2NkYThlNjQ5NTliYzc5ZGI3Zjk2Yjg2MGY4ID0gTC5tYXJrZXIoCiAgICAgICAgICAgICAgICBbNDguODYzNzAyNzEyMDcyNjE2LCAyLjM2MzUxMzY3MTE3ODAyODVdLAogICAgICAgICAgICAgICAge30KICAgICAgICAgICAgKS5hZGRUbyhtYXBfYWRjYTk5YmUyYmJiNGNjZGE3OTdiYTVlOGQzYzliNGUpOwogICAgICAgIAogICAgCiAgICAgICAgICAgIHZhciBpY29uXzM1MDljNDA5NGZkODQ0MDZhYjU5M2M1MTdmOGM5ODYwID0gTC5Bd2Vzb21lTWFya2Vycy5pY29uKAogICAgICAgICAgICAgICAgeyJleHRyYUNsYXNzZXMiOiAiZmEtcm90YXRlLTAiLCAiaWNvbiI6ICJnbGFzcyIsICJpY29uQ29sb3IiOiAiYmxhY2siLCAibWFya2VyQ29sb3IiOiAid2hpdGUiLCAicHJlZml4IjogImZhIn0KICAgICAgICAgICAgKTsKICAgICAgICAgICAgbWFya2VyXzE4ZmY1M2NkYThlNjQ5NTliYzc5ZGI3Zjk2Yjg2MGY4LnNldEljb24oaWNvbl8zNTA5YzQwOTRmZDg0NDA2YWI1OTNjNTE3ZjhjOTg2MCk7CiAgICAgICAgCiAgICAKICAgICAgICAgICAgbWFya2VyXzE4ZmY1M2NkYThlNjQ5NTliYzc5ZGI3Zjk2Yjg2MGY4LmJpbmRUb29sdGlwKAogICAgICAgICAgICAgICAgYDxkaXY+CiAgICAgICAgICAgICAgICAgICAgIExpdHRsZSBSZWQgRG9vcgogICAgICAgICAgICAgICAgIDwvZGl2PmAsCiAgICAgICAgICAgICAgICB7InN0aWNreSI6IHRydWV9CiAgICAgICAgICAgICk7CiAgICAgICAgCjwvc2NyaXB0Pg== onload=\"this.contentDocument.open();this.contentDocument.write(atob(this.getAttribute('data-html')));this.contentDocument.close();\" allowfullscreen webkitallowfullscreen mozallowfullscreen></iframe></div></div>"
      ],
      "text/plain": [
       "<folium.folium.Map at 0x2631caf3850>"
      ]
     },
     "execution_count": 74,
     "metadata": {},
     "output_type": "execute_result"
    }
   ],
   "source": [
    "mp.full_map(paris, map_pr)"
   ]
  },
  {
   "cell_type": "markdown",
   "metadata": {},
   "source": [
    "### Final Analysis"
   ]
  },
  {
   "cell_type": "markdown",
   "metadata": {},
   "source": [
    "The first conclusion we extract from the visual analysis is that London can be excluded, as the companies that belong to the categories we are interested in are way to disperse and far away from the clubs and starbucks, which means our employees will not be able to enjoy themselves, something we absolutely cannot accept. Therefore, London is out of the way, and we have to choose between Paris or San Francisco.  "
   ]
  },
  {
   "cell_type": "markdown",
   "metadata": {},
   "source": [
    "#### Paris vs San Francisco"
   ]
  },
  {
   "cell_type": "markdown",
   "metadata": {},
   "source": [
    "For this section, I'm going to select one company of each city and obtain the distance between the company and the closest starbucks, nightclub and airport. The companies selected are Devolia in Paris, and FeVote in San Francisco."
   ]
  },
  {
   "cell_type": "markdown",
   "metadata": {},
   "source": [
    "#### The companies have chosen based on the visualization, checking that they were close to other companies, a Starbucks and a club, and somehow centered in the map and the coordinates"
   ]
  },
  {
   "cell_type": "code",
   "execution_count": 75,
   "metadata": {
    "scrolled": true
   },
   "outputs": [
    {
     "name": "stdout",
     "output_type": "stream",
     "text": [
      "starbucks 1251.3872542402507\n",
      "airport_OAK 19524.889155682464\n",
      "airport_INT 19572.636338473243\n",
      "club 482.9811308800945\n",
      "company 482.9811308800945\n"
     ]
    }
   ],
   "source": [
    "FeVote_coord = 37.779392, -122.417928\n",
    "places = {\n",
    "    'starbucks': (37.782738,-122.431519),\n",
    "    'airport_OAK': (37.710480,-122.213753),\n",
    "    'airport_INT': (37.711731,-122.212495),\n",
    "    'club': (37.779386,-122.423422),\n",
    "    'company': (37.779386,-122.423422) \n",
    "}\n",
    "\n",
    "for place, coord in places.items():\n",
    "    distance = dt.haversine(FeVote_coord, coord)\n",
    "    print(place, distance)"
   ]
  },
  {
   "cell_type": "code",
   "execution_count": 120,
   "metadata": {},
   "outputs": [
    {
     "name": "stdout",
     "output_type": "stream",
     "text": [
      "starbucks 97.66671371576949\n",
      "airport_leBourget 12605.8626383528\n",
      "airport_ORY 14661.07923641235\n",
      "club 271.8762885395118\n",
      "company 366.43838324786697\n"
     ]
    }
   ],
   "source": [
    "Devolia_coord = 48.859648,2.348855\n",
    "places = {\n",
    "    'starbucks': (48.858902, 2.348151),\n",
    "    'airport_leBourget': (48.955101,2.441819),\n",
    "    'airport_ORY': (48.728313, 2.365880),\n",
    "    'club': (48.857971,2.346152),\n",
    "    'company': (48.856667,2.350987) \n",
    "}\n",
    "\n",
    "for place, coord in places.items():\n",
    "    distance = dt.haversine(Devolia_coord, coord)\n",
    "    print(place, distance)"
   ]
  },
  {
   "cell_type": "markdown",
   "metadata": {},
   "source": [
    "#### Conclusion "
   ]
  },
  {
   "cell_type": "markdown",
   "metadata": {},
   "source": [
    "The first thing we should point out is, that the results from San Francisco do not make much sense, at least not all of them. For example, the Starbucks is suppossed to be located at 1.25 km from the selected company, something that should not be possible because the limit raius was set at 150 m. The same would go for the club and the nearest company.  "
   ]
  },
  {
   "cell_type": "markdown",
   "metadata": {},
   "source": [
    "Having said this, the results from Paris are very promising. The company located has a Starbucks at less the 100m, and the closest club is just 271m away. As we can see in the map, there are many companies nearby, being the closest one at 366m, and the there are two airports located at 12km and 14km from the selected spot. "
   ]
  },
  {
   "cell_type": "markdown",
   "metadata": {},
   "source": [
    "San Francisco has always been known as the place of birth of enterpreneurship and startups, but there are other locations that are starting to take their place in this field, and Paris seems like a perfect place to start our own company, with many companies nearby from which our developers can learn and exchange experiences, and plenty of clubs and starbucks for our employees to enjoy themselves after a hard day of work. And of course, we can't forget that Paris is the city of love. "
   ]
  }
 ],
 "metadata": {
  "kernelspec": {
   "display_name": "Python 3",
   "language": "python",
   "name": "python3"
  },
  "language_info": {
   "codemirror_mode": {
    "name": "ipython",
    "version": 3
   },
   "file_extension": ".py",
   "mimetype": "text/x-python",
   "name": "python",
   "nbconvert_exporter": "python",
   "pygments_lexer": "ipython3",
   "version": "3.8.3"
  }
 },
 "nbformat": 4,
 "nbformat_minor": 4
}
