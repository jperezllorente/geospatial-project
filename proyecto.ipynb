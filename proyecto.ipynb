{
 "cells": [
  {
   "cell_type": "markdown",
   "metadata": {},
   "source": [
    "### Overview"
   ]
  },
  {
   "cell_type": "markdown",
   "metadata": {},
   "source": [
    "For this project I have chosen three cities (San Francisco, London and Paris that are known to be good places for gaming companies. The objective of the analysis is to check which of the three is better, and decide where to locate the new offices. "
   ]
  },
  {
   "cell_type": "markdown",
   "metadata": {},
   "source": [
    "Some of the functions used can be found in the .py files from the src field. However, due to technical problems I haven't been able to import some of them, so they have used directly in this notebook."
   ]
  },
  {
   "cell_type": "code",
   "execution_count": 1,
   "metadata": {},
   "outputs": [],
   "source": [
    "import pandas as pd\n",
    "from pymongo import MongoClient\n",
    "import math\n",
    "from functools import reduce\n",
    "import operator"
   ]
  },
  {
   "cell_type": "code",
   "execution_count": 2,
   "metadata": {},
   "outputs": [],
   "source": [
    "# For working with API requests\n",
    "import json, requests"
   ]
  },
  {
   "cell_type": "code",
   "execution_count": 3,
   "metadata": {},
   "outputs": [],
   "source": [
    "# For visualization in maps\n",
    "\n",
    "import folium\n",
    "from folium import Choropleth, Circle, Marker, Icon, Map\n",
    "from folium.plugins import HeatMap, MarkerCluster"
   ]
  },
  {
   "cell_type": "code",
   "execution_count": 4,
   "metadata": {},
   "outputs": [],
   "source": [
    "#selfmade functions \n",
    "\n",
    "import src.frame as fr\n",
    "import src.maping as mp\n",
    "import src.api as ap\n",
    "import src.distance as dt"
   ]
  },
  {
   "cell_type": "markdown",
   "metadata": {},
   "source": [
    "#### The project is divided in three sections: Mongodb, API and Visualization, and Final Analysis. In each section, the same processes are done with the three selected cities."
   ]
  },
  {
   "cell_type": "markdown",
   "metadata": {},
   "source": [
    "### Mongodb"
   ]
  },
  {
   "cell_type": "code",
   "execution_count": 5,
   "metadata": {},
   "outputs": [],
   "source": [
    "#The first step is to import the data from the collection companies of Mongodb"
   ]
  },
  {
   "cell_type": "code",
   "execution_count": 6,
   "metadata": {},
   "outputs": [],
   "source": [
    "conn = MongoClient(\"localhost:27017\")"
   ]
  },
  {
   "cell_type": "code",
   "execution_count": 7,
   "metadata": {},
   "outputs": [],
   "source": [
    "db = conn.get_database(\"ironhack\")"
   ]
  },
  {
   "cell_type": "code",
   "execution_count": 8,
   "metadata": {},
   "outputs": [],
   "source": [
    "companies = db.get_collection(\"companies\")"
   ]
  },
  {
   "cell_type": "code",
   "execution_count": 9,
   "metadata": {},
   "outputs": [
    {
     "data": {
      "text/plain": [
       "dict_keys(['_id', 'name', 'permalink', 'crunchbase_url', 'homepage_url', 'blog_url', 'blog_feed_url', 'twitter_username', 'category_code', 'number_of_employees', 'founded_year', 'founded_month', 'founded_day', 'deadpooled_year', 'tag_list', 'alias_list', 'email_address', 'phone_number', 'description', 'created_at', 'updated_at', 'overview', 'image', 'products', 'relationships', 'competitions', 'providerships', 'total_money_raised', 'funding_rounds', 'investments', 'acquisition', 'acquisitions', 'offices', 'milestones', 'video_embeds', 'screenshots', 'external_links', 'partners'])"
      ]
     },
     "execution_count": 9,
     "metadata": {},
     "output_type": "execute_result"
    }
   ],
   "source": [
    "#With this command we identify the fields of the collection, which will help us to define our next steps\n",
    "\n",
    "companies.find_one().keys()"
   ]
  },
  {
   "cell_type": "markdown",
   "metadata": {},
   "source": [
    "#### San Francisco "
   ]
  },
  {
   "cell_type": "code",
   "execution_count": 10,
   "metadata": {},
   "outputs": [],
   "source": [
    "def collection(city, lim):\n",
    "\n",
    "    '''\n",
    "    This function extracts information from those companies(documents) of a MongoDB collection that fulfill the following conditions:\n",
    "        - The companies need to located in a specific city, which we set as argument depending in our interest.\n",
    "        - They have to operate in one of this fields: analytics, games-video, mobile, software or web\n",
    "\n",
    "    It takes as aruments the city we want to explore and the limit of obsevations we want\n",
    "    \n",
    "    The function returns an object with the name, city, latitude and lonitude, and category of the company.\n",
    "\n",
    "    '''\n",
    "    \n",
    "    x = pd.DataFrame(companies.find({\"offices.city\": city, \"$or\":[{\"category_code\": \"games-video\"},\n",
    "                                                        \n",
    "                                                       {\"category_code\": \"mobile\"}, {\"category_code\": \"software\"}, \n",
    "                                                        \n",
    "                                                       {\"category_code\": \"web\"}]}, {\n",
    "    \n",
    "    \"name\":1, \"offices.city\":1, \"offices.latitude\":1,\n",
    "    \"offices.longitude\":1, \"category_code\":1}).limit(lim))\n",
    "    \n",
    "    return x"
   ]
  },
  {
   "cell_type": "code",
   "execution_count": 11,
   "metadata": {},
   "outputs": [
    {
     "data": {
      "text/html": [
       "<div>\n",
       "<style scoped>\n",
       "    .dataframe tbody tr th:only-of-type {\n",
       "        vertical-align: middle;\n",
       "    }\n",
       "\n",
       "    .dataframe tbody tr th {\n",
       "        vertical-align: top;\n",
       "    }\n",
       "\n",
       "    .dataframe thead th {\n",
       "        text-align: right;\n",
       "    }\n",
       "</style>\n",
       "<table border=\"1\" class=\"dataframe\">\n",
       "  <thead>\n",
       "    <tr style=\"text-align: right;\">\n",
       "      <th></th>\n",
       "      <th>name</th>\n",
       "      <th>category_code</th>\n",
       "      <th>city</th>\n",
       "      <th>latitude</th>\n",
       "      <th>longitude</th>\n",
       "    </tr>\n",
       "  </thead>\n",
       "  <tbody>\n",
       "    <tr>\n",
       "      <th>0</th>\n",
       "      <td>StumbleUpon</td>\n",
       "      <td>web</td>\n",
       "      <td>San Francisco</td>\n",
       "      <td>37.775196</td>\n",
       "      <td>-122.419204</td>\n",
       "    </tr>\n",
       "    <tr>\n",
       "      <th>1</th>\n",
       "      <td>Wesabe</td>\n",
       "      <td>web</td>\n",
       "      <td>San Francisco</td>\n",
       "      <td>37.793148</td>\n",
       "      <td>-122.402567</td>\n",
       "    </tr>\n",
       "    <tr>\n",
       "      <th>2</th>\n",
       "      <td>Pownce</td>\n",
       "      <td>web</td>\n",
       "      <td>San Francisco</td>\n",
       "      <td>37.762541</td>\n",
       "      <td>-122.397224</td>\n",
       "    </tr>\n",
       "    <tr>\n",
       "      <th>4</th>\n",
       "      <td>Zooomr</td>\n",
       "      <td>web</td>\n",
       "      <td>San Francisco</td>\n",
       "      <td>37.775196</td>\n",
       "      <td>-122.419204</td>\n",
       "    </tr>\n",
       "    <tr>\n",
       "      <th>5</th>\n",
       "      <td>Pageflakes</td>\n",
       "      <td>web</td>\n",
       "      <td>San Francisco</td>\n",
       "      <td>37.758113</td>\n",
       "      <td>-122.414689</td>\n",
       "    </tr>\n",
       "  </tbody>\n",
       "</table>\n",
       "</div>"
      ],
      "text/plain": [
       "          name category_code           city   latitude   longitude\n",
       "0  StumbleUpon           web  San Francisco  37.775196 -122.419204\n",
       "1       Wesabe           web  San Francisco  37.793148 -122.402567\n",
       "2       Pownce           web  San Francisco  37.762541 -122.397224\n",
       "4       Zooomr           web  San Francisco  37.775196 -122.419204\n",
       "5   Pageflakes           web  San Francisco  37.758113 -122.414689"
      ]
     },
     "execution_count": 11,
     "metadata": {},
     "output_type": "execute_result"
    }
   ],
   "source": [
    "#We choose 5 companies from each city from which we are going to build the analysis up\n",
    "\n",
    "#The collection function gets the information from the city and the number of observations we want as a dataframe\n",
    "\n",
    "sf = collection(\"San Francisco\", 6)\n",
    "\n",
    "#One of the problems I had was that the latitude, longitude and city were all inside a same column.\n",
    "#For this reason, I had to create a dataframe wiht this field separated. The city._df function fulfills this goal. \n",
    "#Both the collection and and city_df function can be found in the frame.py from the src field\n",
    "\n",
    "sf_df = fr.city_df(sf, \"San Francisco\")\n",
    "\n",
    "#There are some observations that have None values in latitude and longtiude, so we can delete them as they wont offer\n",
    "#anyhting that we are interested in\n",
    "\n",
    "sf_df = sf_df.dropna(0, how = 'all', thresh = 4)\n",
    "\n",
    "sf_df"
   ]
  },
  {
   "cell_type": "markdown",
   "metadata": {},
   "source": [
    "#### London"
   ]
  },
  {
   "cell_type": "code",
   "execution_count": 16,
   "metadata": {},
   "outputs": [],
   "source": [
    "# Somo of the companies have nul values in latitude and/or longitude. This are companies I'm not interested in so I can\n",
    "#delete them. The thing is, that because of this we need to change the limit of each city if we want to get five companies\n",
    "#from each. That is the reason for using a limit of 13 and 6 for London a Paris, respectively"
   ]
  },
  {
   "cell_type": "code",
   "execution_count": 12,
   "metadata": {},
   "outputs": [
    {
     "data": {
      "text/html": [
       "<div>\n",
       "<style scoped>\n",
       "    .dataframe tbody tr th:only-of-type {\n",
       "        vertical-align: middle;\n",
       "    }\n",
       "\n",
       "    .dataframe tbody tr th {\n",
       "        vertical-align: top;\n",
       "    }\n",
       "\n",
       "    .dataframe thead th {\n",
       "        text-align: right;\n",
       "    }\n",
       "</style>\n",
       "<table border=\"1\" class=\"dataframe\">\n",
       "  <thead>\n",
       "    <tr style=\"text-align: right;\">\n",
       "      <th></th>\n",
       "      <th>name</th>\n",
       "      <th>category_code</th>\n",
       "      <th>city</th>\n",
       "      <th>latitude</th>\n",
       "      <th>longitude</th>\n",
       "    </tr>\n",
       "  </thead>\n",
       "  <tbody>\n",
       "    <tr>\n",
       "      <th>6</th>\n",
       "      <td>Lastminute</td>\n",
       "      <td>web</td>\n",
       "      <td>London</td>\n",
       "      <td>37.090240</td>\n",
       "      <td>-95.712891</td>\n",
       "    </tr>\n",
       "    <tr>\n",
       "      <th>7</th>\n",
       "      <td>Wonga</td>\n",
       "      <td>web</td>\n",
       "      <td>London</td>\n",
       "      <td>51.519204</td>\n",
       "      <td>-0.162610</td>\n",
       "    </tr>\n",
       "    <tr>\n",
       "      <th>8</th>\n",
       "      <td>ITV</td>\n",
       "      <td>web</td>\n",
       "      <td>London</td>\n",
       "      <td>37.090240</td>\n",
       "      <td>-95.712891</td>\n",
       "    </tr>\n",
       "    <tr>\n",
       "      <th>9</th>\n",
       "      <td>Dopplr</td>\n",
       "      <td>web</td>\n",
       "      <td>London</td>\n",
       "      <td>51.523789</td>\n",
       "      <td>-0.087432</td>\n",
       "    </tr>\n",
       "    <tr>\n",
       "      <th>10</th>\n",
       "      <td>Jiglu</td>\n",
       "      <td>software</td>\n",
       "      <td>London</td>\n",
       "      <td>51.542360</td>\n",
       "      <td>-0.149522</td>\n",
       "    </tr>\n",
       "  </tbody>\n",
       "</table>\n",
       "</div>"
      ],
      "text/plain": [
       "          name category_code    city   latitude  longitude\n",
       "6   Lastminute           web  London  37.090240 -95.712891\n",
       "7        Wonga           web  London  51.519204  -0.162610\n",
       "8          ITV           web  London  37.090240 -95.712891\n",
       "9       Dopplr           web  London  51.523789  -0.087432\n",
       "10       Jiglu      software  London  51.542360  -0.149522"
      ]
     },
     "execution_count": 12,
     "metadata": {},
     "output_type": "execute_result"
    }
   ],
   "source": [
    "ln = collection(\"London\", 13)\n",
    "\n",
    "ln_df = fr.city_df(ln, \"London\")\n",
    "\n",
    "ln_df = ln_df.dropna(0, how = 'all', thresh = 4)\n",
    "\n",
    "ln_df"
   ]
  },
  {
   "cell_type": "markdown",
   "metadata": {},
   "source": [
    "#### Paris"
   ]
  },
  {
   "cell_type": "code",
   "execution_count": 13,
   "metadata": {},
   "outputs": [
    {
     "data": {
      "text/html": [
       "<div>\n",
       "<style scoped>\n",
       "    .dataframe tbody tr th:only-of-type {\n",
       "        vertical-align: middle;\n",
       "    }\n",
       "\n",
       "    .dataframe tbody tr th {\n",
       "        vertical-align: top;\n",
       "    }\n",
       "\n",
       "    .dataframe thead th {\n",
       "        text-align: right;\n",
       "    }\n",
       "</style>\n",
       "<table border=\"1\" class=\"dataframe\">\n",
       "  <thead>\n",
       "    <tr style=\"text-align: right;\">\n",
       "      <th></th>\n",
       "      <th>name</th>\n",
       "      <th>category_code</th>\n",
       "      <th>city</th>\n",
       "      <th>latitude</th>\n",
       "      <th>longitude</th>\n",
       "    </tr>\n",
       "  </thead>\n",
       "  <tbody>\n",
       "    <tr>\n",
       "      <th>0</th>\n",
       "      <td>Netvibes</td>\n",
       "      <td>web</td>\n",
       "      <td>Paris</td>\n",
       "      <td>48.870806</td>\n",
       "      <td>2.346680</td>\n",
       "    </tr>\n",
       "    <tr>\n",
       "      <th>1</th>\n",
       "      <td>TVtrip</td>\n",
       "      <td>web</td>\n",
       "      <td>Paris</td>\n",
       "      <td>48.856667</td>\n",
       "      <td>2.350987</td>\n",
       "    </tr>\n",
       "    <tr>\n",
       "      <th>2</th>\n",
       "      <td>WatZatSong</td>\n",
       "      <td>web</td>\n",
       "      <td>Paris</td>\n",
       "      <td>48.866323</td>\n",
       "      <td>2.381514</td>\n",
       "    </tr>\n",
       "    <tr>\n",
       "      <th>3</th>\n",
       "      <td>Jooce</td>\n",
       "      <td>web</td>\n",
       "      <td>Paris</td>\n",
       "      <td>48.856667</td>\n",
       "      <td>2.350987</td>\n",
       "    </tr>\n",
       "    <tr>\n",
       "      <th>4</th>\n",
       "      <td>Trivop</td>\n",
       "      <td>web</td>\n",
       "      <td>Paris</td>\n",
       "      <td>48.855853</td>\n",
       "      <td>2.336575</td>\n",
       "    </tr>\n",
       "  </tbody>\n",
       "</table>\n",
       "</div>"
      ],
      "text/plain": [
       "         name category_code   city   latitude  longitude\n",
       "0    Netvibes           web  Paris  48.870806   2.346680\n",
       "1      TVtrip           web  Paris  48.856667   2.350987\n",
       "2  WatZatSong           web  Paris  48.866323   2.381514\n",
       "3       Jooce           web  Paris  48.856667   2.350987\n",
       "4      Trivop           web  Paris  48.855853   2.336575"
      ]
     },
     "execution_count": 13,
     "metadata": {},
     "output_type": "execute_result"
    }
   ],
   "source": [
    "pr = collection(\"Paris\", 6)\n",
    "\n",
    "pr_df = fr.city_df(pr, \"Paris\")\n",
    "\n",
    "pr_df = pr_df.dropna(0, how = 'all', thresh = 4)\n",
    "\n",
    "pr_df"
   ]
  },
  {
   "cell_type": "markdown",
   "metadata": {},
   "source": [
    "### API and Visualization"
   ]
  },
  {
   "cell_type": "code",
   "execution_count": 14,
   "metadata": {},
   "outputs": [],
   "source": [
    "def full_map(df, map_):\n",
    "\n",
    "    '''\n",
    "    As the previous function, this ones creates markers and inserts them in the map of our choosing using the information extracted from the API.\n",
    "\n",
    "    In this case, as we just wanted to check for clubs, starbucks and airports, the funtion wont work fot other values. \n",
    "\n",
    "    It takes as arguments the dataframe in which we have stores all the API's information, and the map in which we want to insert the markers:\n",
    "        - starbucks -> green and white coffe cup\n",
    "        - airports -> black and white plane\n",
    "        - clubs -> white and black glass\n",
    "\n",
    "    '''\n",
    "    \n",
    "    for i,row in df.iterrows():\n",
    "        \n",
    "        if row[\"category\"] == \"starbucks\":\n",
    "            \n",
    "            coffe = {\n",
    "                \"location\" : [row[\"latitud\"], row[\"longitud\"]],\n",
    "                \"tooltip\" : row[\"name\"]\n",
    "            }\n",
    "            icon = Icon( color = \"green\",\n",
    "                        prefix = \"fa\",\n",
    "                        icon = \"coffee\",\n",
    "                        icon_color = \"white\"\n",
    "            )\n",
    "\n",
    "            Marker (**coffe,icon = icon).add_to(map_)\n",
    "        \n",
    "        elif row[\"category\"] == \"airport\" : \n",
    "            \n",
    "            plane = {\n",
    "                \"location\" : [row[\"latitud\"], row[\"longitud\"]],\n",
    "                \"tooltip\" : row[\"name\"]\n",
    "            }\n",
    "            icon = Icon( color = \"black\",\n",
    "                        prefix = \"fa\",\n",
    "                        icon = \"plane\",\n",
    "                        icon_color = \"white\"\n",
    "            )\n",
    "\n",
    "            Marker (**plane,icon = icon).add_to(map_)\n",
    "            \n",
    "        elif row[\"category\"] == \"club\" :\n",
    "            \n",
    "            party = {\n",
    "                \"location\" : [row[\"latitud\"], row[\"longitud\"]],\n",
    "                \"tooltip\" : row[\"name\"]\n",
    "            }\n",
    "            icon = Icon( color = \"white\",\n",
    "                        prefix = \"fa\",\n",
    "                        icon = \"glass\",\n",
    "                        icon_color = \"black\"\n",
    "            )\n",
    "\n",
    "            Marker (**party,icon = icon).add_to(map_)\n",
    "\n",
    "    return map_"
   ]
  },
  {
   "cell_type": "code",
   "execution_count": 12,
   "metadata": {},
   "outputs": [],
   "source": [
    "# First, we store our credentials in variables. As I haven't been able to install dotenv, I have the keys in .txt which I\n",
    "#then inlclude in the gitignore so that my keys are not public"
   ]
  },
  {
   "cell_type": "code",
   "execution_count": 15,
   "metadata": {},
   "outputs": [],
   "source": [
    "client_id = open(\"./keys.txt\").readlines()[0]"
   ]
  },
  {
   "cell_type": "code",
   "execution_count": 16,
   "metadata": {},
   "outputs": [],
   "source": [
    "client_secret = open(\"./keys.txt\").readlines()[1]"
   ]
  },
  {
   "cell_type": "markdown",
   "metadata": {},
   "source": [
    "### San Francisco"
   ]
  },
  {
   "cell_type": "code",
   "execution_count": 17,
   "metadata": {},
   "outputs": [],
   "source": [
    "#This coordinates have been selected from one of the companies that we obtained in the previous step. \n",
    "#The objective is to set a map centered in one of the companies in order to center the analysis\n",
    "\n",
    "initial_lat = 37.762541\n",
    "\n",
    "initial_lon = -122.397224"
   ]
  },
  {
   "cell_type": "code",
   "execution_count": 18,
   "metadata": {},
   "outputs": [],
   "source": [
    "#This function creates a map using the previous coordinates and a zoom of our choosing\n",
    "#The documentation of this function can be found in the maping.py located in the src field\n",
    "\n",
    "map_sf = mp.mapa(initial_lat, initial_lon, 15)"
   ]
  },
  {
   "cell_type": "markdown",
   "metadata": {},
   "source": [
    "#### Starbuks"
   ]
  },
  {
   "cell_type": "code",
   "execution_count": 23,
   "metadata": {},
   "outputs": [],
   "source": [
    "#The next step is to get data from the Foursquare API. The parametres we need are the client_id, client_secret and version,\n",
    "#and the characteristics we want our search to be centered in: limit of findings, latitude and longitude (LL), \n",
    "#radius of search and a query, which is a word that describes what we are looking for, in this case, Starbuks. \n",
    "\n",
    "CLIENT_ID = client_id\n",
    "CLIENT_SECRET = client_secret\n",
    "VERSION = '20180323'\n",
    "LIMIT = 15\n",
    "LL = '37.762541, -122.397224'\n",
    "RAD = 100\n",
    "QUERY = 'StarBucks'"
   ]
  },
  {
   "cell_type": "code",
   "execution_count": 24,
   "metadata": {},
   "outputs": [],
   "source": [
    "#We set the url to request the information from the API\n",
    "\n",
    "url = f'https://api.foursquare.com/v2/venues/explore?&client_id={CLIENT_ID}&client_secret={CLIENT_SECRET}&v={VERSION}&ll={LL}&radius={RAD}&query={QUERY}&limit={LIMIT}'"
   ]
  },
  {
   "cell_type": "code",
   "execution_count": 26,
   "metadata": {},
   "outputs": [],
   "source": [
    "#This function obtains the data from the API and creates the object with which we are going to work later. \n",
    "#The documentation of this function can be found in the api.py from the src field\n",
    "\n",
    "url = f'https://api.foursquare.com/v2/venues/explore?&client_id={CLIENT_ID}&client_secret={CLIENT_SECRET}&v={VERSION}&ll={LL}&radius={RAD}&query={QUERY}&limit={LIMIT}'\n",
    "\n",
    "starbucks = ap.extract(url)"
   ]
  },
  {
   "cell_type": "code",
   "execution_count": 28,
   "metadata": {},
   "outputs": [],
   "source": [
    "def getFromDict(diccionario,mapa):\n",
    "    return reduce(operator.getitem,mapa,diccionario)"
   ]
  },
  {
   "cell_type": "code",
   "execution_count": 32,
   "metadata": {},
   "outputs": [],
   "source": [
    "def places_df(objeto, category, rango):\n",
    "\n",
    "    '''\n",
    "    This function is used with the information extracted from the API. \n",
    "\n",
    "    It only requires the object in which we have stored the information extracted (using the extract function from api.py).\n",
    "\n",
    "    Using the getFromDict function and a for loop, it iterates through the different observations and extracts the values of the name, \n",
    "    latitude and longitude of each observation. In the following command lines, we can see the hierarchy that the functon follows to get the wanted value.\n",
    "\n",
    "    The values are stored in a new list of dictionaries that is then turned into a df\n",
    "\n",
    "    Also, a column named category is created. In this colum we can check the category of the value (club, starbucks, airport), something we will use\n",
    "    for creating the map. \n",
    "\n",
    "    '''\n",
    "    \n",
    "    mapa_nombre = [\"venue\",\"name\"]\n",
    "    latitud = [\"venue\", \"location\",\"lat\"]\n",
    "    longitud = [\"venue\",\"location\",\"lng\"]\n",
    "\n",
    "    x = []\n",
    "    \n",
    "    for diccionario in objeto:\n",
    "        lista = {}\n",
    "        lista[\"name\"] = getFromDict(diccionario,mapa_nombre)\n",
    "        lista[\"latitud\"] = getFromDict(diccionario,latitud)\n",
    "        lista[\"longitud\"] = getFromDict(diccionario,longitud)\n",
    "        \n",
    "        x.append(lista)\n",
    "        \n",
    "        df = pd.DataFrame(x)\n",
    "        \n",
    "    c = [category for _ in range(rango)]\n",
    "        \n",
    "    df[\"category\"] = c\n",
    "\n",
    "    return df\n"
   ]
  },
  {
   "cell_type": "code",
   "execution_count": 33,
   "metadata": {},
   "outputs": [],
   "source": [
    "#This function creates a dataframe based on the previous object. The columns are name, latitude, longitude and category\n",
    "\n",
    "starbucks_sf = places_df(starbucks, \"starbucks\", 15)"
   ]
  },
  {
   "cell_type": "code",
   "execution_count": 101,
   "metadata": {},
   "outputs": [
    {
     "data": {
      "text/html": [
       "<div>\n",
       "<style scoped>\n",
       "    .dataframe tbody tr th:only-of-type {\n",
       "        vertical-align: middle;\n",
       "    }\n",
       "\n",
       "    .dataframe tbody tr th {\n",
       "        vertical-align: top;\n",
       "    }\n",
       "\n",
       "    .dataframe thead th {\n",
       "        text-align: right;\n",
       "    }\n",
       "</style>\n",
       "<table border=\"1\" class=\"dataframe\">\n",
       "  <thead>\n",
       "    <tr style=\"text-align: right;\">\n",
       "      <th></th>\n",
       "      <th>name</th>\n",
       "      <th>latitud</th>\n",
       "      <th>longitud</th>\n",
       "      <th>category</th>\n",
       "    </tr>\n",
       "  </thead>\n",
       "  <tbody>\n",
       "    <tr>\n",
       "      <th>0</th>\n",
       "      <td>Starbucks</td>\n",
       "      <td>37.767287</td>\n",
       "      <td>-122.393926</td>\n",
       "      <td>starbucks</td>\n",
       "    </tr>\n",
       "    <tr>\n",
       "      <th>1</th>\n",
       "      <td>Starbucks</td>\n",
       "      <td>37.765878</td>\n",
       "      <td>-122.403449</td>\n",
       "      <td>starbucks</td>\n",
       "    </tr>\n",
       "    <tr>\n",
       "      <th>2</th>\n",
       "      <td>Starbucks</td>\n",
       "      <td>37.770190</td>\n",
       "      <td>-122.403465</td>\n",
       "      <td>starbucks</td>\n",
       "    </tr>\n",
       "    <tr>\n",
       "      <th>3</th>\n",
       "      <td>Starbucks</td>\n",
       "      <td>37.771196</td>\n",
       "      <td>-122.389364</td>\n",
       "      <td>starbucks</td>\n",
       "    </tr>\n",
       "    <tr>\n",
       "      <th>4</th>\n",
       "      <td>Starbucks</td>\n",
       "      <td>37.766857</td>\n",
       "      <td>-122.409428</td>\n",
       "      <td>starbucks</td>\n",
       "    </tr>\n",
       "  </tbody>\n",
       "</table>\n",
       "</div>"
      ],
      "text/plain": [
       "        name    latitud    longitud   category\n",
       "0  Starbucks  37.767287 -122.393926  starbucks\n",
       "1  Starbucks  37.765878 -122.403449  starbucks\n",
       "2  Starbucks  37.770190 -122.403465  starbucks\n",
       "3  Starbucks  37.771196 -122.389364  starbucks\n",
       "4  Starbucks  37.766857 -122.409428  starbucks"
      ]
     },
     "execution_count": 101,
     "metadata": {},
     "output_type": "execute_result"
    }
   ],
   "source": [
    "starbucks_sf.head()"
   ]
  },
  {
   "cell_type": "markdown",
   "metadata": {},
   "source": [
    "#### Airports"
   ]
  },
  {
   "cell_type": "code",
   "execution_count": 35,
   "metadata": {},
   "outputs": [],
   "source": [
    "#As in the case of starbucks, here we want to get the airports inside a certain radius. \n",
    "#Instead of using a keyword(query) for the search, we had to use a category_id that identifie the airport category. \n",
    "#There is a problem, and it is that this id can give back other objects apart from airports, so we should delete them\n",
    "\n",
    "CLIENT_ID = client_id\n",
    "CLIENT_SECRET = client_secret\n",
    "VERSION = '20180323'\n",
    "LIMIT = 5\n",
    "LL = '37.762541, -122.397224'\n",
    "RAD = 30000\n",
    "CATEGORY_ID = '4bf58dd8d48988d1ed931735'"
   ]
  },
  {
   "cell_type": "code",
   "execution_count": 36,
   "metadata": {},
   "outputs": [],
   "source": [
    "url = f'https://api.foursquare.com/v2/venues/explore?&client_id={CLIENT_ID}&client_secret={CLIENT_SECRET}&v={VERSION}&ll={LL}&radius={RAD}&limit={LIMIT}&categoryId={CATEGORY_ID}'"
   ]
  },
  {
   "cell_type": "code",
   "execution_count": 37,
   "metadata": {},
   "outputs": [],
   "source": [
    "airports = ap.extract(url)"
   ]
  },
  {
   "cell_type": "code",
   "execution_count": 38,
   "metadata": {},
   "outputs": [],
   "source": [
    "airports_sf = places_df(airports, \"airport\", 5)"
   ]
  },
  {
   "cell_type": "code",
   "execution_count": 39,
   "metadata": {},
   "outputs": [
    {
     "data": {
      "text/html": [
       "<div>\n",
       "<style scoped>\n",
       "    .dataframe tbody tr th:only-of-type {\n",
       "        vertical-align: middle;\n",
       "    }\n",
       "\n",
       "    .dataframe tbody tr th {\n",
       "        vertical-align: top;\n",
       "    }\n",
       "\n",
       "    .dataframe thead th {\n",
       "        text-align: right;\n",
       "    }\n",
       "</style>\n",
       "<table border=\"1\" class=\"dataframe\">\n",
       "  <thead>\n",
       "    <tr style=\"text-align: right;\">\n",
       "      <th></th>\n",
       "      <th>name</th>\n",
       "      <th>latitud</th>\n",
       "      <th>longitud</th>\n",
       "      <th>category</th>\n",
       "    </tr>\n",
       "  </thead>\n",
       "  <tbody>\n",
       "    <tr>\n",
       "      <th>0</th>\n",
       "      <td>San Francisco International Airport (SFO) (San...</td>\n",
       "      <td>37.616713</td>\n",
       "      <td>-122.387094</td>\n",
       "      <td>airport</td>\n",
       "    </tr>\n",
       "    <tr>\n",
       "      <th>1</th>\n",
       "      <td>Oakland International Airport (OAK) (Oakland I...</td>\n",
       "      <td>37.711731</td>\n",
       "      <td>-122.212495</td>\n",
       "      <td>airport</td>\n",
       "    </tr>\n",
       "    <tr>\n",
       "      <th>2</th>\n",
       "      <td>OAK Runway</td>\n",
       "      <td>37.710480</td>\n",
       "      <td>-122.213753</td>\n",
       "      <td>airport</td>\n",
       "    </tr>\n",
       "    <tr>\n",
       "      <th>3</th>\n",
       "      <td>Hayward Executive Airport (HWD)</td>\n",
       "      <td>37.662295</td>\n",
       "      <td>-122.120114</td>\n",
       "      <td>airport</td>\n",
       "    </tr>\n",
       "    <tr>\n",
       "      <th>4</th>\n",
       "      <td>The Centurion Lounge</td>\n",
       "      <td>37.617609</td>\n",
       "      <td>-122.387915</td>\n",
       "      <td>airport</td>\n",
       "    </tr>\n",
       "  </tbody>\n",
       "</table>\n",
       "</div>"
      ],
      "text/plain": [
       "                                                name    latitud    longitud  \\\n",
       "0  San Francisco International Airport (SFO) (San...  37.616713 -122.387094   \n",
       "1  Oakland International Airport (OAK) (Oakland I...  37.711731 -122.212495   \n",
       "2                                         OAK Runway  37.710480 -122.213753   \n",
       "3                    Hayward Executive Airport (HWD)  37.662295 -122.120114   \n",
       "4                               The Centurion Lounge  37.617609 -122.387915   \n",
       "\n",
       "  category  \n",
       "0  airport  \n",
       "1  airport  \n",
       "2  airport  \n",
       "3  airport  \n",
       "4  airport  "
      ]
     },
     "execution_count": 39,
     "metadata": {},
     "output_type": "execute_result"
    }
   ],
   "source": [
    "airports_sf"
   ]
  },
  {
   "cell_type": "markdown",
   "metadata": {},
   "source": [
    "#### Nightlife"
   ]
  },
  {
   "cell_type": "code",
   "execution_count": 40,
   "metadata": {},
   "outputs": [],
   "source": [
    "#The same process as the previous one is carried out but with the categoyr_id of the nightclubs\n",
    "\n",
    "CLIENT_ID = client_id\n",
    "CLIENT_SECRET = client_secret\n",
    "VERSION = '20180323'\n",
    "LIMIT = 15\n",
    "LL = '37.775196, -122.419204'\n",
    "RAD = 30000\n",
    "CATEGORY_ID = '4bf58dd8d48988d121941735'"
   ]
  },
  {
   "cell_type": "code",
   "execution_count": 41,
   "metadata": {},
   "outputs": [],
   "source": [
    "url = f'https://api.foursquare.com/v2/venues/explore?&client_id={CLIENT_ID}&client_secret={CLIENT_SECRET}&v={VERSION}&ll={LL}&radius={RAD}&limit={LIMIT}&categoryId={CATEGORY_ID}'"
   ]
  },
  {
   "cell_type": "code",
   "execution_count": 42,
   "metadata": {},
   "outputs": [],
   "source": [
    "clubs = ap.extract(url)"
   ]
  },
  {
   "cell_type": "code",
   "execution_count": 43,
   "metadata": {},
   "outputs": [],
   "source": [
    "clubs_sf = places_df(clubs, \"club\", 15)"
   ]
  },
  {
   "cell_type": "code",
   "execution_count": 44,
   "metadata": {},
   "outputs": [],
   "source": [
    "#once we have all three dataframes, we concatenate them in just one that we will use to create the map and its markers\n",
    "\n",
    "frames = [starbucks_sf, airports_sf, clubs_sf]\n",
    "\n",
    "san_francisco = pd.concat(frames)"
   ]
  },
  {
   "cell_type": "code",
   "execution_count": 45,
   "metadata": {},
   "outputs": [],
   "source": [
    "def offices(df, mapa): \n",
    "\n",
    "    '''\n",
    "    This function adds a marker for all the businesses that we have in our original df to the map created with the previous function (mapa()). \n",
    "\n",
    "    It takes as arguments the dataframe we want to use and the map in which we want to insert the markers (a lightblue and black briefcase). \n",
    "\n",
    "    This function is focused in seting the markers for the companies we extracted form the Mongodb collection.\n",
    "\n",
    "    '''\n",
    "\n",
    "    for i,row in df.iterrows():\n",
    "\n",
    "            office = {\n",
    "                \"location\" : [row[\"latitude\"], row[\"longitude\"]],\n",
    "                \"tooltip\" : row[\"name\"]\n",
    "            }\n",
    "            icon = Icon( color = \"lightblue\",\n",
    "                        prefix = \"fa\",\n",
    "                        icon = \"briefcase\",\n",
    "                        icon_color = \"black\"\n",
    "            )\n",
    "\n",
    "            Marker (**office,icon = icon).add_to(mapa)"
   ]
  },
  {
   "cell_type": "code",
   "execution_count": 46,
   "metadata": {},
   "outputs": [],
   "source": [
    "#The first step of filling the map we created with the mapa() function, is to insert the markers of the companies\n",
    "#we obtained form the Mongodb collection \n",
    "\n",
    "offices(sf_df, map_sf)"
   ]
  },
  {
   "cell_type": "code",
   "execution_count": 103,
   "metadata": {},
   "outputs": [
    {
     "data": {
      "text/html": [
       "<div style=\"width:100%;\"><div style=\"position:relative;width:100%;height:0;padding-bottom:60%;\"><span style=\"color:#565656\">Make this Notebook Trusted to load map: File -> Trust Notebook</span><iframe src=\"about:blank\" style=\"position:absolute;width:100%;height:100%;left:0;top:0;border:none !important;\" data-html=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 onload=\"this.contentDocument.open();this.contentDocument.write(atob(this.getAttribute('data-html')));this.contentDocument.close();\" allowfullscreen webkitallowfullscreen mozallowfullscreen></iframe></div></div>"
      ],
      "text/plain": [
       "<folium.folium.Map at 0x1e909b6dfa0>"
      ]
     },
     "execution_count": 103,
     "metadata": {},
     "output_type": "execute_result"
    }
   ],
   "source": [
    "#Then, we insert the markers of the places we obtained from Foursquare and we have the map created\n",
    "\n",
    "full_map(san_francisco, map_sf)"
   ]
  },
  {
   "cell_type": "markdown",
   "metadata": {},
   "source": [
    "### London"
   ]
  },
  {
   "cell_type": "code",
   "execution_count": 48,
   "metadata": {},
   "outputs": [],
   "source": [
    "initial_lat = 51.523789\n",
    "initial_lon = -0.087432"
   ]
  },
  {
   "cell_type": "code",
   "execution_count": 49,
   "metadata": {},
   "outputs": [],
   "source": [
    "map_ln = mp.mapa(initial_lat, initial_lon ,15)"
   ]
  },
  {
   "cell_type": "markdown",
   "metadata": {},
   "source": [
    "#### Starbucks London"
   ]
  },
  {
   "cell_type": "code",
   "execution_count": 50,
   "metadata": {},
   "outputs": [],
   "source": [
    "CLIENT_ID = client_id\n",
    "CLIENT_SECRET = client_secret\n",
    "VERSION = '20180323'\n",
    "LIMIT = 15\n",
    "LL = '51.500152, -0.087432'\n",
    "RAD = 200\n",
    "QUERY = 'StarBucks'"
   ]
  },
  {
   "cell_type": "code",
   "execution_count": 51,
   "metadata": {},
   "outputs": [],
   "source": [
    "url = f'https://api.foursquare.com/v2/venues/explore?&client_id={CLIENT_ID}&client_secret={CLIENT_SECRET}&v={VERSION}&ll={LL}&radius={RAD}&query={QUERY}&limit={LIMIT}'"
   ]
  },
  {
   "cell_type": "code",
   "execution_count": 52,
   "metadata": {},
   "outputs": [],
   "source": [
    "starbucks = ap.extract(url)"
   ]
  },
  {
   "cell_type": "code",
   "execution_count": 53,
   "metadata": {},
   "outputs": [],
   "source": [
    "starbucks_ln = places_df(starbucks, \"starbucks\", 15)"
   ]
  },
  {
   "cell_type": "code",
   "execution_count": 54,
   "metadata": {},
   "outputs": [
    {
     "data": {
      "text/html": [
       "<div>\n",
       "<style scoped>\n",
       "    .dataframe tbody tr th:only-of-type {\n",
       "        vertical-align: middle;\n",
       "    }\n",
       "\n",
       "    .dataframe tbody tr th {\n",
       "        vertical-align: top;\n",
       "    }\n",
       "\n",
       "    .dataframe thead th {\n",
       "        text-align: right;\n",
       "    }\n",
       "</style>\n",
       "<table border=\"1\" class=\"dataframe\">\n",
       "  <thead>\n",
       "    <tr style=\"text-align: right;\">\n",
       "      <th></th>\n",
       "      <th>name</th>\n",
       "      <th>latitud</th>\n",
       "      <th>longitud</th>\n",
       "      <th>category</th>\n",
       "    </tr>\n",
       "  </thead>\n",
       "  <tbody>\n",
       "    <tr>\n",
       "      <th>0</th>\n",
       "      <td>Starbucks</td>\n",
       "      <td>51.504796</td>\n",
       "      <td>-0.086873</td>\n",
       "      <td>starbucks</td>\n",
       "    </tr>\n",
       "    <tr>\n",
       "      <th>1</th>\n",
       "      <td>Starbucks</td>\n",
       "      <td>51.500896</td>\n",
       "      <td>-0.093399</td>\n",
       "      <td>starbucks</td>\n",
       "    </tr>\n",
       "    <tr>\n",
       "      <th>2</th>\n",
       "      <td>Starbucks</td>\n",
       "      <td>51.504041</td>\n",
       "      <td>-0.075553</td>\n",
       "      <td>starbucks</td>\n",
       "    </tr>\n",
       "    <tr>\n",
       "      <th>3</th>\n",
       "      <td>Starbucks</td>\n",
       "      <td>51.505487</td>\n",
       "      <td>-0.085133</td>\n",
       "      <td>starbucks</td>\n",
       "    </tr>\n",
       "    <tr>\n",
       "      <th>4</th>\n",
       "      <td>Starbucks</td>\n",
       "      <td>51.508436</td>\n",
       "      <td>-0.079160</td>\n",
       "      <td>starbucks</td>\n",
       "    </tr>\n",
       "  </tbody>\n",
       "</table>\n",
       "</div>"
      ],
      "text/plain": [
       "        name    latitud  longitud   category\n",
       "0  Starbucks  51.504796 -0.086873  starbucks\n",
       "1  Starbucks  51.500896 -0.093399  starbucks\n",
       "2  Starbucks  51.504041 -0.075553  starbucks\n",
       "3  Starbucks  51.505487 -0.085133  starbucks\n",
       "4  Starbucks  51.508436 -0.079160  starbucks"
      ]
     },
     "execution_count": 54,
     "metadata": {},
     "output_type": "execute_result"
    }
   ],
   "source": [
    "starbucks_ln.head()"
   ]
  },
  {
   "cell_type": "markdown",
   "metadata": {},
   "source": [
    "#### Airtports London"
   ]
  },
  {
   "cell_type": "code",
   "execution_count": 69,
   "metadata": {},
   "outputs": [],
   "source": [
    "CLIENT_ID = client_id\n",
    "CLIENT_SECRET = client_secret\n",
    "VERSION = '20180323'\n",
    "LIMIT = 5\n",
    "LL = '51.500152, -0.087432'\n",
    "RAD = 30000\n",
    "CATEGORY_ID = '4bf58dd8d48988d1ed931735'"
   ]
  },
  {
   "cell_type": "code",
   "execution_count": 70,
   "metadata": {},
   "outputs": [],
   "source": [
    "url = f'https://api.foursquare.com/v2/venues/explore?&client_id={CLIENT_ID}&client_secret={CLIENT_SECRET}&v={VERSION}&ll={LL}&radius={RAD}&limit={LIMIT}&categoryId={CATEGORY_ID}'"
   ]
  },
  {
   "cell_type": "code",
   "execution_count": 71,
   "metadata": {},
   "outputs": [],
   "source": [
    "airports = ap.extract(url)"
   ]
  },
  {
   "cell_type": "code",
   "execution_count": 72,
   "metadata": {},
   "outputs": [],
   "source": [
    "airports_ln = places_df(airports, \"airport\", 5)"
   ]
  },
  {
   "cell_type": "code",
   "execution_count": 73,
   "metadata": {},
   "outputs": [
    {
     "data": {
      "text/html": [
       "<div>\n",
       "<style scoped>\n",
       "    .dataframe tbody tr th:only-of-type {\n",
       "        vertical-align: middle;\n",
       "    }\n",
       "\n",
       "    .dataframe tbody tr th {\n",
       "        vertical-align: top;\n",
       "    }\n",
       "\n",
       "    .dataframe thead th {\n",
       "        text-align: right;\n",
       "    }\n",
       "</style>\n",
       "<table border=\"1\" class=\"dataframe\">\n",
       "  <thead>\n",
       "    <tr style=\"text-align: right;\">\n",
       "      <th></th>\n",
       "      <th>name</th>\n",
       "      <th>latitud</th>\n",
       "      <th>longitud</th>\n",
       "      <th>category</th>\n",
       "    </tr>\n",
       "  </thead>\n",
       "  <tbody>\n",
       "    <tr>\n",
       "      <th>0</th>\n",
       "      <td>London Heathrow Airport (LHR) (London Heathrow...</td>\n",
       "      <td>51.469408</td>\n",
       "      <td>-0.462348</td>\n",
       "      <td>airport</td>\n",
       "    </tr>\n",
       "    <tr>\n",
       "      <th>1</th>\n",
       "      <td>London City Airport (LCY) (London City Airport)</td>\n",
       "      <td>51.503736</td>\n",
       "      <td>0.049638</td>\n",
       "      <td>airport</td>\n",
       "    </tr>\n",
       "    <tr>\n",
       "      <th>2</th>\n",
       "      <td>Biggin Hill Airport (BQH) (Biggin Hill Airport)</td>\n",
       "      <td>51.331794</td>\n",
       "      <td>0.028845</td>\n",
       "      <td>airport</td>\n",
       "    </tr>\n",
       "    <tr>\n",
       "      <th>3</th>\n",
       "      <td>Elstree Aerodrome</td>\n",
       "      <td>51.654570</td>\n",
       "      <td>-0.323946</td>\n",
       "      <td>airport</td>\n",
       "    </tr>\n",
       "    <tr>\n",
       "      <th>4</th>\n",
       "      <td>Terminal 4</td>\n",
       "      <td>51.459342</td>\n",
       "      <td>-0.447328</td>\n",
       "      <td>airport</td>\n",
       "    </tr>\n",
       "  </tbody>\n",
       "</table>\n",
       "</div>"
      ],
      "text/plain": [
       "                                                name    latitud  longitud  \\\n",
       "0  London Heathrow Airport (LHR) (London Heathrow...  51.469408 -0.462348   \n",
       "1    London City Airport (LCY) (London City Airport)  51.503736  0.049638   \n",
       "2    Biggin Hill Airport (BQH) (Biggin Hill Airport)  51.331794  0.028845   \n",
       "3                                  Elstree Aerodrome  51.654570 -0.323946   \n",
       "4                                         Terminal 4  51.459342 -0.447328   \n",
       "\n",
       "  category  \n",
       "0  airport  \n",
       "1  airport  \n",
       "2  airport  \n",
       "3  airport  \n",
       "4  airport  "
      ]
     },
     "execution_count": 73,
     "metadata": {},
     "output_type": "execute_result"
    }
   ],
   "source": [
    "airports_ln"
   ]
  },
  {
   "cell_type": "markdown",
   "metadata": {},
   "source": [
    "#### Nightlife "
   ]
  },
  {
   "cell_type": "code",
   "execution_count": 74,
   "metadata": {},
   "outputs": [],
   "source": [
    "CLIENT_ID = client_id\n",
    "CLIENT_SECRET = client_secret\n",
    "VERSION = '20180323'\n",
    "LIMIT = 15\n",
    "LL = '51.500152, -0.087432'\n",
    "RAD = 300\n",
    "CATEGORY_ID = '4bf58dd8d48988d116941735'"
   ]
  },
  {
   "cell_type": "code",
   "execution_count": 75,
   "metadata": {},
   "outputs": [],
   "source": [
    "url = f'https://api.foursquare.com/v2/venues/explore?&client_id={CLIENT_ID}&client_secret={CLIENT_SECRET}&v={VERSION}&ll={LL}&radius={RAD}&limit={LIMIT}&categoryId={CATEGORY_ID}'"
   ]
  },
  {
   "cell_type": "code",
   "execution_count": 76,
   "metadata": {},
   "outputs": [],
   "source": [
    "clubs = ap.extract(url)"
   ]
  },
  {
   "cell_type": "code",
   "execution_count": 77,
   "metadata": {},
   "outputs": [],
   "source": [
    "clubs_ln = places_df(clubs, \"club\", 6)"
   ]
  },
  {
   "cell_type": "code",
   "execution_count": 78,
   "metadata": {},
   "outputs": [],
   "source": [
    "frames = [airports_ln, starbucks_ln, clubs_ln]\n",
    "\n",
    "london = pd.concat(frames)"
   ]
  },
  {
   "cell_type": "code",
   "execution_count": 79,
   "metadata": {},
   "outputs": [],
   "source": [
    "offices(ln_df, map_ln)"
   ]
  },
  {
   "cell_type": "code",
   "execution_count": 80,
   "metadata": {},
   "outputs": [
    {
     "data": {
      "text/html": [
       "<div style=\"width:100%;\"><div style=\"position:relative;width:100%;height:0;padding-bottom:60%;\"><span style=\"color:#565656\">Make this Notebook Trusted to load map: File -> Trust Notebook</span><iframe src=\"about:blank\" style=\"position:absolute;width:100%;height:100%;left:0;top:0;border:none !important;\" data-html=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 onload=\"this.contentDocument.open();this.contentDocument.write(atob(this.getAttribute('data-html')));this.contentDocument.close();\" allowfullscreen webkitallowfullscreen mozallowfullscreen></iframe></div></div>"
      ],
      "text/plain": [
       "<folium.folium.Map at 0x1e909c6a160>"
      ]
     },
     "execution_count": 80,
     "metadata": {},
     "output_type": "execute_result"
    }
   ],
   "source": [
    "full_map(london, map_ln)"
   ]
  },
  {
   "cell_type": "markdown",
   "metadata": {},
   "source": [
    "### Paris"
   ]
  },
  {
   "cell_type": "code",
   "execution_count": 81,
   "metadata": {},
   "outputs": [],
   "source": [
    "initial_lat = 48.866323\n",
    "initial_long = 2.381514"
   ]
  },
  {
   "cell_type": "code",
   "execution_count": 82,
   "metadata": {},
   "outputs": [],
   "source": [
    "map_pr = mp.mapa(initial_lat, initial_long, 15)"
   ]
  },
  {
   "cell_type": "markdown",
   "metadata": {},
   "source": [
    "#### Starbucks"
   ]
  },
  {
   "cell_type": "code",
   "execution_count": 83,
   "metadata": {},
   "outputs": [],
   "source": [
    "CLIENT_ID = client_id\n",
    "CLIENT_SECRET = client_secret\n",
    "VERSION = '20180323'\n",
    "LIMIT = 15\n",
    "LL = '48.866323, 2.381514'\n",
    "RAD = 200\n",
    "QUERY = 'StarBucks'"
   ]
  },
  {
   "cell_type": "code",
   "execution_count": 84,
   "metadata": {},
   "outputs": [],
   "source": [
    "url = f'https://api.foursquare.com/v2/venues/explore?&client_id={CLIENT_ID}&client_secret={CLIENT_SECRET}&v={VERSION}&ll={LL}&radius={RAD}&query={QUERY}&limit={LIMIT}'"
   ]
  },
  {
   "cell_type": "code",
   "execution_count": 85,
   "metadata": {},
   "outputs": [],
   "source": [
    "starbucks = ap.extract(url)"
   ]
  },
  {
   "cell_type": "code",
   "execution_count": 86,
   "metadata": {},
   "outputs": [],
   "source": [
    "starbucks_pr = places_df(starbucks, \"starbucks\", 15)"
   ]
  },
  {
   "cell_type": "markdown",
   "metadata": {},
   "source": [
    "#### Airports"
   ]
  },
  {
   "cell_type": "code",
   "execution_count": 87,
   "metadata": {},
   "outputs": [],
   "source": [
    "CLIENT_ID = client_id\n",
    "CLIENT_SECRET = client_secret\n",
    "VERSION = '20180323'\n",
    "LIMIT = 5\n",
    "LL = '48.866323, 2.381514'\n",
    "RAD = 30000\n",
    "CATEGORY_ID = '4bf58dd8d48988d1ed931735'"
   ]
  },
  {
   "cell_type": "code",
   "execution_count": 88,
   "metadata": {},
   "outputs": [],
   "source": [
    "url = f'https://api.foursquare.com/v2/venues/explore?&client_id={CLIENT_ID}&client_secret={CLIENT_SECRET}&v={VERSION}&ll={LL}&radius={RAD}&limit={LIMIT}&categoryId={CATEGORY_ID}'"
   ]
  },
  {
   "cell_type": "code",
   "execution_count": 89,
   "metadata": {},
   "outputs": [],
   "source": [
    "airports = ap.extract(url)"
   ]
  },
  {
   "cell_type": "code",
   "execution_count": 90,
   "metadata": {},
   "outputs": [],
   "source": [
    "airports_pr = places_df(airports, \"airport\", 5)"
   ]
  },
  {
   "cell_type": "markdown",
   "metadata": {},
   "source": [
    "#### Nightlife\n"
   ]
  },
  {
   "cell_type": "code",
   "execution_count": 91,
   "metadata": {},
   "outputs": [],
   "source": [
    "CLIENT_ID = client_id\n",
    "CLIENT_SECRET = client_secret\n",
    "VERSION = '20180323'\n",
    "LIMIT = 15\n",
    "LL = '48.866323, 2.381514'\n",
    "RAD = 30000\n",
    "CATEGORY_ID = '4bf58dd8d48988d121941735'"
   ]
  },
  {
   "cell_type": "code",
   "execution_count": 92,
   "metadata": {},
   "outputs": [],
   "source": [
    "url = f'https://api.foursquare.com/v2/venues/explore?&client_id={CLIENT_ID}&client_secret={CLIENT_SECRET}&v={VERSION}&ll={LL}&radius={RAD}&limit={LIMIT}&categoryId={CATEGORY_ID}'"
   ]
  },
  {
   "cell_type": "code",
   "execution_count": 93,
   "metadata": {},
   "outputs": [],
   "source": [
    "clubs = ap.extract(url)"
   ]
  },
  {
   "cell_type": "code",
   "execution_count": 94,
   "metadata": {},
   "outputs": [],
   "source": [
    "clubs_pr = places_df(clubs, \"club\", 15)"
   ]
  },
  {
   "cell_type": "code",
   "execution_count": 95,
   "metadata": {},
   "outputs": [],
   "source": [
    "frames = [airports_pr, starbucks_pr, clubs_pr]\n",
    "\n",
    "paris = pd.concat(frames)"
   ]
  },
  {
   "cell_type": "code",
   "execution_count": 96,
   "metadata": {},
   "outputs": [],
   "source": [
    "offices(pr_df, map_pr)"
   ]
  },
  {
   "cell_type": "code",
   "execution_count": 97,
   "metadata": {
    "scrolled": true
   },
   "outputs": [
    {
     "data": {
      "text/html": [
       "<div style=\"width:100%;\"><div style=\"position:relative;width:100%;height:0;padding-bottom:60%;\"><span style=\"color:#565656\">Make this Notebook Trusted to load map: File -> Trust Notebook</span><iframe src=\"about:blank\" style=\"position:absolute;width:100%;height:100%;left:0;top:0;border:none !important;\" data-html=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 onload=\"this.contentDocument.open();this.contentDocument.write(atob(this.getAttribute('data-html')));this.contentDocument.close();\" allowfullscreen webkitallowfullscreen mozallowfullscreen></iframe></div></div>"
      ],
      "text/plain": [
       "<folium.folium.Map at 0x1e909d415e0>"
      ]
     },
     "execution_count": 97,
     "metadata": {},
     "output_type": "execute_result"
    }
   ],
   "source": [
    "full_map(paris, map_pr)"
   ]
  },
  {
   "cell_type": "markdown",
   "metadata": {},
   "source": [
    "### Final Analysis"
   ]
  },
  {
   "cell_type": "markdown",
   "metadata": {},
   "source": [
    "The first conclusion we extract from the visual analysis is that London can be excluded, as the companies that belong to the categories we are interested in are way to disperse and far away from the clubs and starbucks, which means our employees will not be able to enjoy themselves, something we absolutely cannot accept. Therefore, London is out of the way, and we have to choose between Paris or San Francisco.  "
   ]
  },
  {
   "cell_type": "markdown",
   "metadata": {},
   "source": [
    "#### Paris vs San Francisco"
   ]
  },
  {
   "cell_type": "markdown",
   "metadata": {},
   "source": [
    "For this section, I'm going to select one company of each city and decide in which point we should locate our new offices. The criteria used will be as follow:\n",
    "\n",
    "    - The closest Starbucks. In this case we don't care if there are many, as long as there is one not too far away\n",
    "    - The closest airport. The same reasoning as the Starbucks\n",
    "    - Number of clubs near the office. For our employees, we shoul look for an area where there a certain number of clubs neraby, as diversity is key for entertainment. \n",
    "    - Number of companies close by. \n",
    "    \n",
    "Following this reasoning, we are going to give a value to eah criteria. Fot starbucks and airports, we are going to give a different value depending on the distance. In the case of looking for numbers instead of clonseness, we will multiply the number os establishments that can be found in a range of 150 meters around the selected office, and multiply the number by a ratio. "
   ]
  },
  {
   "cell_type": "code",
   "execution_count": 98,
   "metadata": {},
   "outputs": [],
   "source": [
    "def haversine(coord1, coord2):\n",
    "\n",
    "    '''\n",
    "    This function calculates the distance between points. \n",
    "\n",
    "    The explanation of the formula is quiet complex, and it has been extracted from 'https://janakiev.com/blog/gps-points-distance-python/',\n",
    "    an article of Medium where it is everything explained with detail. \n",
    "    \n",
    "    '''\n",
    "\n",
    "    R = 6372800  # Earth radius in meters\n",
    "    lat1, lon1 = coord1\n",
    "    lat2, lon2 = coord2\n",
    "    \n",
    "    phi1, phi2 = math.radians(lat1), math.radians(lat2) \n",
    "    dphi       = math.radians(lat2 - lat1)\n",
    "    dlambda    = math.radians(lon2 - lon1)\n",
    "    \n",
    "    a = math.sin(dphi/2)**2 + \\\n",
    "        math.cos(phi1)*math.cos(phi2)*math.sin(dlambda/2)**2\n",
    "    \n",
    "    return 2*R*math.atan2(math.sqrt(a), math.sqrt(1 - a))"
   ]
  },
  {
   "cell_type": "markdown",
   "metadata": {},
   "source": [
    "#### The companies have chosen based on the visualization, checking that they were close to other companies, a Starbucks and a club, and somehow centered in the map and the coordinates"
   ]
  },
  {
   "cell_type": "markdown",
   "metadata": {},
   "source": [
    "#### Zoomvr - San Francisco"
   ]
  },
  {
   "cell_type": "code",
   "execution_count": 99,
   "metadata": {},
   "outputs": [],
   "source": [
    "CLIENT_ID = client_id\n",
    "CLIENT_SECRET = client_secret\n",
    "VERSION = '20180323'\n",
    "LIMIT = 5\n",
    "LL = '37.775196,-122.419204'\n",
    "RAD = 100\n",
    "QUERY = 'StarBucks'"
   ]
  },
  {
   "cell_type": "code",
   "execution_count": 104,
   "metadata": {},
   "outputs": [],
   "source": [
    "url = f'https://api.foursquare.com/v2/venues/explore?&client_id={CLIENT_ID}&client_secret={CLIENT_SECRET}&v={VERSION}&ll={LL}&radius={RAD}&query={QUERY}&limit={LIMIT}'\n",
    "\n",
    "len(starbucks)\n",
    "\n",
    "starbucks = ap.extract(url)\n",
    "\n",
    "closest_starbucks_sf = places_df(starbucks, \"starbucks\", 5)"
   ]
  },
  {
   "cell_type": "code",
   "execution_count": 105,
   "metadata": {},
   "outputs": [
    {
     "data": {
      "text/html": [
       "<div>\n",
       "<style scoped>\n",
       "    .dataframe tbody tr th:only-of-type {\n",
       "        vertical-align: middle;\n",
       "    }\n",
       "\n",
       "    .dataframe tbody tr th {\n",
       "        vertical-align: top;\n",
       "    }\n",
       "\n",
       "    .dataframe thead th {\n",
       "        text-align: right;\n",
       "    }\n",
       "</style>\n",
       "<table border=\"1\" class=\"dataframe\">\n",
       "  <thead>\n",
       "    <tr style=\"text-align: right;\">\n",
       "      <th></th>\n",
       "      <th>name</th>\n",
       "      <th>latitud</th>\n",
       "      <th>longitud</th>\n",
       "      <th>category</th>\n",
       "    </tr>\n",
       "  </thead>\n",
       "  <tbody>\n",
       "    <tr>\n",
       "      <th>0</th>\n",
       "      <td>Starbucks</td>\n",
       "      <td>37.777090</td>\n",
       "      <td>-122.417298</td>\n",
       "      <td>starbucks</td>\n",
       "    </tr>\n",
       "    <tr>\n",
       "      <th>1</th>\n",
       "      <td>Starbucks</td>\n",
       "      <td>37.777220</td>\n",
       "      <td>-122.419419</td>\n",
       "      <td>starbucks</td>\n",
       "    </tr>\n",
       "    <tr>\n",
       "      <th>2</th>\n",
       "      <td>Starbucks</td>\n",
       "      <td>37.769122</td>\n",
       "      <td>-122.428353</td>\n",
       "      <td>starbucks</td>\n",
       "    </tr>\n",
       "    <tr>\n",
       "      <th>3</th>\n",
       "      <td>Starbucks</td>\n",
       "      <td>37.784143</td>\n",
       "      <td>-122.407596</td>\n",
       "      <td>starbucks</td>\n",
       "    </tr>\n",
       "    <tr>\n",
       "      <th>4</th>\n",
       "      <td>Starbucks</td>\n",
       "      <td>37.782738</td>\n",
       "      <td>-122.431519</td>\n",
       "      <td>starbucks</td>\n",
       "    </tr>\n",
       "  </tbody>\n",
       "</table>\n",
       "</div>"
      ],
      "text/plain": [
       "        name    latitud    longitud   category\n",
       "0  Starbucks  37.777090 -122.417298  starbucks\n",
       "1  Starbucks  37.777220 -122.419419  starbucks\n",
       "2  Starbucks  37.769122 -122.428353  starbucks\n",
       "3  Starbucks  37.784143 -122.407596  starbucks\n",
       "4  Starbucks  37.782738 -122.431519  starbucks"
      ]
     },
     "execution_count": 105,
     "metadata": {},
     "output_type": "execute_result"
    }
   ],
   "source": [
    "closest_starbucks_sf"
   ]
  },
  {
   "cell_type": "code",
   "execution_count": 102,
   "metadata": {
    "scrolled": true
   },
   "outputs": [
    {
     "name": "stdout",
     "output_type": "stream",
     "text": [
      "airport_OAK 19451.128191215263\n",
      "airport_INT 19503.02684360474\n",
      "Starbucks 269.17794670153245\n"
     ]
    }
   ],
   "source": [
    "#This command lines will give us the distance  between points. In this case we used one of the companies from the collection\n",
    "#and calculated the distance between the company and the closest starbucks and airport\n",
    "\n",
    "Zoomvr_coord = 37.775196,-122.419204\n",
    "places = {\n",
    "    'airport_OAK': (37.710480,-122.213753),\n",
    "    'airport_INT': (37.711731,-122.212495),\n",
    "    'Starbucks': (37.777090,-122.417298)\n",
    " \n",
    "}\n",
    "\n",
    "for place, coord in places.items():\n",
    "    distance = haversine(Zoomvr_coord, coord)\n",
    "    print(place, distance)"
   ]
  },
  {
   "cell_type": "code",
   "execution_count": 149,
   "metadata": {},
   "outputs": [],
   "source": [
    "CLIENT_ID = client_id\n",
    "CLIENT_SECRET = client_secret\n",
    "VERSION = '20180323'\n",
    "LIMIT = 15\n",
    "LL = '37.775196,-122.419204'\n",
    "RAD = 150\n",
    "CATEGORY_ID = '4bf58dd8d48988d116941735'"
   ]
  },
  {
   "cell_type": "code",
   "execution_count": 152,
   "metadata": {},
   "outputs": [],
   "source": [
    "# I have chosen a range of 150 metres of radius and a limit of 15 clubs. However, in the case of San Francisco there are only\n",
    "# 7 companies that fulfill such criteria. \n",
    "\n",
    "url = f'https://api.foursquare.com/v2/venues/explore?&client_id={CLIENT_ID}&client_secret={CLIENT_SECRET}&v={VERSION}&ll={LL}&radius={RAD}&limit={LIMIT}&categoryId={CATEGORY_ID}'\n",
    "\n",
    "clubs = ap.extract(url)\n",
    "\n",
    "closest_clubs_sf = places_df(clubs, \"club\", 7)"
   ]
  },
  {
   "cell_type": "code",
   "execution_count": 151,
   "metadata": {},
   "outputs": [
    {
     "data": {
      "text/plain": [
       "7"
      ]
     },
     "execution_count": 151,
     "metadata": {},
     "output_type": "execute_result"
    }
   ],
   "source": [
    "len(closest_clubs_sf)"
   ]
  },
  {
   "cell_type": "markdown",
   "metadata": {},
   "source": [
    "#### Netvibes - Paris"
   ]
  },
  {
   "cell_type": "code",
   "execution_count": 110,
   "metadata": {},
   "outputs": [],
   "source": [
    "CLIENT_ID = client_id\n",
    "CLIENT_SECRET = client_secret\n",
    "VERSION = '20180323'\n",
    "LIMIT = 5\n",
    "LL = '48.870806,2.346680'\n",
    "RAD = 100\n",
    "QUERY = 'StarBucks'"
   ]
  },
  {
   "cell_type": "code",
   "execution_count": 111,
   "metadata": {},
   "outputs": [],
   "source": [
    "url = f'https://api.foursquare.com/v2/venues/explore?&client_id={CLIENT_ID}&client_secret={CLIENT_SECRET}&v={VERSION}&ll={LL}&radius={RAD}&query={QUERY}&limit={LIMIT}'\n",
    "\n",
    "starbucks = ap.extract(url)\n",
    "\n",
    "closest_starbucks_pr = places_df(starbucks, \"starbucks\", 5)"
   ]
  },
  {
   "cell_type": "code",
   "execution_count": 112,
   "metadata": {},
   "outputs": [
    {
     "data": {
      "text/html": [
       "<div>\n",
       "<style scoped>\n",
       "    .dataframe tbody tr th:only-of-type {\n",
       "        vertical-align: middle;\n",
       "    }\n",
       "\n",
       "    .dataframe tbody tr th {\n",
       "        vertical-align: top;\n",
       "    }\n",
       "\n",
       "    .dataframe thead th {\n",
       "        text-align: right;\n",
       "    }\n",
       "</style>\n",
       "<table border=\"1\" class=\"dataframe\">\n",
       "  <thead>\n",
       "    <tr style=\"text-align: right;\">\n",
       "      <th></th>\n",
       "      <th>name</th>\n",
       "      <th>latitud</th>\n",
       "      <th>longitud</th>\n",
       "      <th>category</th>\n",
       "    </tr>\n",
       "  </thead>\n",
       "  <tbody>\n",
       "    <tr>\n",
       "      <th>0</th>\n",
       "      <td>Starbucks</td>\n",
       "      <td>48.870865</td>\n",
       "      <td>2.347020</td>\n",
       "      <td>starbucks</td>\n",
       "    </tr>\n",
       "    <tr>\n",
       "      <th>1</th>\n",
       "      <td>Starbucks France</td>\n",
       "      <td>48.869916</td>\n",
       "      <td>2.344444</td>\n",
       "      <td>starbucks</td>\n",
       "    </tr>\n",
       "    <tr>\n",
       "      <th>2</th>\n",
       "      <td>Starbucks</td>\n",
       "      <td>48.867229</td>\n",
       "      <td>2.347180</td>\n",
       "      <td>starbucks</td>\n",
       "    </tr>\n",
       "    <tr>\n",
       "      <th>3</th>\n",
       "      <td>Starbucks</td>\n",
       "      <td>48.871936</td>\n",
       "      <td>2.340611</td>\n",
       "      <td>starbucks</td>\n",
       "    </tr>\n",
       "    <tr>\n",
       "      <th>4</th>\n",
       "      <td>Starbucks</td>\n",
       "      <td>48.876078</td>\n",
       "      <td>2.344639</td>\n",
       "      <td>starbucks</td>\n",
       "    </tr>\n",
       "  </tbody>\n",
       "</table>\n",
       "</div>"
      ],
      "text/plain": [
       "               name    latitud  longitud   category\n",
       "0         Starbucks  48.870865  2.347020  starbucks\n",
       "1  Starbucks France  48.869916  2.344444  starbucks\n",
       "2         Starbucks  48.867229  2.347180  starbucks\n",
       "3         Starbucks  48.871936  2.340611  starbucks\n",
       "4         Starbucks  48.876078  2.344639  starbucks"
      ]
     },
     "execution_count": 112,
     "metadata": {},
     "output_type": "execute_result"
    }
   ],
   "source": [
    "closest_starbucks_pr"
   ]
  },
  {
   "cell_type": "code",
   "execution_count": 114,
   "metadata": {},
   "outputs": [
    {
     "name": "stdout",
     "output_type": "stream",
     "text": [
      "airport_leBourget 11673.532058339944\n",
      "airport_ORY 15911.2772019664\n",
      "Starbucks 25.725511381572666\n"
     ]
    }
   ],
   "source": [
    "Netvibes_coord = 48.870806,2.346680\n",
    "places = {\n",
    "\n",
    "    'airport_leBourget': (48.955101,2.441819),\n",
    "    'airport_ORY': (48.728313, 2.365880),\n",
    "    'Starbucks': (48.870865, 2.347020)\n",
    " \n",
    "}\n",
    "\n",
    "for place, coord in places.items():\n",
    "    distance = haversine(Netvibes_coord, coord)\n",
    "    print(place, distance)"
   ]
  },
  {
   "cell_type": "code",
   "execution_count": 142,
   "metadata": {},
   "outputs": [],
   "source": [
    "CLIENT_ID = client_id\n",
    "CLIENT_SECRET = client_secret\n",
    "VERSION = '20180323'\n",
    "LIMIT = 15\n",
    "LL = '48.870806,2.346680'\n",
    "RAD = 150\n",
    "CATEGORY_ID = '4bf58dd8d48988d116941735'"
   ]
  },
  {
   "cell_type": "code",
   "execution_count": 143,
   "metadata": {},
   "outputs": [],
   "source": [
    "url = f'https://api.foursquare.com/v2/venues/explore?&client_id={CLIENT_ID}&client_secret={CLIENT_SECRET}&v={VERSION}&ll={LL}&radius={RAD}&limit={LIMIT}&categoryId={CATEGORY_ID}'\n",
    "\n",
    "clubs = ap.extract(url)\n",
    "\n",
    "closest_clubs_pr = places_df(clubs, \"club\", 15)\n"
   ]
  },
  {
   "cell_type": "markdown",
   "metadata": {},
   "source": [
    "#### Conclusion "
   ]
  },
  {
   "cell_type": "markdown",
   "metadata": {},
   "source": [
    "From this results we can see that:\n",
    "\n",
    "    - The company in San Francisco has only 7 clubs in a 150 meter radius, while the one in Paris has 15 (maybe more, as the limit set was 15). \n",
    "    - The closest Starbukcs is 27 meters away from the point in Paris, while in San Francisco it is located 270 metres away. \n",
    "    - Respect the airports, in Paris we can find two airports at a distance of 16km and 11.7km, while in San Francisco the two options are located 19km and 19.5km each. It is also important to mention that one of the airports in San Francisco, the OAK, is located on the othe side of the bay, which means our account managers will have to take a boat or something else rather than a cap to get there. "
   ]
  },
  {
   "cell_type": "markdown",
   "metadata": {},
   "source": [
    "San Francisco has always been known as the place of birth of enterpreneurship and startups, but there are other locations that are starting to take their place in this field, and Paris seems like a perfect place to start our own company, with many companies nearby from which our developers can learn and exchange experiences, and plenty of clubs and starbucks for our employees to enjoy themselves after a hard day of work. Also, facing the company's growth, it could be a better option to locate our offices in a city where the industry is growing, instead of doing it in a city where it is solidly established."
   ]
  },
  {
   "cell_type": "code",
   "execution_count": null,
   "metadata": {},
   "outputs": [],
   "source": []
  }
 ],
 "metadata": {
  "kernelspec": {
   "display_name": "Python 3",
   "language": "python",
   "name": "python3"
  },
  "language_info": {
   "codemirror_mode": {
    "name": "ipython",
    "version": 3
   },
   "file_extension": ".py",
   "mimetype": "text/x-python",
   "name": "python",
   "nbconvert_exporter": "python",
   "pygments_lexer": "ipython3",
   "version": "3.8.3"
  }
 },
 "nbformat": 4,
 "nbformat_minor": 4
}
